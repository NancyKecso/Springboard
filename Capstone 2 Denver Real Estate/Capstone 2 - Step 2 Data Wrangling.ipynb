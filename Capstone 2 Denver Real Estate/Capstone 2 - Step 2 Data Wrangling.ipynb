{
 "cells": [
  {
   "cell_type": "markdown",
   "metadata": {
    "colab_type": "text",
    "id": "cf5CmXQCZyF1"
   },
   "source": [
    "# Capstone 2 - Step 2: Data Wrangling\n",
    "\n",
    "\n",
    "I originally intended to source data from Zillow but discovered that the data available for download was very minimal.  I found an alternative source on the Denver City and County Open Data site."
   ]
  },
  {
   "cell_type": "markdown",
   "metadata": {
    "colab_type": "text",
    "id": "9YQUNzQ_PqR9"
   },
   "source": [
    "## Data Collection"
   ]
  },
  {
   "cell_type": "code",
   "execution_count": 1,
   "metadata": {
    "colab": {},
    "colab_type": "code",
    "id": "ry6WPL5eZyF3"
   },
   "outputs": [],
   "source": [
    "#load python packages\n",
    "import os\n",
    "import pandas as pd"
   ]
  },
  {
   "cell_type": "code",
   "execution_count": 2,
   "metadata": {},
   "outputs": [],
   "source": [
    "pd.set_option('display.max_rows', 500)"
   ]
  },
  {
   "cell_type": "markdown",
   "metadata": {},
   "source": [
    "**<font color='teal'> Print the current working directory </font>**"
   ]
  },
  {
   "cell_type": "code",
   "execution_count": 3,
   "metadata": {},
   "outputs": [
    {
     "name": "stdout",
     "output_type": "stream",
     "text": [
      "C:\\Users\\Nancy\\Documents\\GitHub\\Springboard\\Capstone 2 Denver Real Estate\n"
     ]
    }
   ],
   "source": [
    "print(os.getcwd())"
   ]
  },
  {
   "cell_type": "code",
   "execution_count": 4,
   "metadata": {},
   "outputs": [
    {
     "name": "stdout",
     "output_type": "stream",
     "text": [
      "['.ipynb_checkpoints', 'Capstone 2 - Step 2 Data Wrangling.ipynb', 'Capstone 2 - Step 3 Exploratory Data Analysis.ipynb', 'data', 'figures', 'models']\n"
     ]
    }
   ],
   "source": [
    "print(os.listdir(os.curdir))"
   ]
  },
  {
   "cell_type": "markdown",
   "metadata": {
    "colab_type": "text",
    "id": "630T-ogRZyF8"
   },
   "source": [
    "### Load the sales data from the csv file\n",
    "The sales file is on the Denver Open Data Catalog\n"
   ]
  },
  {
   "cell_type": "code",
   "execution_count": 5,
   "metadata": {
    "colab": {},
    "colab_type": "code",
    "id": "dMNbk0u3ZyF9",
    "scrolled": true
   },
   "outputs": [
    {
     "name": "stderr",
     "output_type": "stream",
     "text": [
      "C:\\ProgramData\\Anaconda3\\lib\\site-packages\\IPython\\core\\interactiveshell.py:3063: DtypeWarning: Columns (1) have mixed types.Specify dtype option on import or set low_memory=False.\n",
      "  interactivity=interactivity, compiler=compiler, result=result)\n"
     ]
    }
   ],
   "source": [
    "url=\"https://www.denvergov.org/media/gis/DataCatalog/real_property_sales_and_transfers/csv/real_property_sales_and_transfers.csv\"\n",
    "df_sales = pd.read_csv(url,encoding='latin1')"
   ]
  },
  {
   "cell_type": "markdown",
   "metadata": {},
   "source": [
    "### Check on what has been loaded for Sales\n",
    "The file contains all sales and transfers for many real estate categories"
   ]
  },
  {
   "cell_type": "code",
   "execution_count": 6,
   "metadata": {},
   "outputs": [
    {
     "name": "stdout",
     "output_type": "stream",
     "text": [
      "D_CLASS_CN\n",
      "101 CONDO PKG                      5521\n",
      "10S CONDO STORAGE                   218\n",
      "ANIMAL GROOMING-SMALL                 4\n",
      "APARTMENT UNIT W/COMM                47\n",
      "APT HIGH-RISE>9 UNT,10+ST            18\n",
      "APT LOW-RISE>9UNT, WALK-UP         1311\n",
      "APT MID-RISE>9 UNT,1-9STY           173\n",
      "APT MISC, PKG, CLUBHOUSES           113\n",
      "APT W/2 UNITS                      3539\n",
      "APT W/3 UNITS                       613\n",
      "APT W/4 UNITS                       970\n",
      "APT W/5 UNITS                        98\n",
      "APT W/6 UNITS                       196\n",
      "APT W/7 UNITS                        69\n",
      "APT W/8 UNITS                        92\n",
      "AUTO DEAL SALES OFC ONLY             28\n",
      "AUTO DEAL W/OTHER USE                11\n",
      "AUTO DEALER CONV FROM RES             3\n",
      "AUTO DEALER LARGE                    16\n",
      "AUTO DEALER MED SHOWROOM             12\n",
      "AUTO DEARLER CONV FROM SS            15\n",
      "AUTO SERVICE                        317\n",
      "AUTO SVC. W/RES                       7\n",
      "AUTO/TRUCK TERMINAL 1 STORY           6\n",
      "AUTO/TRUCK TERMINAL 2 STORY           1\n",
      "BRICK PLANT                           1\n",
      "BROADCAST FACILITY                    5\n",
      "CARWASH - LARGE                      14\n",
      "CARWASH MEDIUM-LINE ATTND            12\n",
      "CARWASH SMALL-COIN OPER              30\n",
      "CEMETERY BUILDING                     1\n",
      "CHURCH BUILT AS CHURCH              135\n",
      "CHURCH-CONV FRO OTH USE              22\n",
      "COML LAND W/ RES USE                  2\n",
      "CONDOMINIUM                       66107\n",
      "CONV. RETAIL                         93\n",
      "DCL MISC RES IMPS                   121\n",
      "DENVER PARK                          64\n",
      "DEPT/SUPERMKT                        23\n",
      "DRY CLEANING                          4\n",
      "DRY FARM LAND                        25\n",
      "FACTORY                             197\n",
      "FACTORY W/RES                         1\n",
      "FINANCIAL BLDG                       32\n",
      "FINANCL CONDO                         8\n",
      "FIRE STATION                          6\n",
      "FOOD PROCESS                         54\n",
      "FRANCHISE REST                      179\n",
      "GAS STATION                          73\n",
      "GRAIN ELEVATOR LARGE                  1\n",
      "GREENHOUSE LARGE                      7\n",
      "GROUP/BOARDING HOME-1 KIT            24\n",
      "HEALTH SPA                           15\n",
      "HOSPITALS                             1\n",
      "HOTEL - B & B                         2\n",
      "HOTEL - CONDOMINIUMS                 43\n",
      "HOTEL - LARGE CHAIN/CONF             50\n",
      "HOTEL - MINIMAL AMENITIES            16\n",
      "HOTEL - RESIDENCE/SUITE              53\n",
      "HOTEL-SMALL OVER 1ST FLR COMM         9\n",
      "JAIL                                  5\n",
      "KENNELS-MEDIUM                       15\n",
      "LAUNDROMAT                           15\n",
      "LIBRARY                               3\n",
      "MANUFACTURING                        16\n",
      "MEAT PACKING                          7\n",
      "MEDICAL BLDG                        149\n",
      "MEDICAL CLINIC                       10\n",
      "MEDICAL CONDO                        36\n",
      "MEETING HALL                         43\n",
      "MINI-DISCOUNT                        54\n",
      "MINI-STORAGE                         63\n",
      "MISC IMPS-TIE BACK                  682\n",
      "MISC MOBILE HOME PARK/IMP            26\n",
      "MISC ROWHOUSE IMPS                 1594\n",
      "MISC. SITE IMPROVEMENTS             777\n",
      "MIXED USE-AUTO DEALER/RESD            5\n",
      "MIXED USE-HOTEL/RESD                 31\n",
      "MIXED USE-MISC IMPS/RESD              3\n",
      "MIXED USE-MOTEL/RESD                 32\n",
      "MIXED USE-RETAIL/RESD                 3\n",
      "MIXED USE-SOCIAL/RESD                12\n",
      "MIXED USE-THEATER/RESD                1\n",
      "MOBILE HOME - IMP ONLY               67\n",
      "MORTUARIES                            8\n",
      "MOTEL - CHAIN MIN AMENITIES          14\n",
      "MOTEL - CHAIN/CONF/REST              21\n",
      "MOTEL - OLD COURT STYPE               8\n",
      "NURSING HOME                         38\n",
      "NWSS                                121\n",
      "OFFICE BLDG                        1354\n",
      "OFFICE CONDO                        664\n",
      "OFFICE CONVRSN                      290\n",
      "OFFICE W/RESID                      109\n",
      "OTHER REC FACILITIES                 26\n",
      "PARKING GARAGE 1 STORY               42\n",
      "PARKING GARAGE 8 STORY              123\n",
      "PBG HIGH-RISE, EL, 10+STY            34\n",
      "PBG LOW-RISE, WALK-UP               226\n",
      "PBG MID-RISE, EL, 1-9 STY           316\n",
      "PBG ON MORE THAN 1 PARCEL            85\n",
      "POLICE/FIRE                           3\n",
      "PRESCHOOLER NURSERY                  54\n",
      "PRINTING                              1\n",
      "REST. CONDO                          72\n",
      "REST. CONVRSN                        17\n",
      "REST. W/RESID                        47\n",
      "RESTAURANT                          652\n",
      "RETAIL CONDO                        269\n",
      "RETAIL CONVRSN                      127\n",
      "RETAIL W/RESID                      272\n",
      "RETAIL, MULTI                       507\n",
      "RETAIL, SINGLE                      608\n",
      "ROWHOUSE                          44231\n",
      "SCHOOL                              115\n",
      "SENIOR CITIZEN APARTMENT             18\n",
      "SHOPPETTE                           164\n",
      "SHOPPING CENTER BLDG                197\n",
      "SINGLE FAMILY                    197078\n",
      "SINGLE FAMILY MISC/LIV                3\n",
      "SPECIAL PURPOSE                       4\n",
      "THEATER LARGE                         4\n",
      "THEATER MEDIUM                        3\n",
      "THEATER SMALL                        11\n",
      "VCNT LAND                          3284\n",
      "VCNT LAND - RES RATIO              1104\n",
      "VCNT LAND I-0 ZONE                  284\n",
      "VCNT LAND R-X ZONE                 1138\n",
      "VCNT LAND W/MINOR STR                 6\n",
      "WAREHOUSE                          2563\n",
      "WAREHOUSE C&R                        28\n",
      "dtype: int64\n"
     ]
    }
   ],
   "source": [
    "print(df_sales.groupby(['D_CLASS_CN']).size())"
   ]
  },
  {
   "cell_type": "markdown",
   "metadata": {},
   "source": [
    "### subset the sales file\n",
    "only retain the single family sales types that show a nonzero sales price"
   ]
  },
  {
   "cell_type": "code",
   "execution_count": 7,
   "metadata": {},
   "outputs": [
    {
     "name": "stdout",
     "output_type": "stream",
     "text": [
      "           SCHEDNUM      SALE_YEAR  SALE_MONTHDAY  RECEPTION_DATE  \\\n",
      "count  1.483460e+05  148346.000000   148346.00000    1.483460e+05   \n",
      "mean   3.586659e+11    2014.107802      673.94225    2.014210e+07   \n",
      "std    2.337940e+11       3.487885      330.68469    3.488450e+04   \n",
      "min    1.410100e+10    2008.000000      101.00000    1.969123e+07   \n",
      "25%    1.304160e+11    2011.000000      412.00000    2.011110e+07   \n",
      "50%    5.015210e+11    2014.000000      630.00000    2.014122e+07   \n",
      "75%    5.265120e+11    2017.000000      928.00000    2.017072e+07   \n",
      "max    9.145050e+11    2020.000000     1231.00000    2.020052e+07   \n",
      "\n",
      "         SALE_PRICE       MKT_CLUS         NBHD_1           PIN  \n",
      "count  1.483460e+05  148344.000000  148346.000000  1.483460e+05  \n",
      "mean   4.553823e+05      16.347321     366.021079  1.617337e+08  \n",
      "std    1.315103e+06       9.698378     247.382400  1.046588e+06  \n",
      "min    1.000000e+00       1.000000       1.000000  1.604339e+08  \n",
      "25%    9.100000e+04       7.000000     127.000000  1.608884e+08  \n",
      "50%    2.750000e+05      16.000000     509.000000  1.614992e+08  \n",
      "75%    4.500000e+05      24.000000     580.000000  1.621061e+08  \n",
      "max    4.950000e+07      54.000000     906.000000  1.643503e+08  \n"
     ]
    }
   ],
   "source": [
    "df_sfr = df_sales.loc[(df_sales['D_CLASS_CN'] == 'SINGLE FAMILY')&(df_sales['SALE_PRICE']>0)]\n",
    "print(df_sfr.describe())"
   ]
  },
  {
   "cell_type": "markdown",
   "metadata": {},
   "source": [
    "### Load the characteristics data from the csv file\n",
    "The residential characteristics file is on the Denver Open Data Catalog\n"
   ]
  },
  {
   "cell_type": "code",
   "execution_count": 8,
   "metadata": {
    "colab": {},
    "colab_type": "code",
    "id": "dMNbk0u3ZyF9",
    "scrolled": true
   },
   "outputs": [
    {
     "name": "stdout",
     "output_type": "stream",
     "text": [
      "                PIN      SCHEDNUM        CD         OFCARD       SITE_NBR  \\\n",
      "count  2.092050e+05  2.092050e+05  209205.0  209205.000000  209205.000000   \n",
      "mean   1.620467e+08  4.067886e+11       1.0       1.005177    3606.450639   \n",
      "std    1.103371e+06  2.278001e+11       0.0       0.194022    3790.424715   \n",
      "min    1.600890e+08  4.100122e+09       1.0       1.000000       1.000000   \n",
      "25%    1.611652e+08  2.231011e+11       1.0       1.000000    1250.000000   \n",
      "50%    1.618121e+08  5.066030e+11       1.0       1.000000    2660.000000   \n",
      "75%    1.629696e+08  5.361190e+11       1.0       1.000000    4577.000000   \n",
      "max    1.643607e+08  1.223100e+12       1.0      35.000000   26100.000000   \n",
      "\n",
      "          PROP_CLASS     LAND_SQFT       AREA_ABG      BSMT_AREA  \\\n",
      "count  209205.000000  2.085220e+05  209205.000000  209205.000000   \n",
      "mean     1253.925542  5.398927e+03    1367.792084     494.626940   \n",
      "std      1081.818380  1.420498e+04     795.242857     557.700834   \n",
      "min       100.000000  0.000000e+00       0.000000       0.000000   \n",
      "25%      1112.000000  2.196000e+03     901.000000       0.000000   \n",
      "50%      1112.000000  5.200000e+03    1188.000000     306.000000   \n",
      "75%      1114.000000  6.760000e+03    1674.000000     934.000000   \n",
      "max      9429.000000  2.768914e+06   18231.000000    8712.000000   \n",
      "\n",
      "          FBSMT_SQFT  ...        CCYRBLT       CCAGE_RM          UNITS  \\\n",
      "count  209205.000000  ...  199103.000000  199103.000000  209205.000000   \n",
      "mean      295.452570  ...    1961.628996     742.219936       0.974943   \n",
      "std       452.130985  ...      35.319736     968.667543       0.321833   \n",
      "min         0.000000  ...    1873.000000       0.000000       0.000000   \n",
      "25%         0.000000  ...    1941.000000       0.000000       1.000000   \n",
      "50%         0.000000  ...    1961.000000       0.000000       1.000000   \n",
      "75%       632.000000  ...    1995.000000    2003.000000       1.000000   \n",
      "max      8276.000000  ...    2019.000000    3000.000000      13.000000   \n",
      "\n",
      "       ASMT_APPR_LAND   TOTAL_VALUE       ASDLAND  ASSESS_VALUE  ASMT_TAXABLE  \\\n",
      "count    2.092050e+05  2.092050e+05  2.092050e+05  2.092050e+05  2.092050e+05   \n",
      "mean     1.819078e+05  4.759832e+05  1.339507e+04  3.443488e+04  3.411598e+04   \n",
      "std      2.138932e+05  3.761137e+05  2.277011e+04  3.153908e+04  2.930232e+04   \n",
      "min      0.000000e+00  1.000000e+02  0.000000e+00  7.000000e+00  0.000000e+00   \n",
      "25%      5.110000e+04  2.986000e+05  3.682000e+03  2.140700e+04  2.133000e+04   \n",
      "50%      1.109000e+05  3.942000e+05  7.972000e+03  2.825700e+04  2.818000e+04   \n",
      "75%      2.574000e+05  5.585000e+05  1.849000e+04  4.004000e+04  3.994000e+04   \n",
      "max      1.429270e+07  1.983910e+07  4.144883e+06  4.144883e+06  4.144880e+06   \n",
      "\n",
      "       ASMT_EXEMPT_AMT         NBHD_1  \n",
      "count     2.092050e+05  209205.000000  \n",
      "mean      3.199601e+02     418.563720  \n",
      "std       1.256292e+04     238.624862  \n",
      "min       0.000000e+00       1.000000  \n",
      "25%       0.000000e+00     219.000000  \n",
      "50%       0.000000e+00     519.000000  \n",
      "75%       0.000000e+00     597.000000  \n",
      "max       2.818310e+06     906.000000  \n",
      "\n",
      "[8 rows x 25 columns]\n"
     ]
    }
   ],
   "source": [
    "url=\"https://www.denvergov.org/media/gis/DataCatalog/real_property_residential_characteristics/csv/real_property_residential_characteristics.csv\"\n",
    "df_char = pd.read_csv(url,encoding='latin1')\n",
    "print(df_char.describe())"
   ]
  },
  {
   "cell_type": "markdown",
   "metadata": {},
   "source": [
    "### Merge the characteristics into the sales \n",
    "Get the characteristics for each home that was sold from the characteristics file"
   ]
  },
  {
   "cell_type": "code",
   "execution_count": 9,
   "metadata": {},
   "outputs": [],
   "source": [
    "df = pd.merge(df_sfr, df_char, how='inner', on='PIN')"
   ]
  },
  {
   "cell_type": "code",
   "execution_count": 10,
   "metadata": {},
   "outputs": [
    {
     "data": {
      "text/html": [
       "<div>\n",
       "<style scoped>\n",
       "    .dataframe tbody tr th:only-of-type {\n",
       "        vertical-align: middle;\n",
       "    }\n",
       "\n",
       "    .dataframe tbody tr th {\n",
       "        vertical-align: top;\n",
       "    }\n",
       "\n",
       "    .dataframe thead th {\n",
       "        text-align: right;\n",
       "    }\n",
       "</style>\n",
       "<table border=\"1\" class=\"dataframe\">\n",
       "  <thead>\n",
       "    <tr style=\"text-align: right;\">\n",
       "      <th></th>\n",
       "      <th>SCHEDNUM_x</th>\n",
       "      <th>RECEPTION_NUM</th>\n",
       "      <th>INSTRUMENT</th>\n",
       "      <th>SALE_YEAR</th>\n",
       "      <th>SALE_MONTHDAY</th>\n",
       "      <th>RECEPTION_DATE</th>\n",
       "      <th>SALE_PRICE</th>\n",
       "      <th>GRANTOR</th>\n",
       "      <th>GRANTEE</th>\n",
       "      <th>CLASS</th>\n",
       "      <th>...</th>\n",
       "      <th>UNITS</th>\n",
       "      <th>ASMT_APPR_LAND</th>\n",
       "      <th>TOTAL_VALUE</th>\n",
       "      <th>ASDLAND</th>\n",
       "      <th>ASSESS_VALUE</th>\n",
       "      <th>ASMT_TAXABLE</th>\n",
       "      <th>ASMT_EXEMPT_AMT</th>\n",
       "      <th>NBHD_1_y</th>\n",
       "      <th>NBHD_1_CN_y</th>\n",
       "      <th>LEGL_DESCRIPTION</th>\n",
       "    </tr>\n",
       "  </thead>\n",
       "  <tbody>\n",
       "    <tr>\n",
       "      <th>0</th>\n",
       "      <td>14101001000</td>\n",
       "      <td>2008138043</td>\n",
       "      <td>WD</td>\n",
       "      <td>2008</td>\n",
       "      <td>703</td>\n",
       "      <td>20081008</td>\n",
       "      <td>10.0</td>\n",
       "      <td>ATKINSON,RUSSELL</td>\n",
       "      <td>DREAM BUILDERS LLC</td>\n",
       "      <td>R</td>\n",
       "      <td>...</td>\n",
       "      <td>1</td>\n",
       "      <td>103000</td>\n",
       "      <td>530200</td>\n",
       "      <td>7365</td>\n",
       "      <td>37910</td>\n",
       "      <td>37920</td>\n",
       "      <td>0</td>\n",
       "      <td>5</td>\n",
       "      <td>N GREEN VALLEY</td>\n",
       "      <td>GREEN VALLEY RANCH FLG #36 B1  L1</td>\n",
       "    </tr>\n",
       "    <tr>\n",
       "      <th>1</th>\n",
       "      <td>14101001000</td>\n",
       "      <td>2009074518</td>\n",
       "      <td>WD</td>\n",
       "      <td>2009</td>\n",
       "      <td>605</td>\n",
       "      <td>20090615</td>\n",
       "      <td>299000.0</td>\n",
       "      <td>ATKINSON,RUSSELL</td>\n",
       "      <td>PADBURY,CHRISTOPHER R</td>\n",
       "      <td>R</td>\n",
       "      <td>...</td>\n",
       "      <td>1</td>\n",
       "      <td>103000</td>\n",
       "      <td>530200</td>\n",
       "      <td>7365</td>\n",
       "      <td>37910</td>\n",
       "      <td>37920</td>\n",
       "      <td>0</td>\n",
       "      <td>5</td>\n",
       "      <td>N GREEN VALLEY</td>\n",
       "      <td>GREEN VALLEY RANCH FLG #36 B1  L1</td>\n",
       "    </tr>\n",
       "    <tr>\n",
       "      <th>2</th>\n",
       "      <td>14101001000</td>\n",
       "      <td>2015157653</td>\n",
       "      <td>WD</td>\n",
       "      <td>2015</td>\n",
       "      <td>1102</td>\n",
       "      <td>20151109</td>\n",
       "      <td>415000.0</td>\n",
       "      <td>PADBURY,CHRISTOPHER R</td>\n",
       "      <td>MACIEL,HORACIO PEREZ</td>\n",
       "      <td>R</td>\n",
       "      <td>...</td>\n",
       "      <td>1</td>\n",
       "      <td>103000</td>\n",
       "      <td>530200</td>\n",
       "      <td>7365</td>\n",
       "      <td>37910</td>\n",
       "      <td>37920</td>\n",
       "      <td>0</td>\n",
       "      <td>5</td>\n",
       "      <td>N GREEN VALLEY</td>\n",
       "      <td>GREEN VALLEY RANCH FLG #36 B1  L1</td>\n",
       "    </tr>\n",
       "    <tr>\n",
       "      <th>3</th>\n",
       "      <td>14101001000</td>\n",
       "      <td>2009002129</td>\n",
       "      <td>WD</td>\n",
       "      <td>2008</td>\n",
       "      <td>1024</td>\n",
       "      <td>20090108</td>\n",
       "      <td>10.0</td>\n",
       "      <td>DREAM BUILDERS LLC</td>\n",
       "      <td>ATKINSON,RUSSELL</td>\n",
       "      <td>R</td>\n",
       "      <td>...</td>\n",
       "      <td>1</td>\n",
       "      <td>103000</td>\n",
       "      <td>530200</td>\n",
       "      <td>7365</td>\n",
       "      <td>37910</td>\n",
       "      <td>37920</td>\n",
       "      <td>0</td>\n",
       "      <td>5</td>\n",
       "      <td>N GREEN VALLEY</td>\n",
       "      <td>GREEN VALLEY RANCH FLG #36 B1  L1</td>\n",
       "    </tr>\n",
       "    <tr>\n",
       "      <th>4</th>\n",
       "      <td>14101002000</td>\n",
       "      <td>2010094573</td>\n",
       "      <td>WD</td>\n",
       "      <td>2010</td>\n",
       "      <td>823</td>\n",
       "      <td>20100824</td>\n",
       "      <td>350000.0</td>\n",
       "      <td>SHEARON,MARK H &amp;</td>\n",
       "      <td>EFREM,TEWEDROS</td>\n",
       "      <td>R</td>\n",
       "      <td>...</td>\n",
       "      <td>1</td>\n",
       "      <td>90400</td>\n",
       "      <td>572600</td>\n",
       "      <td>6464</td>\n",
       "      <td>40941</td>\n",
       "      <td>40940</td>\n",
       "      <td>0</td>\n",
       "      <td>5</td>\n",
       "      <td>N GREEN VALLEY</td>\n",
       "      <td>GREEN VALLEY RANCH FLG #36 B1  L2</td>\n",
       "    </tr>\n",
       "  </tbody>\n",
       "</table>\n",
       "<p>5 rows × 61 columns</p>\n",
       "</div>"
      ],
      "text/plain": [
       "    SCHEDNUM_x RECEPTION_NUM INSTRUMENT  SALE_YEAR  SALE_MONTHDAY  \\\n",
       "0  14101001000    2008138043         WD       2008            703   \n",
       "1  14101001000    2009074518         WD       2009            605   \n",
       "2  14101001000    2015157653         WD       2015           1102   \n",
       "3  14101001000    2009002129         WD       2008           1024   \n",
       "4  14101002000    2010094573         WD       2010            823   \n",
       "\n",
       "   RECEPTION_DATE  SALE_PRICE                GRANTOR                GRANTEE  \\\n",
       "0        20081008        10.0       ATKINSON,RUSSELL     DREAM BUILDERS LLC   \n",
       "1        20090615    299000.0       ATKINSON,RUSSELL  PADBURY,CHRISTOPHER R   \n",
       "2        20151109    415000.0  PADBURY,CHRISTOPHER R   MACIEL,HORACIO PEREZ   \n",
       "3        20090108        10.0     DREAM BUILDERS LLC       ATKINSON,RUSSELL   \n",
       "4        20100824    350000.0       SHEARON,MARK H &         EFREM,TEWEDROS   \n",
       "\n",
       "  CLASS  ...  UNITS ASMT_APPR_LAND TOTAL_VALUE  ASDLAND ASSESS_VALUE  \\\n",
       "0     R  ...      1         103000      530200     7365        37910   \n",
       "1     R  ...      1         103000      530200     7365        37910   \n",
       "2     R  ...      1         103000      530200     7365        37910   \n",
       "3     R  ...      1         103000      530200     7365        37910   \n",
       "4     R  ...      1          90400      572600     6464        40941   \n",
       "\n",
       "   ASMT_TAXABLE  ASMT_EXEMPT_AMT  NBHD_1_y     NBHD_1_CN_y  \\\n",
       "0         37920                0         5  N GREEN VALLEY   \n",
       "1         37920                0         5  N GREEN VALLEY   \n",
       "2         37920                0         5  N GREEN VALLEY   \n",
       "3         37920                0         5  N GREEN VALLEY   \n",
       "4         40940                0         5  N GREEN VALLEY   \n",
       "\n",
       "                    LEGL_DESCRIPTION  \n",
       "0  GREEN VALLEY RANCH FLG #36 B1  L1  \n",
       "1  GREEN VALLEY RANCH FLG #36 B1  L1  \n",
       "2  GREEN VALLEY RANCH FLG #36 B1  L1  \n",
       "3  GREEN VALLEY RANCH FLG #36 B1  L1  \n",
       "4  GREEN VALLEY RANCH FLG #36 B1  L2  \n",
       "\n",
       "[5 rows x 61 columns]"
      ]
     },
     "execution_count": 10,
     "metadata": {},
     "output_type": "execute_result"
    }
   ],
   "source": [
    "df.head()"
   ]
  },
  {
   "cell_type": "code",
   "execution_count": 11,
   "metadata": {},
   "outputs": [
    {
     "data": {
      "text/html": [
       "<div>\n",
       "<style scoped>\n",
       "    .dataframe tbody tr th:only-of-type {\n",
       "        vertical-align: middle;\n",
       "    }\n",
       "\n",
       "    .dataframe tbody tr th {\n",
       "        vertical-align: top;\n",
       "    }\n",
       "\n",
       "    .dataframe thead th {\n",
       "        text-align: right;\n",
       "    }\n",
       "</style>\n",
       "<table border=\"1\" class=\"dataframe\">\n",
       "  <thead>\n",
       "    <tr style=\"text-align: right;\">\n",
       "      <th></th>\n",
       "      <th>SCHEDNUM_x</th>\n",
       "      <th>SALE_YEAR</th>\n",
       "      <th>SALE_MONTHDAY</th>\n",
       "      <th>RECEPTION_DATE</th>\n",
       "      <th>SALE_PRICE</th>\n",
       "      <th>MKT_CLUS</th>\n",
       "      <th>NBHD_1_x</th>\n",
       "      <th>PIN</th>\n",
       "      <th>SCHEDNUM_y</th>\n",
       "      <th>CD</th>\n",
       "      <th>...</th>\n",
       "      <th>CCYRBLT</th>\n",
       "      <th>CCAGE_RM</th>\n",
       "      <th>UNITS</th>\n",
       "      <th>ASMT_APPR_LAND</th>\n",
       "      <th>TOTAL_VALUE</th>\n",
       "      <th>ASDLAND</th>\n",
       "      <th>ASSESS_VALUE</th>\n",
       "      <th>ASMT_TAXABLE</th>\n",
       "      <th>ASMT_EXEMPT_AMT</th>\n",
       "      <th>NBHD_1_y</th>\n",
       "    </tr>\n",
       "  </thead>\n",
       "  <tbody>\n",
       "    <tr>\n",
       "      <th>count</th>\n",
       "      <td>1.483390e+05</td>\n",
       "      <td>148339.000000</td>\n",
       "      <td>148339.000000</td>\n",
       "      <td>1.483390e+05</td>\n",
       "      <td>1.483390e+05</td>\n",
       "      <td>148337.000000</td>\n",
       "      <td>148339.000000</td>\n",
       "      <td>1.483390e+05</td>\n",
       "      <td>1.483390e+05</td>\n",
       "      <td>148339.0</td>\n",
       "      <td>...</td>\n",
       "      <td>148335.000000</td>\n",
       "      <td>148335.000000</td>\n",
       "      <td>148339.000000</td>\n",
       "      <td>1.483390e+05</td>\n",
       "      <td>1.483390e+05</td>\n",
       "      <td>148339.000000</td>\n",
       "      <td>1.483390e+05</td>\n",
       "      <td>1.483390e+05</td>\n",
       "      <td>148339.000000</td>\n",
       "      <td>148339.000000</td>\n",
       "    </tr>\n",
       "    <tr>\n",
       "      <th>mean</th>\n",
       "      <td>3.586757e+11</td>\n",
       "      <td>2014.107740</td>\n",
       "      <td>673.952049</td>\n",
       "      <td>2.014210e+07</td>\n",
       "      <td>4.553894e+05</td>\n",
       "      <td>16.347553</td>\n",
       "      <td>366.031590</td>\n",
       "      <td>1.617337e+08</td>\n",
       "      <td>3.586757e+11</td>\n",
       "      <td>1.0</td>\n",
       "      <td>...</td>\n",
       "      <td>1958.258638</td>\n",
       "      <td>1104.423669</td>\n",
       "      <td>1.027700</td>\n",
       "      <td>2.292586e+05</td>\n",
       "      <td>5.706441e+05</td>\n",
       "      <td>16392.924430</td>\n",
       "      <td>4.080276e+04</td>\n",
       "      <td>4.078173e+04</td>\n",
       "      <td>22.026203</td>\n",
       "      <td>366.031590</td>\n",
       "    </tr>\n",
       "    <tr>\n",
       "      <th>std</th>\n",
       "      <td>2.337924e+11</td>\n",
       "      <td>3.487877</td>\n",
       "      <td>330.681631</td>\n",
       "      <td>3.488442e+04</td>\n",
       "      <td>1.315131e+06</td>\n",
       "      <td>9.698299</td>\n",
       "      <td>247.380565</td>\n",
       "      <td>1.046570e+06</td>\n",
       "      <td>2.337924e+11</td>\n",
       "      <td>0.0</td>\n",
       "      <td>...</td>\n",
       "      <td>37.236505</td>\n",
       "      <td>1000.256335</td>\n",
       "      <td>0.287149</td>\n",
       "      <td>1.952512e+05</td>\n",
       "      <td>3.913446e+05</td>\n",
       "      <td>13962.982525</td>\n",
       "      <td>2.798466e+04</td>\n",
       "      <td>2.799077e+04</td>\n",
       "      <td>1184.461870</td>\n",
       "      <td>247.380565</td>\n",
       "    </tr>\n",
       "    <tr>\n",
       "      <th>min</th>\n",
       "      <td>1.410100e+10</td>\n",
       "      <td>2008.000000</td>\n",
       "      <td>101.000000</td>\n",
       "      <td>1.969123e+07</td>\n",
       "      <td>1.000000e+00</td>\n",
       "      <td>1.000000</td>\n",
       "      <td>1.000000</td>\n",
       "      <td>1.604339e+08</td>\n",
       "      <td>1.410100e+10</td>\n",
       "      <td>1.0</td>\n",
       "      <td>...</td>\n",
       "      <td>1873.000000</td>\n",
       "      <td>0.000000</td>\n",
       "      <td>0.000000</td>\n",
       "      <td>0.000000e+00</td>\n",
       "      <td>4.400000e+04</td>\n",
       "      <td>0.000000</td>\n",
       "      <td>3.146000e+03</td>\n",
       "      <td>0.000000e+00</td>\n",
       "      <td>0.000000</td>\n",
       "      <td>1.000000</td>\n",
       "    </tr>\n",
       "    <tr>\n",
       "      <th>25%</th>\n",
       "      <td>1.304160e+11</td>\n",
       "      <td>2011.000000</td>\n",
       "      <td>412.000000</td>\n",
       "      <td>2.011110e+07</td>\n",
       "      <td>9.100000e+04</td>\n",
       "      <td>7.000000</td>\n",
       "      <td>127.000000</td>\n",
       "      <td>1.608885e+08</td>\n",
       "      <td>1.304160e+11</td>\n",
       "      <td>1.0</td>\n",
       "      <td>...</td>\n",
       "      <td>1930.000000</td>\n",
       "      <td>0.000000</td>\n",
       "      <td>1.000000</td>\n",
       "      <td>9.070000e+04</td>\n",
       "      <td>3.479000e+05</td>\n",
       "      <td>6485.000000</td>\n",
       "      <td>2.487500e+04</td>\n",
       "      <td>2.486000e+04</td>\n",
       "      <td>0.000000</td>\n",
       "      <td>127.000000</td>\n",
       "    </tr>\n",
       "    <tr>\n",
       "      <th>50%</th>\n",
       "      <td>5.015210e+11</td>\n",
       "      <td>2014.000000</td>\n",
       "      <td>630.000000</td>\n",
       "      <td>2.014122e+07</td>\n",
       "      <td>2.750000e+05</td>\n",
       "      <td>16.000000</td>\n",
       "      <td>509.000000</td>\n",
       "      <td>1.614992e+08</td>\n",
       "      <td>5.015210e+11</td>\n",
       "      <td>1.0</td>\n",
       "      <td>...</td>\n",
       "      <td>1954.000000</td>\n",
       "      <td>2001.000000</td>\n",
       "      <td>1.000000</td>\n",
       "      <td>1.682000e+05</td>\n",
       "      <td>4.593000e+05</td>\n",
       "      <td>12026.000000</td>\n",
       "      <td>3.284000e+04</td>\n",
       "      <td>3.283000e+04</td>\n",
       "      <td>0.000000</td>\n",
       "      <td>509.000000</td>\n",
       "    </tr>\n",
       "    <tr>\n",
       "      <th>75%</th>\n",
       "      <td>5.265120e+11</td>\n",
       "      <td>2017.000000</td>\n",
       "      <td>928.000000</td>\n",
       "      <td>2.017072e+07</td>\n",
       "      <td>4.500000e+05</td>\n",
       "      <td>24.000000</td>\n",
       "      <td>580.000000</td>\n",
       "      <td>1.621060e+08</td>\n",
       "      <td>5.265120e+11</td>\n",
       "      <td>1.0</td>\n",
       "      <td>...</td>\n",
       "      <td>1997.000000</td>\n",
       "      <td>2013.000000</td>\n",
       "      <td>1.000000</td>\n",
       "      <td>3.181000e+05</td>\n",
       "      <td>6.455000e+05</td>\n",
       "      <td>22751.000000</td>\n",
       "      <td>4.616000e+04</td>\n",
       "      <td>4.614000e+04</td>\n",
       "      <td>0.000000</td>\n",
       "      <td>580.000000</td>\n",
       "    </tr>\n",
       "    <tr>\n",
       "      <th>max</th>\n",
       "      <td>9.145050e+11</td>\n",
       "      <td>2020.000000</td>\n",
       "      <td>1231.000000</td>\n",
       "      <td>2.020052e+07</td>\n",
       "      <td>4.950000e+07</td>\n",
       "      <td>54.000000</td>\n",
       "      <td>906.000000</td>\n",
       "      <td>1.643503e+08</td>\n",
       "      <td>9.145050e+11</td>\n",
       "      <td>1.0</td>\n",
       "      <td>...</td>\n",
       "      <td>2019.000000</td>\n",
       "      <td>3000.000000</td>\n",
       "      <td>13.000000</td>\n",
       "      <td>7.750000e+06</td>\n",
       "      <td>1.464040e+07</td>\n",
       "      <td>554125.000000</td>\n",
       "      <td>1.046789e+06</td>\n",
       "      <td>1.046790e+06</td>\n",
       "      <td>161740.000000</td>\n",
       "      <td>906.000000</td>\n",
       "    </tr>\n",
       "  </tbody>\n",
       "</table>\n",
       "<p>8 rows × 32 columns</p>\n",
       "</div>"
      ],
      "text/plain": [
       "         SCHEDNUM_x      SALE_YEAR  SALE_MONTHDAY  RECEPTION_DATE  \\\n",
       "count  1.483390e+05  148339.000000  148339.000000    1.483390e+05   \n",
       "mean   3.586757e+11    2014.107740     673.952049    2.014210e+07   \n",
       "std    2.337924e+11       3.487877     330.681631    3.488442e+04   \n",
       "min    1.410100e+10    2008.000000     101.000000    1.969123e+07   \n",
       "25%    1.304160e+11    2011.000000     412.000000    2.011110e+07   \n",
       "50%    5.015210e+11    2014.000000     630.000000    2.014122e+07   \n",
       "75%    5.265120e+11    2017.000000     928.000000    2.017072e+07   \n",
       "max    9.145050e+11    2020.000000    1231.000000    2.020052e+07   \n",
       "\n",
       "         SALE_PRICE       MKT_CLUS       NBHD_1_x           PIN    SCHEDNUM_y  \\\n",
       "count  1.483390e+05  148337.000000  148339.000000  1.483390e+05  1.483390e+05   \n",
       "mean   4.553894e+05      16.347553     366.031590  1.617337e+08  3.586757e+11   \n",
       "std    1.315131e+06       9.698299     247.380565  1.046570e+06  2.337924e+11   \n",
       "min    1.000000e+00       1.000000       1.000000  1.604339e+08  1.410100e+10   \n",
       "25%    9.100000e+04       7.000000     127.000000  1.608885e+08  1.304160e+11   \n",
       "50%    2.750000e+05      16.000000     509.000000  1.614992e+08  5.015210e+11   \n",
       "75%    4.500000e+05      24.000000     580.000000  1.621060e+08  5.265120e+11   \n",
       "max    4.950000e+07      54.000000     906.000000  1.643503e+08  9.145050e+11   \n",
       "\n",
       "             CD  ...        CCYRBLT       CCAGE_RM          UNITS  \\\n",
       "count  148339.0  ...  148335.000000  148335.000000  148339.000000   \n",
       "mean        1.0  ...    1958.258638    1104.423669       1.027700   \n",
       "std         0.0  ...      37.236505    1000.256335       0.287149   \n",
       "min         1.0  ...    1873.000000       0.000000       0.000000   \n",
       "25%         1.0  ...    1930.000000       0.000000       1.000000   \n",
       "50%         1.0  ...    1954.000000    2001.000000       1.000000   \n",
       "75%         1.0  ...    1997.000000    2013.000000       1.000000   \n",
       "max         1.0  ...    2019.000000    3000.000000      13.000000   \n",
       "\n",
       "       ASMT_APPR_LAND   TOTAL_VALUE        ASDLAND  ASSESS_VALUE  \\\n",
       "count    1.483390e+05  1.483390e+05  148339.000000  1.483390e+05   \n",
       "mean     2.292586e+05  5.706441e+05   16392.924430  4.080276e+04   \n",
       "std      1.952512e+05  3.913446e+05   13962.982525  2.798466e+04   \n",
       "min      0.000000e+00  4.400000e+04       0.000000  3.146000e+03   \n",
       "25%      9.070000e+04  3.479000e+05    6485.000000  2.487500e+04   \n",
       "50%      1.682000e+05  4.593000e+05   12026.000000  3.284000e+04   \n",
       "75%      3.181000e+05  6.455000e+05   22751.000000  4.616000e+04   \n",
       "max      7.750000e+06  1.464040e+07  554125.000000  1.046789e+06   \n",
       "\n",
       "       ASMT_TAXABLE  ASMT_EXEMPT_AMT       NBHD_1_y  \n",
       "count  1.483390e+05    148339.000000  148339.000000  \n",
       "mean   4.078173e+04        22.026203     366.031590  \n",
       "std    2.799077e+04      1184.461870     247.380565  \n",
       "min    0.000000e+00         0.000000       1.000000  \n",
       "25%    2.486000e+04         0.000000     127.000000  \n",
       "50%    3.283000e+04         0.000000     509.000000  \n",
       "75%    4.614000e+04         0.000000     580.000000  \n",
       "max    1.046790e+06    161740.000000     906.000000  \n",
       "\n",
       "[8 rows x 32 columns]"
      ]
     },
     "execution_count": 11,
     "metadata": {},
     "output_type": "execute_result"
    }
   ],
   "source": [
    "df.describe()"
   ]
  },
  {
   "cell_type": "markdown",
   "metadata": {
    "colab_type": "text",
    "id": "aRMZPPkjYYJl"
   },
   "source": [
    "## Data Organization"
   ]
  },
  {
   "cell_type": "code",
   "execution_count": 12,
   "metadata": {
    "colab": {},
    "colab_type": "code",
    "id": "z9Ke_XEFcPrV"
   },
   "outputs": [],
   "source": [
    "path = os.getcwd()"
   ]
  },
  {
   "cell_type": "code",
   "execution_count": 13,
   "metadata": {
    "colab": {},
    "colab_type": "code",
    "id": "lEQXorWj16H8"
   },
   "outputs": [
    {
     "name": "stdout",
     "output_type": "stream",
     "text": [
      "The current working directory is C:\\Users\\Nancy\\Documents\\GitHub\\Springboard\\Capstone 2 Denver Real Estate\n"
     ]
    }
   ],
   "source": [
    "print (\"The current working directory is %s\" % path)"
   ]
  },
  {
   "cell_type": "markdown",
   "metadata": {
    "colab_type": "text",
    "id": "OgCUIo6FqPzg"
   },
   "source": [
    "### Create subfolders in your project directory"
   ]
  },
  {
   "cell_type": "markdown",
   "metadata": {
    "colab_type": "text",
    "id": "QocLKpWsbmzK"
   },
   "source": [
    "This is actually a one time process to set up the storage files for this project."
   ]
  },
  {
   "cell_type": "markdown",
   "metadata": {
    "colab_type": "text",
    "id": "kkXs9gaGfzkR"
   },
   "source": [
    "Now, create some subfolders inside your project folder."
   ]
  },
  {
   "cell_type": "markdown",
   "metadata": {
    "colab_type": "text",
    "id": "liWGKwyR16IA"
   },
   "source": [
    "<font color='teal'> **Create a subfolder called `data`.**</font>"
   ]
  },
  {
   "cell_type": "code",
   "execution_count": 14,
   "metadata": {
    "colab": {},
    "colab_type": "code",
    "id": "Uia7RDb1fzBj"
   },
   "outputs": [],
   "source": [
    "#os.mkdir('data')\n"
   ]
  },
  {
   "cell_type": "markdown",
   "metadata": {
    "colab_type": "text",
    "id": "Fs-szPMUi0GL"
   },
   "source": [
    "<font color='teal'> **Create a folder for the data visualizations you will create in future steps called `figures`.**</font>"
   ]
  },
  {
   "cell_type": "code",
   "execution_count": 15,
   "metadata": {
    "colab": {},
    "colab_type": "code",
    "id": "qfLr-ujSierP"
   },
   "outputs": [],
   "source": [
    "#os.mkdir('figures')"
   ]
  },
  {
   "cell_type": "markdown",
   "metadata": {
    "colab_type": "text",
    "id": "wdjaNdfAizMH"
   },
   "source": [
    "<font color='teal'> **Create a folder for the models you save, called `models`.**</font>"
   ]
  },
  {
   "cell_type": "code",
   "execution_count": 16,
   "metadata": {
    "colab": {},
    "colab_type": "code",
    "id": "fru6KMORimKD"
   },
   "outputs": [],
   "source": [
    "#os.mkdir('models')"
   ]
  },
  {
   "cell_type": "markdown",
   "metadata": {
    "colab_type": "text",
    "id": "9cufs4ZUo3as"
   },
   "source": [
    "<font color='teal'> **Print the contents of your project folder to confirm you created the additional folders in your directory.**</font>"
   ]
  },
  {
   "cell_type": "code",
   "execution_count": 17,
   "metadata": {
    "colab": {},
    "colab_type": "code",
    "id": "is6wXPH3pEeJ"
   },
   "outputs": [],
   "source": [
    "#os.listdir(os.curdir)"
   ]
  },
  {
   "cell_type": "markdown",
   "metadata": {
    "colab_type": "text",
    "id": "B41tFEs0jLyr"
   },
   "source": [
    "## Data Definition\n",
    "In this step review column names, data types, and null values."
   ]
  },
  {
   "cell_type": "markdown",
   "metadata": {
    "colab_type": "text",
    "id": "wRi0i3vuqzuu"
   },
   "source": [
    "### Column Names \n",
    "<font color='teal'> **Print the columns names of the entire dataframe**</font>"
   ]
  },
  {
   "cell_type": "code",
   "execution_count": 18,
   "metadata": {
    "colab": {},
    "colab_type": "code",
    "id": "TJ_Cpxujq2C-"
   },
   "outputs": [
    {
     "name": "stdout",
     "output_type": "stream",
     "text": [
      "Index(['SCHEDNUM_x', 'RECEPTION_NUM', 'INSTRUMENT', 'SALE_YEAR',\n",
      "       'SALE_MONTHDAY', 'RECEPTION_DATE', 'SALE_PRICE', 'GRANTOR', 'GRANTEE',\n",
      "       'CLASS', 'MKT_CLUS', 'D_CLASS', 'D_CLASS_CN_x', 'NBHD_1_x',\n",
      "       'NBHD_1_CN_x', 'PIN', 'SCHEDNUM_y', 'CD', 'OFCARD', 'OWNER', 'CO_OWNER',\n",
      "       'OWNER_NUM', 'OWNER_DIR', 'OWNER_ST', 'OWNER_TYPE', 'OWNER_APT',\n",
      "       'OWNER_CITY', 'OWNER_STATE', 'OWNER_ZIP', 'SITE_NBR', 'SITE_DIR',\n",
      "       'SITE_NAME', 'SITE_MODE', 'SITE_MORE', 'TAX_DIST', 'PROP_CLASS',\n",
      "       'PROPERTY_CLASS', 'ZONE10', 'D_CLASS_CN_y', 'LAND_SQFT', 'AREA_ABG',\n",
      "       'BSMT_AREA', 'FBSMT_SQFT', 'GRD_AREA', 'STORY', 'STYLE_CN', 'BED_RMS',\n",
      "       'FULL_B', 'HLF_B', 'CCYRBLT', 'CCAGE_RM', 'UNITS', 'ASMT_APPR_LAND',\n",
      "       'TOTAL_VALUE', 'ASDLAND', 'ASSESS_VALUE', 'ASMT_TAXABLE',\n",
      "       'ASMT_EXEMPT_AMT', 'NBHD_1_y', 'NBHD_1_CN_y', 'LEGL_DESCRIPTION'],\n",
      "      dtype='object')\n"
     ]
    }
   ],
   "source": [
    "print(df.columns)"
   ]
  },
  {
   "cell_type": "markdown",
   "metadata": {
    "colab_type": "text",
    "id": "TaNtPKb1sjaR"
   },
   "source": [
    "### Data Types \n",
    "Review which columns are integer, float, categorical, or dates. Make sure the data type is loaded properly in the dataframe. "
   ]
  },
  {
   "cell_type": "code",
   "execution_count": 19,
   "metadata": {
    "colab": {},
    "colab_type": "code",
    "id": "nYhpP7RlPG94"
   },
   "outputs": [
    {
     "name": "stdout",
     "output_type": "stream",
     "text": [
      "SCHEDNUM_x            int64\n",
      "RECEPTION_NUM        object\n",
      "INSTRUMENT           object\n",
      "SALE_YEAR             int64\n",
      "SALE_MONTHDAY         int64\n",
      "RECEPTION_DATE        int64\n",
      "SALE_PRICE          float64\n",
      "GRANTOR              object\n",
      "GRANTEE              object\n",
      "CLASS                object\n",
      "MKT_CLUS            float64\n",
      "D_CLASS              object\n",
      "D_CLASS_CN_x         object\n",
      "NBHD_1_x              int64\n",
      "NBHD_1_CN_x          object\n",
      "PIN                   int64\n",
      "SCHEDNUM_y            int64\n",
      "CD                    int64\n",
      "OFCARD                int64\n",
      "OWNER                object\n",
      "CO_OWNER             object\n",
      "OWNER_NUM            object\n",
      "OWNER_DIR            object\n",
      "OWNER_ST             object\n",
      "OWNER_TYPE           object\n",
      "OWNER_APT            object\n",
      "OWNER_CITY           object\n",
      "OWNER_STATE          object\n",
      "OWNER_ZIP            object\n",
      "SITE_NBR              int64\n",
      "SITE_DIR             object\n",
      "SITE_NAME            object\n",
      "SITE_MODE            object\n",
      "SITE_MORE            object\n",
      "TAX_DIST             object\n",
      "PROP_CLASS            int64\n",
      "PROPERTY_CLASS       object\n",
      "ZONE10               object\n",
      "D_CLASS_CN_y         object\n",
      "LAND_SQFT           float64\n",
      "AREA_ABG              int64\n",
      "BSMT_AREA             int64\n",
      "FBSMT_SQFT            int64\n",
      "GRD_AREA              int64\n",
      "STORY                 int64\n",
      "STYLE_CN             object\n",
      "BED_RMS               int64\n",
      "FULL_B              float64\n",
      "HLF_B               float64\n",
      "CCYRBLT             float64\n",
      "CCAGE_RM            float64\n",
      "UNITS                 int64\n",
      "ASMT_APPR_LAND        int64\n",
      "TOTAL_VALUE           int64\n",
      "ASDLAND               int64\n",
      "ASSESS_VALUE          int64\n",
      "ASMT_TAXABLE          int64\n",
      "ASMT_EXEMPT_AMT       int64\n",
      "NBHD_1_y              int64\n",
      "NBHD_1_CN_y          object\n",
      "LEGL_DESCRIPTION     object\n",
      "dtype: object\n"
     ]
    }
   ],
   "source": [
    "print(df.dtypes)"
   ]
  },
  {
   "cell_type": "markdown",
   "metadata": {
    "colab_type": "text",
    "id": "xbZepZ0zPM1I"
   },
   "source": [
    "<font color='teal'> **The `df.info()` function also prints the count of non-null values per column. Use this function to review the column names, null value counts and data types of your data frame.**</font>"
   ]
  },
  {
   "cell_type": "code",
   "execution_count": 20,
   "metadata": {
    "colab": {},
    "colab_type": "code",
    "id": "0pHnZG1jjU3G"
   },
   "outputs": [
    {
     "name": "stdout",
     "output_type": "stream",
     "text": [
      "<class 'pandas.core.frame.DataFrame'>\n",
      "Int64Index: 148339 entries, 0 to 148338\n",
      "Data columns (total 61 columns):\n",
      " #   Column            Non-Null Count   Dtype  \n",
      "---  ------            --------------   -----  \n",
      " 0   SCHEDNUM_x        148339 non-null  int64  \n",
      " 1   RECEPTION_NUM     148339 non-null  object \n",
      " 2   INSTRUMENT        148339 non-null  object \n",
      " 3   SALE_YEAR         148339 non-null  int64  \n",
      " 4   SALE_MONTHDAY     148339 non-null  int64  \n",
      " 5   RECEPTION_DATE    148339 non-null  int64  \n",
      " 6   SALE_PRICE        148339 non-null  float64\n",
      " 7   GRANTOR           148339 non-null  object \n",
      " 8   GRANTEE           148339 non-null  object \n",
      " 9   CLASS             148339 non-null  object \n",
      " 10  MKT_CLUS          148337 non-null  float64\n",
      " 11  D_CLASS           148339 non-null  object \n",
      " 12  D_CLASS_CN_x      148339 non-null  object \n",
      " 13  NBHD_1_x          148339 non-null  int64  \n",
      " 14  NBHD_1_CN_x       148339 non-null  object \n",
      " 15  PIN               148339 non-null  int64  \n",
      " 16  SCHEDNUM_y        148339 non-null  int64  \n",
      " 17  CD                148339 non-null  int64  \n",
      " 18  OFCARD            148339 non-null  int64  \n",
      " 19  OWNER             148339 non-null  object \n",
      " 20  CO_OWNER          2918 non-null    object \n",
      " 21  OWNER_NUM         148339 non-null  object \n",
      " 22  OWNER_DIR         83209 non-null   object \n",
      " 23  OWNER_ST          148339 non-null  object \n",
      " 24  OWNER_TYPE        145900 non-null  object \n",
      " 25  OWNER_APT         5685 non-null    object \n",
      " 26  OWNER_CITY        148339 non-null  object \n",
      " 27  OWNER_STATE       148339 non-null  object \n",
      " 28  OWNER_ZIP         148339 non-null  object \n",
      " 29  SITE_NBR          148339 non-null  int64  \n",
      " 30  SITE_DIR          147415 non-null  object \n",
      " 31  SITE_NAME         148339 non-null  object \n",
      " 32  SITE_MODE         148303 non-null  object \n",
      " 33  SITE_MORE         1606 non-null    object \n",
      " 34  TAX_DIST          148339 non-null  object \n",
      " 35  PROP_CLASS        148339 non-null  int64  \n",
      " 36  PROPERTY_CLASS    148339 non-null  object \n",
      " 37  ZONE10            148339 non-null  object \n",
      " 38  D_CLASS_CN_y      148339 non-null  object \n",
      " 39  LAND_SQFT         148319 non-null  float64\n",
      " 40  AREA_ABG          148339 non-null  int64  \n",
      " 41  BSMT_AREA         148339 non-null  int64  \n",
      " 42  FBSMT_SQFT        148339 non-null  int64  \n",
      " 43  GRD_AREA          148339 non-null  int64  \n",
      " 44  STORY             148339 non-null  int64  \n",
      " 45  STYLE_CN          148335 non-null  object \n",
      " 46  BED_RMS           148339 non-null  int64  \n",
      " 47  FULL_B            148335 non-null  float64\n",
      " 48  HLF_B             148335 non-null  float64\n",
      " 49  CCYRBLT           148335 non-null  float64\n",
      " 50  CCAGE_RM          148335 non-null  float64\n",
      " 51  UNITS             148339 non-null  int64  \n",
      " 52  ASMT_APPR_LAND    148339 non-null  int64  \n",
      " 53  TOTAL_VALUE       148339 non-null  int64  \n",
      " 54  ASDLAND           148339 non-null  int64  \n",
      " 55  ASSESS_VALUE      148339 non-null  int64  \n",
      " 56  ASMT_TAXABLE      148339 non-null  int64  \n",
      " 57  ASMT_EXEMPT_AMT   148339 non-null  int64  \n",
      " 58  NBHD_1_y          148339 non-null  int64  \n",
      " 59  NBHD_1_CN_y       148339 non-null  object \n",
      " 60  LEGL_DESCRIPTION  148339 non-null  object \n",
      "dtypes: float64(7), int64(25), object(29)\n",
      "memory usage: 70.2+ MB\n"
     ]
    }
   ],
   "source": [
    "df.info()"
   ]
  },
  {
   "cell_type": "markdown",
   "metadata": {
    "colab_type": "text",
    "id": "2PuwzPyIfNXf"
   },
   "source": [
    "### Denver provides metadata for both files"
   ]
  },
  {
   "attachments": {
    "image.png": {
     "image/png": "[encoded data removed]"
    }
   },
   "cell_type": "markdown",
   "metadata": {
    "colab_type": "text",
    "id": "jWzZC-k0bVf5"
   },
   "source": [
    "![image.png](attachment:image.png)\n"
   ]
  },
  {
   "attachments": {
    "image.png": {
     "image/png": "[encoded data removed]"
    }
   },
   "cell_type": "markdown",
   "metadata": {},
   "source": [
    "\n",
    "![image.png](attachment:image.png)"
   ]
  },
  {
   "cell_type": "markdown",
   "metadata": {
    "colab_type": "text",
    "id": "atpuAuVTfqB-"
   },
   "source": [
    "### Count of unique values or codes\n",
    "<font color='teal'> **Print the count of unique values for every column, regardless of data type.**</font>"
   ]
  },
  {
   "cell_type": "code",
   "execution_count": 21,
   "metadata": {
    "colab": {},
    "colab_type": "code",
    "id": "uPd3Kki096wp"
   },
   "outputs": [
    {
     "name": "stdout",
     "output_type": "stream",
     "text": [
      "SCHEDNUM_x 78559\n",
      "RECEPTION_NUM 142343\n",
      "INSTRUMENT 28\n",
      "SALE_YEAR 13\n",
      "SALE_MONTHDAY 366\n",
      "RECEPTION_DATE 3113\n",
      "SALE_PRICE 16610\n",
      "GRANTOR 105237\n",
      "GRANTEE 116440\n",
      "CLASS 2\n",
      "MKT_CLUS 35\n",
      "D_CLASS 8\n",
      "D_CLASS_CN_x 1\n",
      "NBHD_1_x 263\n",
      "NBHD_1_CN_x 159\n",
      "PIN 78559\n",
      "SCHEDNUM_y 78559\n",
      "CD 1\n",
      "OFCARD 5\n",
      "OWNER 74264\n",
      "CO_OWNER 438\n",
      "OWNER_NUM 12548\n",
      "OWNER_DIR 10\n",
      "OWNER_ST 3698\n",
      "OWNER_TYPE 52\n",
      "OWNER_APT 744\n",
      "OWNER_CITY 937\n",
      "OWNER_STATE 53\n",
      "OWNER_ZIP 25523\n",
      "SITE_NBR 11775\n",
      "SITE_DIR 4\n",
      "SITE_NAME 719\n",
      "SITE_MODE 11\n",
      "SITE_MORE 338\n",
      "TAX_DIST 27\n",
      "PROP_CLASS 9\n",
      "PROPERTY_CLASS 8\n",
      "ZONE10 99\n",
      "D_CLASS_CN_y 1\n",
      "LAND_SQFT 6417\n",
      "AREA_ABG 4378\n",
      "BSMT_AREA 2628\n",
      "FBSMT_SQFT 2190\n",
      "GRD_AREA 821\n",
      "STORY 4\n",
      "STYLE_CN 11\n",
      "BED_RMS 15\n",
      "FULL_B 10\n",
      "HLF_B 7\n",
      "CCYRBLT 147\n",
      "CCAGE_RM 103\n",
      "UNITS 13\n",
      "ASMT_APPR_LAND 6440\n",
      "TOTAL_VALUE 12671\n",
      "ASDLAND 6441\n",
      "ASSESS_VALUE 18227\n",
      "ASMT_TAXABLE 10213\n",
      "ASMT_EXEMPT_AMT 37\n",
      "NBHD_1_y 263\n",
      "NBHD_1_CN_y 159\n",
      "LEGL_DESCRIPTION 78554\n"
     ]
    }
   ],
   "source": [
    "for col in df.columns: print(col, df[col].nunique())"
   ]
  },
  {
   "cell_type": "markdown",
   "metadata": {
    "colab_type": "text",
    "id": "IpgqbVlqFqJH"
   },
   "source": [
    "<font color='teal'> **Print the percent of unique values per column. Use the `df.nunique` and the size of the dataframe to calculate the percentages.**</font>"
   ]
  },
  {
   "cell_type": "code",
   "execution_count": 22,
   "metadata": {
    "colab": {},
    "colab_type": "code",
    "id": "Zs84OwNJEy2a"
   },
   "outputs": [
    {
     "name": "stdout",
     "output_type": "stream",
     "text": [
      "SCHEDNUM_x 52.959100438859636\n",
      "RECEPTION_NUM 95.95790722601609\n",
      "INSTRUMENT 0.018875683400858843\n",
      "SALE_YEAR 0.008763710150398748\n",
      "SALE_MONTHDAY 0.2467321473112263\n",
      "RECEPTION_DATE 2.098571515245485\n",
      "SALE_PRICE 11.197325046009478\n",
      "GRANTOR 70.94358193057793\n",
      "GRANTEE 78.49587768557156\n",
      "CLASS 0.0013482631000613459\n",
      "MKT_CLUS 0.023594604251073556\n",
      "D_CLASS 0.0053930524002453835\n",
      "D_CLASS_CN_x 0.0006741315500306729\n",
      "NBHD_1_x 0.177296597658067\n",
      "NBHD_1_CN_x 0.107186916454877\n",
      "PIN 52.959100438859636\n",
      "SCHEDNUM_y 52.959100438859636\n",
      "CD 0.0006741315500306729\n",
      "OFCARD 0.0033706577501533648\n",
      "OWNER 50.0637054314779\n",
      "CO_OWNER 0.2952696189134348\n",
      "OWNER_NUM 8.459002689784885\n",
      "OWNER_DIR 0.0067413155003067295\n",
      "OWNER_ST 2.492938472013429\n",
      "OWNER_TYPE 0.03505484060159499\n",
      "OWNER_APT 0.5015538732228207\n",
      "OWNER_CITY 0.6316612623787405\n",
      "OWNER_STATE 0.03572897215162567\n",
      "OWNER_ZIP 17.205859551432866\n",
      "SITE_NBR 7.937899001611174\n",
      "SITE_DIR 0.0026965262001226917\n",
      "SITE_NAME 0.4847005844720539\n",
      "SITE_MODE 0.007415447050337403\n",
      "SITE_MORE 0.22785646391036746\n",
      "TAX_DIST 0.01820155185082817\n",
      "PROP_CLASS 0.006067183950276057\n",
      "PROPERTY_CLASS 0.0053930524002453835\n",
      "ZONE10 0.06673902345303663\n",
      "D_CLASS_CN_y 0.0006741315500306729\n",
      "LAND_SQFT 4.325902156546829\n",
      "AREA_ABG 2.9513479260342863\n",
      "BSMT_AREA 1.7716177134806086\n",
      "FBSMT_SQFT 1.4763480945671739\n",
      "GRD_AREA 0.5534620025751825\n",
      "STORY 0.0026965262001226917\n",
      "STYLE_CN 0.007415447050337403\n",
      "BED_RMS 0.010111973250460095\n",
      "FULL_B 0.0067413155003067295\n",
      "HLF_B 0.004718920850214711\n",
      "CCYRBLT 0.09909733785450893\n",
      "CCAGE_RM 0.06943554965315932\n",
      "UNITS 0.008763710150398748\n",
      "ASMT_APPR_LAND 4.341407182197534\n",
      "TOTAL_VALUE 8.541920870438657\n",
      "ASDLAND 4.342081313747565\n",
      "ASSESS_VALUE 12.287395762409076\n",
      "ASMT_TAXABLE 6.884905520463263\n",
      "ASMT_EXEMPT_AMT 0.0249428673511349\n",
      "NBHD_1_y 0.177296597658067\n",
      "NBHD_1_CN_y 0.107186916454877\n",
      "LEGL_DESCRIPTION 52.95572978110948\n"
     ]
    }
   ],
   "source": [
    "for col in df.columns: print(col, 100*df[col].nunique()/df.shape[0])"
   ]
  },
  {
   "cell_type": "markdown",
   "metadata": {
    "colab_type": "text",
    "id": "_c8RH6RK16Ix"
   },
   "source": [
    "<font color='teal'> **Review the numeric dataset's summary statistics.**</font>"
   ]
  },
  {
   "cell_type": "code",
   "execution_count": 23,
   "metadata": {
    "colab": {},
    "colab_type": "code",
    "id": "2IKIsz8qjRK6"
   },
   "outputs": [
    {
     "data": {
      "text/html": [
       "<div>\n",
       "<style scoped>\n",
       "    .dataframe tbody tr th:only-of-type {\n",
       "        vertical-align: middle;\n",
       "    }\n",
       "\n",
       "    .dataframe tbody tr th {\n",
       "        vertical-align: top;\n",
       "    }\n",
       "\n",
       "    .dataframe thead th {\n",
       "        text-align: right;\n",
       "    }\n",
       "</style>\n",
       "<table border=\"1\" class=\"dataframe\">\n",
       "  <thead>\n",
       "    <tr style=\"text-align: right;\">\n",
       "      <th></th>\n",
       "      <th>SCHEDNUM_x</th>\n",
       "      <th>SALE_YEAR</th>\n",
       "      <th>SALE_MONTHDAY</th>\n",
       "      <th>RECEPTION_DATE</th>\n",
       "      <th>SALE_PRICE</th>\n",
       "      <th>MKT_CLUS</th>\n",
       "      <th>NBHD_1_x</th>\n",
       "      <th>PIN</th>\n",
       "      <th>SCHEDNUM_y</th>\n",
       "      <th>CD</th>\n",
       "      <th>...</th>\n",
       "      <th>CCYRBLT</th>\n",
       "      <th>CCAGE_RM</th>\n",
       "      <th>UNITS</th>\n",
       "      <th>ASMT_APPR_LAND</th>\n",
       "      <th>TOTAL_VALUE</th>\n",
       "      <th>ASDLAND</th>\n",
       "      <th>ASSESS_VALUE</th>\n",
       "      <th>ASMT_TAXABLE</th>\n",
       "      <th>ASMT_EXEMPT_AMT</th>\n",
       "      <th>NBHD_1_y</th>\n",
       "    </tr>\n",
       "  </thead>\n",
       "  <tbody>\n",
       "    <tr>\n",
       "      <th>count</th>\n",
       "      <td>1.483390e+05</td>\n",
       "      <td>148339.000000</td>\n",
       "      <td>148339.000000</td>\n",
       "      <td>1.483390e+05</td>\n",
       "      <td>1.483390e+05</td>\n",
       "      <td>148337.000000</td>\n",
       "      <td>148339.000000</td>\n",
       "      <td>1.483390e+05</td>\n",
       "      <td>1.483390e+05</td>\n",
       "      <td>148339.0</td>\n",
       "      <td>...</td>\n",
       "      <td>148335.000000</td>\n",
       "      <td>148335.000000</td>\n",
       "      <td>148339.000000</td>\n",
       "      <td>1.483390e+05</td>\n",
       "      <td>1.483390e+05</td>\n",
       "      <td>148339.000000</td>\n",
       "      <td>1.483390e+05</td>\n",
       "      <td>1.483390e+05</td>\n",
       "      <td>148339.000000</td>\n",
       "      <td>148339.000000</td>\n",
       "    </tr>\n",
       "    <tr>\n",
       "      <th>mean</th>\n",
       "      <td>3.586757e+11</td>\n",
       "      <td>2014.107740</td>\n",
       "      <td>673.952049</td>\n",
       "      <td>2.014210e+07</td>\n",
       "      <td>4.553894e+05</td>\n",
       "      <td>16.347553</td>\n",
       "      <td>366.031590</td>\n",
       "      <td>1.617337e+08</td>\n",
       "      <td>3.586757e+11</td>\n",
       "      <td>1.0</td>\n",
       "      <td>...</td>\n",
       "      <td>1958.258638</td>\n",
       "      <td>1104.423669</td>\n",
       "      <td>1.027700</td>\n",
       "      <td>2.292586e+05</td>\n",
       "      <td>5.706441e+05</td>\n",
       "      <td>16392.924430</td>\n",
       "      <td>4.080276e+04</td>\n",
       "      <td>4.078173e+04</td>\n",
       "      <td>22.026203</td>\n",
       "      <td>366.031590</td>\n",
       "    </tr>\n",
       "    <tr>\n",
       "      <th>std</th>\n",
       "      <td>2.337924e+11</td>\n",
       "      <td>3.487877</td>\n",
       "      <td>330.681631</td>\n",
       "      <td>3.488442e+04</td>\n",
       "      <td>1.315131e+06</td>\n",
       "      <td>9.698299</td>\n",
       "      <td>247.380565</td>\n",
       "      <td>1.046570e+06</td>\n",
       "      <td>2.337924e+11</td>\n",
       "      <td>0.0</td>\n",
       "      <td>...</td>\n",
       "      <td>37.236505</td>\n",
       "      <td>1000.256335</td>\n",
       "      <td>0.287149</td>\n",
       "      <td>1.952512e+05</td>\n",
       "      <td>3.913446e+05</td>\n",
       "      <td>13962.982525</td>\n",
       "      <td>2.798466e+04</td>\n",
       "      <td>2.799077e+04</td>\n",
       "      <td>1184.461870</td>\n",
       "      <td>247.380565</td>\n",
       "    </tr>\n",
       "    <tr>\n",
       "      <th>min</th>\n",
       "      <td>1.410100e+10</td>\n",
       "      <td>2008.000000</td>\n",
       "      <td>101.000000</td>\n",
       "      <td>1.969123e+07</td>\n",
       "      <td>1.000000e+00</td>\n",
       "      <td>1.000000</td>\n",
       "      <td>1.000000</td>\n",
       "      <td>1.604339e+08</td>\n",
       "      <td>1.410100e+10</td>\n",
       "      <td>1.0</td>\n",
       "      <td>...</td>\n",
       "      <td>1873.000000</td>\n",
       "      <td>0.000000</td>\n",
       "      <td>0.000000</td>\n",
       "      <td>0.000000e+00</td>\n",
       "      <td>4.400000e+04</td>\n",
       "      <td>0.000000</td>\n",
       "      <td>3.146000e+03</td>\n",
       "      <td>0.000000e+00</td>\n",
       "      <td>0.000000</td>\n",
       "      <td>1.000000</td>\n",
       "    </tr>\n",
       "    <tr>\n",
       "      <th>25%</th>\n",
       "      <td>1.304160e+11</td>\n",
       "      <td>2011.000000</td>\n",
       "      <td>412.000000</td>\n",
       "      <td>2.011110e+07</td>\n",
       "      <td>9.100000e+04</td>\n",
       "      <td>7.000000</td>\n",
       "      <td>127.000000</td>\n",
       "      <td>1.608885e+08</td>\n",
       "      <td>1.304160e+11</td>\n",
       "      <td>1.0</td>\n",
       "      <td>...</td>\n",
       "      <td>1930.000000</td>\n",
       "      <td>0.000000</td>\n",
       "      <td>1.000000</td>\n",
       "      <td>9.070000e+04</td>\n",
       "      <td>3.479000e+05</td>\n",
       "      <td>6485.000000</td>\n",
       "      <td>2.487500e+04</td>\n",
       "      <td>2.486000e+04</td>\n",
       "      <td>0.000000</td>\n",
       "      <td>127.000000</td>\n",
       "    </tr>\n",
       "    <tr>\n",
       "      <th>50%</th>\n",
       "      <td>5.015210e+11</td>\n",
       "      <td>2014.000000</td>\n",
       "      <td>630.000000</td>\n",
       "      <td>2.014122e+07</td>\n",
       "      <td>2.750000e+05</td>\n",
       "      <td>16.000000</td>\n",
       "      <td>509.000000</td>\n",
       "      <td>1.614992e+08</td>\n",
       "      <td>5.015210e+11</td>\n",
       "      <td>1.0</td>\n",
       "      <td>...</td>\n",
       "      <td>1954.000000</td>\n",
       "      <td>2001.000000</td>\n",
       "      <td>1.000000</td>\n",
       "      <td>1.682000e+05</td>\n",
       "      <td>4.593000e+05</td>\n",
       "      <td>12026.000000</td>\n",
       "      <td>3.284000e+04</td>\n",
       "      <td>3.283000e+04</td>\n",
       "      <td>0.000000</td>\n",
       "      <td>509.000000</td>\n",
       "    </tr>\n",
       "    <tr>\n",
       "      <th>75%</th>\n",
       "      <td>5.265120e+11</td>\n",
       "      <td>2017.000000</td>\n",
       "      <td>928.000000</td>\n",
       "      <td>2.017072e+07</td>\n",
       "      <td>4.500000e+05</td>\n",
       "      <td>24.000000</td>\n",
       "      <td>580.000000</td>\n",
       "      <td>1.621060e+08</td>\n",
       "      <td>5.265120e+11</td>\n",
       "      <td>1.0</td>\n",
       "      <td>...</td>\n",
       "      <td>1997.000000</td>\n",
       "      <td>2013.000000</td>\n",
       "      <td>1.000000</td>\n",
       "      <td>3.181000e+05</td>\n",
       "      <td>6.455000e+05</td>\n",
       "      <td>22751.000000</td>\n",
       "      <td>4.616000e+04</td>\n",
       "      <td>4.614000e+04</td>\n",
       "      <td>0.000000</td>\n",
       "      <td>580.000000</td>\n",
       "    </tr>\n",
       "    <tr>\n",
       "      <th>max</th>\n",
       "      <td>9.145050e+11</td>\n",
       "      <td>2020.000000</td>\n",
       "      <td>1231.000000</td>\n",
       "      <td>2.020052e+07</td>\n",
       "      <td>4.950000e+07</td>\n",
       "      <td>54.000000</td>\n",
       "      <td>906.000000</td>\n",
       "      <td>1.643503e+08</td>\n",
       "      <td>9.145050e+11</td>\n",
       "      <td>1.0</td>\n",
       "      <td>...</td>\n",
       "      <td>2019.000000</td>\n",
       "      <td>3000.000000</td>\n",
       "      <td>13.000000</td>\n",
       "      <td>7.750000e+06</td>\n",
       "      <td>1.464040e+07</td>\n",
       "      <td>554125.000000</td>\n",
       "      <td>1.046789e+06</td>\n",
       "      <td>1.046790e+06</td>\n",
       "      <td>161740.000000</td>\n",
       "      <td>906.000000</td>\n",
       "    </tr>\n",
       "  </tbody>\n",
       "</table>\n",
       "<p>8 rows × 32 columns</p>\n",
       "</div>"
      ],
      "text/plain": [
       "         SCHEDNUM_x      SALE_YEAR  SALE_MONTHDAY  RECEPTION_DATE  \\\n",
       "count  1.483390e+05  148339.000000  148339.000000    1.483390e+05   \n",
       "mean   3.586757e+11    2014.107740     673.952049    2.014210e+07   \n",
       "std    2.337924e+11       3.487877     330.681631    3.488442e+04   \n",
       "min    1.410100e+10    2008.000000     101.000000    1.969123e+07   \n",
       "25%    1.304160e+11    2011.000000     412.000000    2.011110e+07   \n",
       "50%    5.015210e+11    2014.000000     630.000000    2.014122e+07   \n",
       "75%    5.265120e+11    2017.000000     928.000000    2.017072e+07   \n",
       "max    9.145050e+11    2020.000000    1231.000000    2.020052e+07   \n",
       "\n",
       "         SALE_PRICE       MKT_CLUS       NBHD_1_x           PIN    SCHEDNUM_y  \\\n",
       "count  1.483390e+05  148337.000000  148339.000000  1.483390e+05  1.483390e+05   \n",
       "mean   4.553894e+05      16.347553     366.031590  1.617337e+08  3.586757e+11   \n",
       "std    1.315131e+06       9.698299     247.380565  1.046570e+06  2.337924e+11   \n",
       "min    1.000000e+00       1.000000       1.000000  1.604339e+08  1.410100e+10   \n",
       "25%    9.100000e+04       7.000000     127.000000  1.608885e+08  1.304160e+11   \n",
       "50%    2.750000e+05      16.000000     509.000000  1.614992e+08  5.015210e+11   \n",
       "75%    4.500000e+05      24.000000     580.000000  1.621060e+08  5.265120e+11   \n",
       "max    4.950000e+07      54.000000     906.000000  1.643503e+08  9.145050e+11   \n",
       "\n",
       "             CD  ...        CCYRBLT       CCAGE_RM          UNITS  \\\n",
       "count  148339.0  ...  148335.000000  148335.000000  148339.000000   \n",
       "mean        1.0  ...    1958.258638    1104.423669       1.027700   \n",
       "std         0.0  ...      37.236505    1000.256335       0.287149   \n",
       "min         1.0  ...    1873.000000       0.000000       0.000000   \n",
       "25%         1.0  ...    1930.000000       0.000000       1.000000   \n",
       "50%         1.0  ...    1954.000000    2001.000000       1.000000   \n",
       "75%         1.0  ...    1997.000000    2013.000000       1.000000   \n",
       "max         1.0  ...    2019.000000    3000.000000      13.000000   \n",
       "\n",
       "       ASMT_APPR_LAND   TOTAL_VALUE        ASDLAND  ASSESS_VALUE  \\\n",
       "count    1.483390e+05  1.483390e+05  148339.000000  1.483390e+05   \n",
       "mean     2.292586e+05  5.706441e+05   16392.924430  4.080276e+04   \n",
       "std      1.952512e+05  3.913446e+05   13962.982525  2.798466e+04   \n",
       "min      0.000000e+00  4.400000e+04       0.000000  3.146000e+03   \n",
       "25%      9.070000e+04  3.479000e+05    6485.000000  2.487500e+04   \n",
       "50%      1.682000e+05  4.593000e+05   12026.000000  3.284000e+04   \n",
       "75%      3.181000e+05  6.455000e+05   22751.000000  4.616000e+04   \n",
       "max      7.750000e+06  1.464040e+07  554125.000000  1.046789e+06   \n",
       "\n",
       "       ASMT_TAXABLE  ASMT_EXEMPT_AMT       NBHD_1_y  \n",
       "count  1.483390e+05    148339.000000  148339.000000  \n",
       "mean   4.078173e+04        22.026203     366.031590  \n",
       "std    2.799077e+04      1184.461870     247.380565  \n",
       "min    0.000000e+00         0.000000       1.000000  \n",
       "25%    2.486000e+04         0.000000     127.000000  \n",
       "50%    3.283000e+04         0.000000     509.000000  \n",
       "75%    4.614000e+04         0.000000     580.000000  \n",
       "max    1.046790e+06    161740.000000     906.000000  \n",
       "\n",
       "[8 rows x 32 columns]"
      ]
     },
     "execution_count": 23,
     "metadata": {},
     "output_type": "execute_result"
    }
   ],
   "source": [
    "df.describe()"
   ]
  },
  {
   "cell_type": "markdown",
   "metadata": {
    "colab_type": "text",
    "id": "lSQPIPX89mC0"
   },
   "source": [
    "## Data Cleaning"
   ]
  },
  {
   "cell_type": "markdown",
   "metadata": {
    "colab_type": "text",
    "id": "ufPXh3kYL9ni"
   },
   "source": [
    "### Handle the missing and NA values\n",
    "Print out the percent of each feature that is missing. \n",
    "\n",
    "\n",
    "*   Consider the columns individually \n",
    "*   Identify the appropriate fill method for each column\n",
    "\n"
   ]
  },
  {
   "cell_type": "code",
   "execution_count": 24,
   "metadata": {
    "colab": {},
    "colab_type": "code",
    "id": "tP876MPtg5ak"
   },
   "outputs": [
    {
     "data": {
      "text/html": [
       "<div>\n",
       "<style scoped>\n",
       "    .dataframe tbody tr th:only-of-type {\n",
       "        vertical-align: middle;\n",
       "    }\n",
       "\n",
       "    .dataframe tbody tr th {\n",
       "        vertical-align: top;\n",
       "    }\n",
       "\n",
       "    .dataframe thead th {\n",
       "        text-align: right;\n",
       "    }\n",
       "</style>\n",
       "<table border=\"1\" class=\"dataframe\">\n",
       "  <thead>\n",
       "    <tr style=\"text-align: right;\">\n",
       "      <th></th>\n",
       "      <th>percent</th>\n",
       "    </tr>\n",
       "  </thead>\n",
       "  <tbody>\n",
       "    <tr>\n",
       "      <th>SITE_MORE</th>\n",
       "      <td>0.989173</td>\n",
       "    </tr>\n",
       "    <tr>\n",
       "      <th>CO_OWNER</th>\n",
       "      <td>0.980329</td>\n",
       "    </tr>\n",
       "    <tr>\n",
       "      <th>OWNER_APT</th>\n",
       "      <td>0.961676</td>\n",
       "    </tr>\n",
       "    <tr>\n",
       "      <th>OWNER_DIR</th>\n",
       "      <td>0.439062</td>\n",
       "    </tr>\n",
       "    <tr>\n",
       "      <th>OWNER_TYPE</th>\n",
       "      <td>0.016442</td>\n",
       "    </tr>\n",
       "    <tr>\n",
       "      <th>SITE_DIR</th>\n",
       "      <td>0.006229</td>\n",
       "    </tr>\n",
       "    <tr>\n",
       "      <th>SITE_MODE</th>\n",
       "      <td>0.000243</td>\n",
       "    </tr>\n",
       "    <tr>\n",
       "      <th>LAND_SQFT</th>\n",
       "      <td>0.000135</td>\n",
       "    </tr>\n",
       "    <tr>\n",
       "      <th>CCAGE_RM</th>\n",
       "      <td>0.000027</td>\n",
       "    </tr>\n",
       "    <tr>\n",
       "      <th>CCYRBLT</th>\n",
       "      <td>0.000027</td>\n",
       "    </tr>\n",
       "    <tr>\n",
       "      <th>HLF_B</th>\n",
       "      <td>0.000027</td>\n",
       "    </tr>\n",
       "    <tr>\n",
       "      <th>FULL_B</th>\n",
       "      <td>0.000027</td>\n",
       "    </tr>\n",
       "    <tr>\n",
       "      <th>STYLE_CN</th>\n",
       "      <td>0.000027</td>\n",
       "    </tr>\n",
       "    <tr>\n",
       "      <th>MKT_CLUS</th>\n",
       "      <td>0.000013</td>\n",
       "    </tr>\n",
       "  </tbody>\n",
       "</table>\n",
       "</div>"
      ],
      "text/plain": [
       "             percent\n",
       "SITE_MORE   0.989173\n",
       "CO_OWNER    0.980329\n",
       "OWNER_APT   0.961676\n",
       "OWNER_DIR   0.439062\n",
       "OWNER_TYPE  0.016442\n",
       "SITE_DIR    0.006229\n",
       "SITE_MODE   0.000243\n",
       "LAND_SQFT   0.000135\n",
       "CCAGE_RM    0.000027\n",
       "CCYRBLT     0.000027\n",
       "HLF_B       0.000027\n",
       "FULL_B      0.000027\n",
       "STYLE_CN    0.000027\n",
       "MKT_CLUS    0.000013"
      ]
     },
     "execution_count": 24,
     "metadata": {},
     "output_type": "execute_result"
    }
   ],
   "source": [
    "nas=pd.DataFrame(df.isnull().sum().sort_values(ascending=False)/len(df),columns = ['percent'])\n",
    "pos = nas['percent'] > 0\n",
    "nas[pos]"
   ]
  },
  {
   "cell_type": "markdown",
   "metadata": {},
   "source": [
    "rows with blanks in the FULL_B field did not get a good record from the characteristics file, so drop them and then recheck "
   ]
  },
  {
   "cell_type": "code",
   "execution_count": 25,
   "metadata": {},
   "outputs": [],
   "source": [
    "df = df[df['FULL_B'].notna()]"
   ]
  },
  {
   "cell_type": "code",
   "execution_count": 26,
   "metadata": {},
   "outputs": [
    {
     "data": {
      "text/html": [
       "<div>\n",
       "<style scoped>\n",
       "    .dataframe tbody tr th:only-of-type {\n",
       "        vertical-align: middle;\n",
       "    }\n",
       "\n",
       "    .dataframe tbody tr th {\n",
       "        vertical-align: top;\n",
       "    }\n",
       "\n",
       "    .dataframe thead th {\n",
       "        text-align: right;\n",
       "    }\n",
       "</style>\n",
       "<table border=\"1\" class=\"dataframe\">\n",
       "  <thead>\n",
       "    <tr style=\"text-align: right;\">\n",
       "      <th></th>\n",
       "      <th>percent</th>\n",
       "    </tr>\n",
       "  </thead>\n",
       "  <tbody>\n",
       "    <tr>\n",
       "      <th>SITE_MORE</th>\n",
       "      <td>0.989173</td>\n",
       "    </tr>\n",
       "    <tr>\n",
       "      <th>CO_OWNER</th>\n",
       "      <td>0.980328</td>\n",
       "    </tr>\n",
       "    <tr>\n",
       "      <th>OWNER_APT</th>\n",
       "      <td>0.961675</td>\n",
       "    </tr>\n",
       "    <tr>\n",
       "      <th>OWNER_DIR</th>\n",
       "      <td>0.439074</td>\n",
       "    </tr>\n",
       "    <tr>\n",
       "      <th>OWNER_TYPE</th>\n",
       "      <td>0.016443</td>\n",
       "    </tr>\n",
       "    <tr>\n",
       "      <th>SITE_DIR</th>\n",
       "      <td>0.006229</td>\n",
       "    </tr>\n",
       "    <tr>\n",
       "      <th>SITE_MODE</th>\n",
       "      <td>0.000243</td>\n",
       "    </tr>\n",
       "    <tr>\n",
       "      <th>LAND_SQFT</th>\n",
       "      <td>0.000135</td>\n",
       "    </tr>\n",
       "    <tr>\n",
       "      <th>MKT_CLUS</th>\n",
       "      <td>0.000013</td>\n",
       "    </tr>\n",
       "  </tbody>\n",
       "</table>\n",
       "</div>"
      ],
      "text/plain": [
       "             percent\n",
       "SITE_MORE   0.989173\n",
       "CO_OWNER    0.980328\n",
       "OWNER_APT   0.961675\n",
       "OWNER_DIR   0.439074\n",
       "OWNER_TYPE  0.016443\n",
       "SITE_DIR    0.006229\n",
       "SITE_MODE   0.000243\n",
       "LAND_SQFT   0.000135\n",
       "MKT_CLUS    0.000013"
      ]
     },
     "execution_count": 26,
     "metadata": {},
     "output_type": "execute_result"
    }
   ],
   "source": [
    "nas=pd.DataFrame(df.isnull().sum().sort_values(ascending=False)/len(df),columns = ['percent'])\n",
    "pos = nas['percent'] > 0\n",
    "nas[pos]"
   ]
  },
  {
   "cell_type": "markdown",
   "metadata": {},
   "source": [
    "*None of the remaining columns with missing values will be of interest in the analysis, so I will ignore them for now.*"
   ]
  },
  {
   "cell_type": "markdown",
   "metadata": {
    "colab_type": "text",
    "id": "RXaBaMe916JQ"
   },
   "source": [
    "### Look for duplicate rows\n",
    "Run the code below to print out the duplicated rows.You can see there are no duplicate rows, so in this particular case there is nothing else to do related to duplicate rows. You will review duplicate or synonymous columns in Step 3 of the Guided Capstone."
   ]
  },
  {
   "cell_type": "code",
   "execution_count": 27,
   "metadata": {
    "colab": {},
    "colab_type": "code",
    "id": "c5HRbrLs16JR"
   },
   "outputs": [
    {
     "data": {
      "text/html": [
       "<div>\n",
       "<style scoped>\n",
       "    .dataframe tbody tr th:only-of-type {\n",
       "        vertical-align: middle;\n",
       "    }\n",
       "\n",
       "    .dataframe tbody tr th {\n",
       "        vertical-align: top;\n",
       "    }\n",
       "\n",
       "    .dataframe thead th {\n",
       "        text-align: right;\n",
       "    }\n",
       "</style>\n",
       "<table border=\"1\" class=\"dataframe\">\n",
       "  <thead>\n",
       "    <tr style=\"text-align: right;\">\n",
       "      <th></th>\n",
       "      <th>SCHEDNUM_x</th>\n",
       "      <th>RECEPTION_NUM</th>\n",
       "      <th>INSTRUMENT</th>\n",
       "      <th>SALE_YEAR</th>\n",
       "      <th>SALE_MONTHDAY</th>\n",
       "      <th>RECEPTION_DATE</th>\n",
       "      <th>SALE_PRICE</th>\n",
       "      <th>GRANTOR</th>\n",
       "      <th>GRANTEE</th>\n",
       "      <th>CLASS</th>\n",
       "      <th>...</th>\n",
       "      <th>UNITS</th>\n",
       "      <th>ASMT_APPR_LAND</th>\n",
       "      <th>TOTAL_VALUE</th>\n",
       "      <th>ASDLAND</th>\n",
       "      <th>ASSESS_VALUE</th>\n",
       "      <th>ASMT_TAXABLE</th>\n",
       "      <th>ASMT_EXEMPT_AMT</th>\n",
       "      <th>NBHD_1_y</th>\n",
       "      <th>NBHD_1_CN_y</th>\n",
       "      <th>LEGL_DESCRIPTION</th>\n",
       "    </tr>\n",
       "  </thead>\n",
       "  <tbody>\n",
       "  </tbody>\n",
       "</table>\n",
       "<p>0 rows × 61 columns</p>\n",
       "</div>"
      ],
      "text/plain": [
       "Empty DataFrame\n",
       "Columns: [SCHEDNUM_x, RECEPTION_NUM, INSTRUMENT, SALE_YEAR, SALE_MONTHDAY, RECEPTION_DATE, SALE_PRICE, GRANTOR, GRANTEE, CLASS, MKT_CLUS, D_CLASS, D_CLASS_CN_x, NBHD_1_x, NBHD_1_CN_x, PIN, SCHEDNUM_y, CD, OFCARD, OWNER, CO_OWNER, OWNER_NUM, OWNER_DIR, OWNER_ST, OWNER_TYPE, OWNER_APT, OWNER_CITY, OWNER_STATE, OWNER_ZIP, SITE_NBR, SITE_DIR, SITE_NAME, SITE_MODE, SITE_MORE, TAX_DIST, PROP_CLASS, PROPERTY_CLASS, ZONE10, D_CLASS_CN_y, LAND_SQFT, AREA_ABG, BSMT_AREA, FBSMT_SQFT, GRD_AREA, STORY, STYLE_CN, BED_RMS, FULL_B, HLF_B, CCYRBLT, CCAGE_RM, UNITS, ASMT_APPR_LAND, TOTAL_VALUE, ASDLAND, ASSESS_VALUE, ASMT_TAXABLE, ASMT_EXEMPT_AMT, NBHD_1_y, NBHD_1_CN_y, LEGL_DESCRIPTION]\n",
       "Index: []\n",
       "\n",
       "[0 rows x 61 columns]"
      ]
     },
     "execution_count": 27,
     "metadata": {},
     "output_type": "execute_result"
    }
   ],
   "source": [
    "duplicateRowsDF = df[df.duplicated()]\n",
    "duplicateRowsDF"
   ]
  },
  {
   "cell_type": "markdown",
   "metadata": {},
   "source": [
    "### Clean up on group sales\n",
    "After loading the data, I found that there were many transactions that appeared to have been bundled. They all have the same RECEPTION_NUM and multiple distinct properties.  The SALE_PRICE is the same for all entries, so rather than try to devise a way to split the sales across the properties, I have decided to exclude them from the analysis."
   ]
  },
  {
   "cell_type": "code",
   "execution_count": 28,
   "metadata": {},
   "outputs": [
    {
     "name": "stdout",
     "output_type": "stream",
     "text": [
      "(148335, 61)\n",
      "(141595, 61)\n"
     ]
    }
   ],
   "source": [
    "# filter out RECEPTION_NUM with more than one entry in the dataframe\n",
    "print(df.shape)\n",
    "df=df.groupby('RECEPTION_NUM').filter(lambda x: len(x) == 1)\n",
    "print(df.shape)"
   ]
  },
  {
   "cell_type": "markdown",
   "metadata": {
    "colab_type": "text",
    "id": "dWqT9uvWiypo"
   },
   "source": [
    "## Export data to a new csv file \n",
    "In order to bring the changes you made here into the next notebook, you need to write out the updated data frame to a new csv file."
   ]
  },
  {
   "cell_type": "markdown",
   "metadata": {
    "colab_type": "text",
    "id": "UsuerKEu16JU"
   },
   "source": [
    "<font color='teal'> **Export the processed dataframe as a csv file to the data folder you created earlier. Name this new csv file `step2_output.csv`.**</font>"
   ]
  },
  {
   "cell_type": "code",
   "execution_count": 29,
   "metadata": {
    "colab": {},
    "colab_type": "code",
    "id": "M4lsWjImoc3C"
   },
   "outputs": [],
   "source": [
    "df.to_csv('data\\step2_output.csv', index = False)"
   ]
  }
 ],
 "metadata": {
  "kernelspec": {
   "display_name": "Python 3",
   "language": "python",
   "name": "python3"
  },
  "language_info": {
   "codemirror_mode": {
    "name": "ipython",
    "version": 3
   },
   "file_extension": ".py",
   "mimetype": "text/x-python",
   "name": "python",
   "nbconvert_exporter": "python",
   "pygments_lexer": "ipython3",
   "version": "3.7.6"
  }
 },
 "nbformat": 4,
 "nbformat_minor": 4
}
