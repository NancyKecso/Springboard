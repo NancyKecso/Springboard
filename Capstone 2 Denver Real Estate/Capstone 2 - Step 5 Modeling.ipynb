{
 "cells": [
  {
   "cell_type": "markdown",
   "metadata": {},
   "source": [
    "##### This notebook contains the work for Step 5 of the Data Science Method.  It also contains the prep work which was completed in Step 4:\n",
    "\n",
    "**The Data Science Method**  \n",
    "\n",
    "\n",
    "1.   Problem Identification \n",
    "\n",
    "2.   Data Wrangling \n",
    "  * Data Collection \n",
    "   * Data Organization\n",
    "  * Data Definition \n",
    "  * Data Cleaning\n",
    "3.   Exploratory Data Analysis\n",
    " * Build data profile tables and plots\n",
    "        - Outliers & Anomalies\n",
    " * Explore data relationships\n",
    " * Identification and creation of features</b>\n",
    "\n",
    "4.   Pre-processing and Training Data Development\n",
    "  * Create dummy or indicator features for categorical variables\n",
    "  * Standardize the magnitude of numeric features\n",
    "  * Split into testing and training datasets\n",
    "  * Apply scaler to the testing set\n",
    "\n",
    "<b>5.   Modeling \n",
    "  * Fit Models with Training Data Set\n",
    "  * Review Model Outcomes — Iterate over additional models as needed.\n",
    "  * Identify the Final Model</b>\n",
    "\n",
    "6.   Documentation\n",
    "  * Review the Results\n",
    "  * Present and share your findings - storytelling\n",
    "  * Finalize Code \n",
    "  * Finalize Documentation"
   ]
  },
  {
   "cell_type": "markdown",
   "metadata": {},
   "source": [
    "### STEP 4: Pre-processing and Training Data Development"
   ]
  },
  {
   "cell_type": "code",
   "execution_count": 1,
   "metadata": {},
   "outputs": [],
   "source": [
    "#load python packages\n",
    "import os\n",
    "import pandas as pd\n",
    "import datetime\n",
    "import seaborn as sns\n",
    "import matplotlib.pyplot as plt\n",
    "import numpy as np\n",
    "%matplotlib inline\n",
    "from scipy.stats import chi2_contingency\n",
    "from sklearn.preprocessing import StandardScaler\n",
    "from sklearn.model_selection import train_test_split\n",
    "from pprint import pprint\n",
    "\n",
    "from sklearn import svm\n",
    "from sklearn.neighbors import KNeighborsRegressor\n",
    "from sklearn.linear_model import LinearRegression, LogisticRegression\n",
    "from sklearn.svm import SVR\n",
    "from sklearn.metrics import r2_score, explained_variance_score,mean_absolute_error\n",
    "from sklearn.ensemble import RandomForestRegressor\n",
    "from sklearn.model_selection import RandomizedSearchCV\n",
    "from scipy.stats import randint\n",
    "from timeit import default_timer as timer\n",
    "from sklearn.tree import export_graphviz\n",
    "from sklearn import tree\n",
    "from boruta import BorutaPy\n",
    "from sklearn.model_selection import GridSearchCV"
   ]
  },
  {
   "cell_type": "code",
   "execution_count": 2,
   "metadata": {},
   "outputs": [],
   "source": [
    "# set options\n",
    "pd.set_option('display.max_rows', 1500)"
   ]
  },
  {
   "cell_type": "code",
   "execution_count": 3,
   "metadata": {},
   "outputs": [
    {
     "name": "stderr",
     "output_type": "stream",
     "text": [
      "C:\\ProgramData\\Anaconda3\\lib\\site-packages\\IPython\\core\\interactiveshell.py:3063: DtypeWarning: Columns (32) have mixed types.Specify dtype option on import or set low_memory=False.\n",
      "  interactivity=interactivity, compiler=compiler, result=result)\n"
     ]
    },
    {
     "data": {
      "text/html": [
       "<div>\n",
       "<style scoped>\n",
       "    .dataframe tbody tr th:only-of-type {\n",
       "        vertical-align: middle;\n",
       "    }\n",
       "\n",
       "    .dataframe tbody tr th {\n",
       "        vertical-align: top;\n",
       "    }\n",
       "\n",
       "    .dataframe thead th {\n",
       "        text-align: right;\n",
       "    }\n",
       "</style>\n",
       "<table border=\"1\" class=\"dataframe\">\n",
       "  <thead>\n",
       "    <tr style=\"text-align: right;\">\n",
       "      <th></th>\n",
       "      <th>SCHEDNUM_x</th>\n",
       "      <th>RECEPTION_NUM</th>\n",
       "      <th>INSTRUMENT</th>\n",
       "      <th>SALE_YEAR</th>\n",
       "      <th>SALE_MONTHDAY</th>\n",
       "      <th>RECEPTION_DATE</th>\n",
       "      <th>SALE_PRICE</th>\n",
       "      <th>GRANTOR</th>\n",
       "      <th>GRANTEE</th>\n",
       "      <th>CLASS</th>\n",
       "      <th>...</th>\n",
       "      <th>UNITS</th>\n",
       "      <th>ASMT_APPR_LAND</th>\n",
       "      <th>TOTAL_VALUE</th>\n",
       "      <th>ASDLAND</th>\n",
       "      <th>ASSESS_VALUE</th>\n",
       "      <th>ASMT_TAXABLE</th>\n",
       "      <th>ASMT_EXEMPT_AMT</th>\n",
       "      <th>NBHD_1_CN_y</th>\n",
       "      <th>LEGL_DESCRIPTION</th>\n",
       "      <th>IMPROVE_VALUE</th>\n",
       "    </tr>\n",
       "  </thead>\n",
       "  <tbody>\n",
       "    <tr>\n",
       "      <th>0</th>\n",
       "      <td>14101001000</td>\n",
       "      <td>2008138043</td>\n",
       "      <td>WD</td>\n",
       "      <td>2008</td>\n",
       "      <td>703</td>\n",
       "      <td>20081008</td>\n",
       "      <td>10.0</td>\n",
       "      <td>ATKINSON,RUSSELL</td>\n",
       "      <td>DREAM BUILDERS LLC</td>\n",
       "      <td>R</td>\n",
       "      <td>...</td>\n",
       "      <td>1</td>\n",
       "      <td>103000</td>\n",
       "      <td>530200</td>\n",
       "      <td>7365</td>\n",
       "      <td>37910</td>\n",
       "      <td>37920</td>\n",
       "      <td>0</td>\n",
       "      <td>N GREEN VALLEY</td>\n",
       "      <td>GREEN VALLEY RANCH FLG #36 B1  L1</td>\n",
       "      <td>427200</td>\n",
       "    </tr>\n",
       "    <tr>\n",
       "      <th>1</th>\n",
       "      <td>14101001000</td>\n",
       "      <td>2009074518</td>\n",
       "      <td>WD</td>\n",
       "      <td>2009</td>\n",
       "      <td>605</td>\n",
       "      <td>20090615</td>\n",
       "      <td>299000.0</td>\n",
       "      <td>ATKINSON,RUSSELL</td>\n",
       "      <td>PADBURY,CHRISTOPHER R</td>\n",
       "      <td>R</td>\n",
       "      <td>...</td>\n",
       "      <td>1</td>\n",
       "      <td>103000</td>\n",
       "      <td>530200</td>\n",
       "      <td>7365</td>\n",
       "      <td>37910</td>\n",
       "      <td>37920</td>\n",
       "      <td>0</td>\n",
       "      <td>N GREEN VALLEY</td>\n",
       "      <td>GREEN VALLEY RANCH FLG #36 B1  L1</td>\n",
       "      <td>427200</td>\n",
       "    </tr>\n",
       "    <tr>\n",
       "      <th>2</th>\n",
       "      <td>14101001000</td>\n",
       "      <td>2015157653</td>\n",
       "      <td>WD</td>\n",
       "      <td>2015</td>\n",
       "      <td>1102</td>\n",
       "      <td>20151109</td>\n",
       "      <td>415000.0</td>\n",
       "      <td>PADBURY,CHRISTOPHER R</td>\n",
       "      <td>MACIEL,HORACIO PEREZ</td>\n",
       "      <td>R</td>\n",
       "      <td>...</td>\n",
       "      <td>1</td>\n",
       "      <td>103000</td>\n",
       "      <td>530200</td>\n",
       "      <td>7365</td>\n",
       "      <td>37910</td>\n",
       "      <td>37920</td>\n",
       "      <td>0</td>\n",
       "      <td>N GREEN VALLEY</td>\n",
       "      <td>GREEN VALLEY RANCH FLG #36 B1  L1</td>\n",
       "      <td>427200</td>\n",
       "    </tr>\n",
       "    <tr>\n",
       "      <th>3</th>\n",
       "      <td>14101001000</td>\n",
       "      <td>2009002129</td>\n",
       "      <td>WD</td>\n",
       "      <td>2008</td>\n",
       "      <td>1024</td>\n",
       "      <td>20090108</td>\n",
       "      <td>10.0</td>\n",
       "      <td>DREAM BUILDERS LLC</td>\n",
       "      <td>ATKINSON,RUSSELL</td>\n",
       "      <td>R</td>\n",
       "      <td>...</td>\n",
       "      <td>1</td>\n",
       "      <td>103000</td>\n",
       "      <td>530200</td>\n",
       "      <td>7365</td>\n",
       "      <td>37910</td>\n",
       "      <td>37920</td>\n",
       "      <td>0</td>\n",
       "      <td>N GREEN VALLEY</td>\n",
       "      <td>GREEN VALLEY RANCH FLG #36 B1  L1</td>\n",
       "      <td>427200</td>\n",
       "    </tr>\n",
       "    <tr>\n",
       "      <th>4</th>\n",
       "      <td>14101002000</td>\n",
       "      <td>2010094573</td>\n",
       "      <td>WD</td>\n",
       "      <td>2010</td>\n",
       "      <td>823</td>\n",
       "      <td>20100824</td>\n",
       "      <td>350000.0</td>\n",
       "      <td>SHEARON,MARK H &amp;</td>\n",
       "      <td>EFREM,TEWEDROS</td>\n",
       "      <td>R</td>\n",
       "      <td>...</td>\n",
       "      <td>1</td>\n",
       "      <td>90400</td>\n",
       "      <td>572600</td>\n",
       "      <td>6464</td>\n",
       "      <td>40941</td>\n",
       "      <td>40940</td>\n",
       "      <td>0</td>\n",
       "      <td>N GREEN VALLEY</td>\n",
       "      <td>GREEN VALLEY RANCH FLG #36 B1  L2</td>\n",
       "      <td>482200</td>\n",
       "    </tr>\n",
       "  </tbody>\n",
       "</table>\n",
       "<p>5 rows × 60 columns</p>\n",
       "</div>"
      ],
      "text/plain": [
       "    SCHEDNUM_x  RECEPTION_NUM INSTRUMENT  SALE_YEAR  SALE_MONTHDAY  \\\n",
       "0  14101001000     2008138043         WD       2008            703   \n",
       "1  14101001000     2009074518         WD       2009            605   \n",
       "2  14101001000     2015157653         WD       2015           1102   \n",
       "3  14101001000     2009002129         WD       2008           1024   \n",
       "4  14101002000     2010094573         WD       2010            823   \n",
       "\n",
       "   RECEPTION_DATE  SALE_PRICE                GRANTOR                GRANTEE  \\\n",
       "0        20081008        10.0       ATKINSON,RUSSELL     DREAM BUILDERS LLC   \n",
       "1        20090615    299000.0       ATKINSON,RUSSELL  PADBURY,CHRISTOPHER R   \n",
       "2        20151109    415000.0  PADBURY,CHRISTOPHER R   MACIEL,HORACIO PEREZ   \n",
       "3        20090108        10.0     DREAM BUILDERS LLC       ATKINSON,RUSSELL   \n",
       "4        20100824    350000.0       SHEARON,MARK H &         EFREM,TEWEDROS   \n",
       "\n",
       "  CLASS  ...  UNITS  ASMT_APPR_LAND TOTAL_VALUE  ASDLAND ASSESS_VALUE  \\\n",
       "0     R  ...      1          103000      530200     7365        37910   \n",
       "1     R  ...      1          103000      530200     7365        37910   \n",
       "2     R  ...      1          103000      530200     7365        37910   \n",
       "3     R  ...      1          103000      530200     7365        37910   \n",
       "4     R  ...      1           90400      572600     6464        40941   \n",
       "\n",
       "   ASMT_TAXABLE  ASMT_EXEMPT_AMT     NBHD_1_CN_y  \\\n",
       "0         37920                0  N GREEN VALLEY   \n",
       "1         37920                0  N GREEN VALLEY   \n",
       "2         37920                0  N GREEN VALLEY   \n",
       "3         37920                0  N GREEN VALLEY   \n",
       "4         40940                0  N GREEN VALLEY   \n",
       "\n",
       "                    LEGL_DESCRIPTION IMPROVE_VALUE  \n",
       "0  GREEN VALLEY RANCH FLG #36 B1  L1        427200  \n",
       "1  GREEN VALLEY RANCH FLG #36 B1  L1        427200  \n",
       "2  GREEN VALLEY RANCH FLG #36 B1  L1        427200  \n",
       "3  GREEN VALLEY RANCH FLG #36 B1  L1        427200  \n",
       "4  GREEN VALLEY RANCH FLG #36 B1  L2        482200  \n",
       "\n",
       "[5 rows x 60 columns]"
      ]
     },
     "execution_count": 3,
     "metadata": {},
     "output_type": "execute_result"
    }
   ],
   "source": [
    "# load the data saved from step 3\n",
    "df=pd.read_csv('data\\step3_output.csv')\n",
    "df.head()"
   ]
  },
  {
   "cell_type": "markdown",
   "metadata": {},
   "source": [
    "## Listing of fields, arranged in groups with decision about how to handle fields"
   ]
  },
  {
   "cell_type": "markdown",
   "metadata": {},
   "source": [
    "|Field|type|group|definition|notes|\n",
    "|---|---|---|---|---|\n",
    "|CCAGE_RM|float64|age|Remodel Year||\n",
    "|CCYRBLT|float64|age|Year Built||\n",
    "|RECEPTION_DATE|int64|date|Clerk & Recorder's Reception Date|drop|\n",
    "|SALE_MONTHDAY|int64|date|Sale Month/Day||\n",
    "|SALE_YEAR|int64|date|Sale Year||\n",
    "|PIN|int64|id|Assessor's Property Identification Number|drop|\n",
    "|RECEPTION_NUM|int64|id|Input Key|drop|\n",
    "|SCHEDNUM_x|int64|id|Input Key|drop|\n",
    "|CO_OWNER|object|ignore|Co-Owner|drop|\n",
    "|MKT_CLUS|float64|loc|||\n",
    "|NBHD_1_CN_x|object|loc|Neighborhood name - x|category|\n",
    "|NBHD_1_CN_y|object|loc|Neighborhood name - y|drop|\n",
    "|NBHD_1_x|int64|loc|Neighborhood code|ignore|\n",
    "|SITE_DIR|object|loc|Site Street Direction|ignore|\n",
    "|SITE_MODE|object|loc|Site Street Type|ignore|\n",
    "|SITE_MORE|object|loc|Site Unit Number|ignore|\n",
    "|SITE_NAME|object|loc|Site Street Name|ignore|\n",
    "|SITE_NBR|int64|loc|Site Street Number|ignore|\n",
    "|TAX_DIST|object|loc|Tax District|category, ignore?|\n",
    "|ZONE10|object|loc|Zone|category, ignore?|\n",
    "|CD|int64|other|Building Number|drop|\n",
    "|CLASS|object|other|#N/A|drop|\n",
    "|D_CLASS|int64|other|Property Use Class|category, ignore?|\n",
    "|D_CLASS_CN_x|object|other|Property Use Class Definition - x|drop|\n",
    "|D_CLASS_CN_y|object|other|Property Use Class Definition - y|drop|\n",
    "|GRANTEE|object|other|??|drop|\n",
    "|GRANTOR|object|other|??|drop|\n",
    "|INSTRUMENT|object|other|??|drop|\n",
    "|LEGL_DESCRIPTION|object|other|Description of the parcel per the deed |drop|\n",
    "|PROP_CLASS|int64|other|Property Class(ASMT-PROP-CODE)|only select 1112|\n",
    "|PROPERTY_CLASS|object|other|Property Class Description|drop|\n",
    "|STYLE_CN|object|other|Architecture Style Code Definition|similar to STORY but does not agree|\n",
    "|OWNER|object|owner|Owner|drop|\n",
    "|OWNER_APT|object|owner|Street Mailing Unit Number|drop|\n",
    "|OWNER_CITY|object|owner|Mailing City|drop|\n",
    "|OWNER_DIR|object|owner|Street Mailing Direction|drop|\n",
    "|OWNER_NUM|object|owner|Street Mailing Number|drop|\n",
    "|OWNER_ST|object|owner|Street Mailing Street Name|drop|\n",
    "|OWNER_STATE|object|owner|Mailing State|drop|\n",
    "|OWNER_TYPE|object|owner|Street Mailing Type|drop|\n",
    "|OWNER_ZIP|object|owner|Zip Code|drop|\n",
    "|AREA_ABG|int64|size|Above Grade Improvement Area||\n",
    "|BED_RMS|int64|size|Number of bedroom above grade||\n",
    "|BSMT_AREA|int64|size|Basement Square Footage||\n",
    "|FBSMT_SQFT|int64|size|Finished Basement Area||\n",
    "|FULL_B|float64|size|Total number of full baths||\n",
    "|GRD_AREA|int64|size|Garden Level Square Footage||\n",
    "|HLF_B|float64|size|Total number of half baths||\n",
    "|LAND_SQFT|float64|size|Land Area||\n",
    "|OFCARD|int64|size|Number of Buildings|drop|\n",
    "|STORY|int64|size|Stories||\n",
    "|UNITS|int64|size|Number of Units||\n",
    "|ASDLAND|int64|value|Assessed Land Value|drop|\n",
    "|ASMT_APPR_LAND|int64|value|Actual Land Value||\n",
    "|ASMT_EXEMPT_AMT|int64|value|Exempt Amount|drop|\n",
    "|ASMT_TAXABLE|int64|value|Taxable Amount|drop|\n",
    "|ASSESS_VALUE|int64|value|Assessed Total Value|drop|\n",
    "|IMPROVE_VALUE|int64|value|Calculated=Tot Val - Land||\n",
    "|SALE_PRICE|float64|value|Sale Price||\n",
    "|TOTAL_VALUE|int64|value|Actual Total Value|drop|\n"
   ]
  },
  {
   "cell_type": "code",
   "execution_count": 4,
   "metadata": {},
   "outputs": [],
   "source": [
    "# only select PROP_CLASS = 1112 (Single Family Residential)\n",
    "df = df[df.PROP_CLASS == 1112]"
   ]
  },
  {
   "cell_type": "code",
   "execution_count": 5,
   "metadata": {},
   "outputs": [],
   "source": [
    "# instead of looking at the year the house was built (CCYRBLT), transform it to years since built\n",
    "df = df.assign(AGE = df.SALE_YEAR-df.CCYRBLT)"
   ]
  },
  {
   "cell_type": "code",
   "execution_count": 6,
   "metadata": {},
   "outputs": [],
   "source": [
    "# instead of looking at year of remodel (CCAGE_RM), transform it to years since remodel\n",
    "df=df.assign(RM_AGE = df.SALE_YEAR-df.CCAGE_RM)\n",
    "# if remodel year is after sale (RM_AGE will be negative), then reset RM_AGE to AGE\n",
    "df.loc[df.RM_AGE < 0, 'RM_AGE'] = df.AGE\n",
    "# set remodel age to home age if no remodel year is available\n",
    "df.loc[df.CCAGE_RM == 0, 'RM_AGE'] = df.AGE"
   ]
  },
  {
   "cell_type": "code",
   "execution_count": 7,
   "metadata": {},
   "outputs": [
    {
     "name": "stdout",
     "output_type": "stream",
     "text": [
      "SALE_YEAR  CCYRBLT  CCAGE_RM  AGE    RM_AGE\n",
      "2008       1876.0   0.0       132.0  132.0       1\n",
      "           1880.0   0.0       128.0  128.0       1\n",
      "                    2001.0    128.0  7.0         1\n",
      "           1881.0   0.0       127.0  127.0       2\n",
      "                    2012.0    127.0  127.0       1\n",
      "                                              ... \n",
      "2020       2018.0   0.0       2.0    2.0        31\n",
      "                    2018.0    2.0    2.0        14\n",
      "                    2019.0    2.0    1.0         1\n",
      "           2019.0   0.0       1.0    1.0       171\n",
      "                    2019.0    1.0    1.0        18\n",
      "Length: 24363, dtype: int64\n"
     ]
    }
   ],
   "source": [
    "# show results of new columns\n",
    "print(df.groupby(['SALE_YEAR','CCYRBLT','CCAGE_RM','AGE','RM_AGE']).size())"
   ]
  },
  {
   "cell_type": "code",
   "execution_count": 8,
   "metadata": {},
   "outputs": [],
   "source": [
    "# drop columns that are not going to be used\n",
    "df.drop(['RECEPTION_DATE', 'PIN', 'RECEPTION_NUM', 'SCHEDNUM_x', 'CO_OWNER', 'NBHD_1_CN_y', 'NBHD_1_x'\n",
    "         , 'SITE_DIR', 'SITE_MODE', 'SITE_MORE', 'SITE_NAME', 'SITE_NBR', 'TAX_DIST', 'ZONE10', 'CD', 'CLASS'\n",
    "         , 'D_CLASS', 'D_CLASS_CN_x', 'D_CLASS_CN_y', 'GRANTEE', 'GRANTOR', 'INSTRUMENT', 'LEGL_DESCRIPTION'\n",
    "         , 'PROP_CLASS', 'PROPERTY_CLASS', 'STYLE_CN', 'OWNER', 'OWNER_APT', 'OWNER_CITY', 'OWNER_DIR', 'OWNER_NUM'\n",
    "         , 'OWNER_ST', 'OWNER_STATE', 'OWNER_TYPE', 'OWNER_ZIP', 'OFCARD', 'ASDLAND', 'ASMT_EXEMPT_AMT'\n",
    "         , 'ASMT_TAXABLE', 'ASSESS_VALUE', 'TOTAL_VALUE', 'CCYRBLT', 'CCAGE_RM'], axis=1, inplace=True)"
   ]
  },
  {
   "cell_type": "code",
   "execution_count": 9,
   "metadata": {},
   "outputs": [],
   "source": [
    "# drop any rows with NaN values\n",
    "df.dropna(inplace=True)"
   ]
  },
  {
   "cell_type": "code",
   "execution_count": 10,
   "metadata": {},
   "outputs": [],
   "source": [
    "# change categorical values (NBHD_1_CN_x) to indicators\n",
    "#df_inds = pd.get_dummies(data=df, columns=['NBHD_1_CN_x'],drop_first=True)"
   ]
  },
  {
   "cell_type": "code",
   "execution_count": 11,
   "metadata": {},
   "outputs": [],
   "source": [
    "#df_inds.describe().T"
   ]
  },
  {
   "cell_type": "code",
   "execution_count": 12,
   "metadata": {},
   "outputs": [],
   "source": [
    "# Create feature and target arrays\n",
    "y = df['IMPROVE_VALUE'].ravel()\n",
    "proposed = df.drop(['IMPROVE_VALUE','SALE_PRICE','NBHD_1_CN_x'], axis=1)"
   ]
  },
  {
   "cell_type": "code",
   "execution_count": 13,
   "metadata": {},
   "outputs": [
    {
     "name": "stdout",
     "output_type": "stream",
     "text": [
      "features in the green area: ['MKT_CLUS', 'LAND_SQFT', 'AREA_ABG', 'BSMT_AREA', 'FBSMT_SQFT', 'FULL_B', 'HLF_B', 'ASMT_APPR_LAND', 'AGE']\n",
      "features in the blue area: ['RM_AGE']\n"
     ]
    }
   ],
   "source": [
    "###initialize Boruta\n",
    "forest = RandomForestRegressor(\n",
    "   n_jobs = -1, \n",
    "   max_depth = 5\n",
    ")\n",
    "boruta = BorutaPy(\n",
    "   estimator = forest, \n",
    "   n_estimators = 'auto',\n",
    "   max_iter = 100 # number of trials to perform\n",
    ")\n",
    "### fit Boruta (it accepts np.array, not pd.DataFrame)\n",
    "boruta.fit(np.array(proposed),np.array(y))\n",
    "### print results\n",
    "green_area = proposed.columns[boruta.support_].to_list()\n",
    "blue_area = proposed.columns[boruta.support_weak_].to_list()\n",
    "print('features in the green area:', green_area)\n",
    "print('features in the blue area:', blue_area)"
   ]
  },
  {
   "cell_type": "code",
   "execution_count": 14,
   "metadata": {},
   "outputs": [
    {
     "data": {
      "text/html": [
       "<div>\n",
       "<style scoped>\n",
       "    .dataframe tbody tr th:only-of-type {\n",
       "        vertical-align: middle;\n",
       "    }\n",
       "\n",
       "    .dataframe tbody tr th {\n",
       "        vertical-align: top;\n",
       "    }\n",
       "\n",
       "    .dataframe thead th {\n",
       "        text-align: right;\n",
       "    }\n",
       "</style>\n",
       "<table border=\"1\" class=\"dataframe\">\n",
       "  <thead>\n",
       "    <tr style=\"text-align: right;\">\n",
       "      <th></th>\n",
       "      <th>MKT_CLUS</th>\n",
       "      <th>LAND_SQFT</th>\n",
       "      <th>AREA_ABG</th>\n",
       "      <th>BSMT_AREA</th>\n",
       "      <th>FBSMT_SQFT</th>\n",
       "      <th>FULL_B</th>\n",
       "      <th>HLF_B</th>\n",
       "      <th>ASMT_APPR_LAND</th>\n",
       "      <th>AGE</th>\n",
       "      <th>RM_AGE</th>\n",
       "    </tr>\n",
       "  </thead>\n",
       "  <tbody>\n",
       "    <tr>\n",
       "      <th>0</th>\n",
       "      <td>6.0</td>\n",
       "      <td>8622.0</td>\n",
       "      <td>4130</td>\n",
       "      <td>1771</td>\n",
       "      <td>0</td>\n",
       "      <td>5.0</td>\n",
       "      <td>0.0</td>\n",
       "      <td>103000</td>\n",
       "      <td>3.0</td>\n",
       "      <td>3.0</td>\n",
       "    </tr>\n",
       "    <tr>\n",
       "      <th>1</th>\n",
       "      <td>6.0</td>\n",
       "      <td>8622.0</td>\n",
       "      <td>4130</td>\n",
       "      <td>1771</td>\n",
       "      <td>0</td>\n",
       "      <td>5.0</td>\n",
       "      <td>0.0</td>\n",
       "      <td>103000</td>\n",
       "      <td>4.0</td>\n",
       "      <td>4.0</td>\n",
       "    </tr>\n",
       "    <tr>\n",
       "      <th>2</th>\n",
       "      <td>6.0</td>\n",
       "      <td>8622.0</td>\n",
       "      <td>4130</td>\n",
       "      <td>1771</td>\n",
       "      <td>0</td>\n",
       "      <td>5.0</td>\n",
       "      <td>0.0</td>\n",
       "      <td>103000</td>\n",
       "      <td>10.0</td>\n",
       "      <td>10.0</td>\n",
       "    </tr>\n",
       "    <tr>\n",
       "      <th>3</th>\n",
       "      <td>6.0</td>\n",
       "      <td>8622.0</td>\n",
       "      <td>4130</td>\n",
       "      <td>1771</td>\n",
       "      <td>0</td>\n",
       "      <td>5.0</td>\n",
       "      <td>0.0</td>\n",
       "      <td>103000</td>\n",
       "      <td>3.0</td>\n",
       "      <td>3.0</td>\n",
       "    </tr>\n",
       "    <tr>\n",
       "      <th>4</th>\n",
       "      <td>6.0</td>\n",
       "      <td>7232.0</td>\n",
       "      <td>3902</td>\n",
       "      <td>1540</td>\n",
       "      <td>1125</td>\n",
       "      <td>5.0</td>\n",
       "      <td>0.0</td>\n",
       "      <td>90400</td>\n",
       "      <td>5.0</td>\n",
       "      <td>5.0</td>\n",
       "    </tr>\n",
       "  </tbody>\n",
       "</table>\n",
       "</div>"
      ],
      "text/plain": [
       "   MKT_CLUS  LAND_SQFT  AREA_ABG  BSMT_AREA  FBSMT_SQFT  FULL_B  HLF_B  \\\n",
       "0       6.0     8622.0      4130       1771           0     5.0    0.0   \n",
       "1       6.0     8622.0      4130       1771           0     5.0    0.0   \n",
       "2       6.0     8622.0      4130       1771           0     5.0    0.0   \n",
       "3       6.0     8622.0      4130       1771           0     5.0    0.0   \n",
       "4       6.0     7232.0      3902       1540        1125     5.0    0.0   \n",
       "\n",
       "   ASMT_APPR_LAND   AGE  RM_AGE  \n",
       "0          103000   3.0     3.0  \n",
       "1          103000   4.0     4.0  \n",
       "2          103000  10.0    10.0  \n",
       "3          103000   3.0     3.0  \n",
       "4           90400   5.0     5.0  "
      ]
     },
     "execution_count": 14,
     "metadata": {},
     "output_type": "execute_result"
    }
   ],
   "source": [
    "X=proposed[['MKT_CLUS', 'LAND_SQFT', 'AREA_ABG', 'BSMT_AREA', 'FBSMT_SQFT', 'FULL_B', 'HLF_B', 'ASMT_APPR_LAND', 'AGE', 'RM_AGE']]\n",
    "X.head()"
   ]
  },
  {
   "cell_type": "code",
   "execution_count": 15,
   "metadata": {},
   "outputs": [],
   "source": [
    "# now scale the X data\n",
    "scaler = StandardScaler().fit(X)\n",
    "X_scaled=scaler.transform(X)"
   ]
  },
  {
   "cell_type": "code",
   "execution_count": 16,
   "metadata": {},
   "outputs": [],
   "source": [
    "# Split into training and test set\n",
    "X_train, X_test, y_train, y_test = train_test_split(X_scaled, y, test_size = 0.2, random_state=42)"
   ]
  },
  {
   "cell_type": "markdown",
   "metadata": {},
   "source": [
    "## Fit Models with Training Data Set\n",
    "\n",
    "### Test : Linear Regression, Random Forest, K Nearest Neighbors, SVR, and Logistic Regression"
   ]
  },
  {
   "cell_type": "markdown",
   "metadata": {},
   "source": [
    "### Model 1: Linear Regression"
   ]
  },
  {
   "cell_type": "code",
   "execution_count": 17,
   "metadata": {},
   "outputs": [],
   "source": [
    "lm = LinearRegression()\n",
    "model1 = lm.fit(X_train,y_train)"
   ]
  },
  {
   "cell_type": "code",
   "execution_count": 18,
   "metadata": {},
   "outputs": [],
   "source": [
    "y_pred1 =model1.predict(X_test)"
   ]
  },
  {
   "cell_type": "code",
   "execution_count": 19,
   "metadata": {},
   "outputs": [
    {
     "name": "stdout",
     "output_type": "stream",
     "text": [
      "explained variance score:  0.6654955053359728\n",
      "MAE:  98359.41404029226\n",
      "R2 Score:  0.6654683936478317\n",
      "intercept:  336830.24863234244\n"
     ]
    },
    {
     "data": {
      "text/html": [
       "<div>\n",
       "<style scoped>\n",
       "    .dataframe tbody tr th:only-of-type {\n",
       "        vertical-align: middle;\n",
       "    }\n",
       "\n",
       "    .dataframe tbody tr th {\n",
       "        vertical-align: top;\n",
       "    }\n",
       "\n",
       "    .dataframe thead th {\n",
       "        text-align: right;\n",
       "    }\n",
       "</style>\n",
       "<table border=\"1\" class=\"dataframe\">\n",
       "  <thead>\n",
       "    <tr style=\"text-align: right;\">\n",
       "      <th></th>\n",
       "      <th>Coeff</th>\n",
       "    </tr>\n",
       "  </thead>\n",
       "  <tbody>\n",
       "    <tr>\n",
       "      <th>AREA_ABG</th>\n",
       "      <td>162743.543017</td>\n",
       "    </tr>\n",
       "    <tr>\n",
       "      <th>FBSMT_SQFT</th>\n",
       "      <td>53920.748444</td>\n",
       "    </tr>\n",
       "    <tr>\n",
       "      <th>FULL_B</th>\n",
       "      <td>24906.329517</td>\n",
       "    </tr>\n",
       "    <tr>\n",
       "      <th>LAND_SQFT</th>\n",
       "      <td>24161.851322</td>\n",
       "    </tr>\n",
       "    <tr>\n",
       "      <th>HLF_B</th>\n",
       "      <td>17959.883310</td>\n",
       "    </tr>\n",
       "    <tr>\n",
       "      <th>ASMT_APPR_LAND</th>\n",
       "      <td>15523.239880</td>\n",
       "    </tr>\n",
       "    <tr>\n",
       "      <th>MKT_CLUS</th>\n",
       "      <td>12523.028427</td>\n",
       "    </tr>\n",
       "    <tr>\n",
       "      <th>RM_AGE</th>\n",
       "      <td>9195.118552</td>\n",
       "    </tr>\n",
       "    <tr>\n",
       "      <th>BSMT_AREA</th>\n",
       "      <td>4464.154858</td>\n",
       "    </tr>\n",
       "    <tr>\n",
       "      <th>AGE</th>\n",
       "      <td>3685.329314</td>\n",
       "    </tr>\n",
       "  </tbody>\n",
       "</table>\n",
       "</div>"
      ],
      "text/plain": [
       "                        Coeff\n",
       "AREA_ABG        162743.543017\n",
       "FBSMT_SQFT       53920.748444\n",
       "FULL_B           24906.329517\n",
       "LAND_SQFT        24161.851322\n",
       "HLF_B            17959.883310\n",
       "ASMT_APPR_LAND   15523.239880\n",
       "MKT_CLUS         12523.028427\n",
       "RM_AGE            9195.118552\n",
       "BSMT_AREA         4464.154858\n",
       "AGE               3685.329314"
      ]
     },
     "execution_count": 19,
     "metadata": {},
     "output_type": "execute_result"
    }
   ],
   "source": [
    "\n",
    "# show model results \n",
    "print('explained variance score: ',explained_variance_score(y_test, y_pred1))\n",
    "print('MAE: ',mean_absolute_error(y_test, y_pred1))\n",
    "print('R2 Score: ',r2_score(y_test, y_pred1))\n",
    "print('intercept: ',lm.intercept_)\n",
    "pd.DataFrame(abs(lm.coef_),X.columns,columns=['Coeff']).sort_values(by=['Coeff'],ascending=False).head(10)"
   ]
  },
  {
   "cell_type": "markdown",
   "metadata": {},
   "source": [
    "### Model 2: Random Forest"
   ]
  },
  {
   "cell_type": "code",
   "execution_count": 20,
   "metadata": {},
   "outputs": [],
   "source": [
    "rf = RandomForestRegressor(n_estimators=100, max_features='sqrt')\n",
    "model2 = rf.fit(X_train,y_train)"
   ]
  },
  {
   "cell_type": "code",
   "execution_count": 21,
   "metadata": {},
   "outputs": [],
   "source": [
    "y_pred2 =model2.predict(X_test)"
   ]
  },
  {
   "cell_type": "code",
   "execution_count": 22,
   "metadata": {},
   "outputs": [
    {
     "name": "stdout",
     "output_type": "stream",
     "text": [
      "explained variance score:  0.9158093603272732\n",
      "MAE:  34067.51596992946\n",
      "R2 score is:  0.9158081119840211\n"
     ]
    }
   ],
   "source": [
    "# show model results\n",
    "print('explained variance score: ',explained_variance_score(y_test, y_pred2))\n",
    "print('MAE: ',mean_absolute_error(y_test, y_pred2))\n",
    "print('R2 score is: ',r2_score(y_test, y_pred2))"
   ]
  },
  {
   "cell_type": "markdown",
   "metadata": {},
   "source": [
    "### Model 3: k nearest neighbors"
   ]
  },
  {
   "cell_type": "code",
   "execution_count": 23,
   "metadata": {},
   "outputs": [],
   "source": [
    "kn = KNeighborsRegressor(n_neighbors=6)\n",
    "model3 = kn.fit(X_train,y_train)"
   ]
  },
  {
   "cell_type": "code",
   "execution_count": 24,
   "metadata": {},
   "outputs": [],
   "source": [
    "y_pred3 =model3.predict(X_test)"
   ]
  },
  {
   "cell_type": "code",
   "execution_count": 25,
   "metadata": {},
   "outputs": [
    {
     "name": "stdout",
     "output_type": "stream",
     "text": [
      "explained variance score:  0.8382759279871329\n",
      "MAE:  51457.2233431092\n",
      "R2 score is:  0.8382728691916164\n"
     ]
    }
   ],
   "source": [
    "# show model results\n",
    "print('explained variance score: ',explained_variance_score(y_test, y_pred3))\n",
    "print('MAE: ',mean_absolute_error(y_test, y_pred3))\n",
    "print('R2 score is: ',r2_score(y_test, y_pred3))"
   ]
  },
  {
   "cell_type": "markdown",
   "metadata": {},
   "source": [
    "### Model 4: SVR"
   ]
  },
  {
   "cell_type": "code",
   "execution_count": 26,
   "metadata": {},
   "outputs": [],
   "source": [
    "sv = SVR(kernel='linear')\n",
    "model4 = sv.fit(X_train,y_train)"
   ]
  },
  {
   "cell_type": "code",
   "execution_count": 27,
   "metadata": {},
   "outputs": [
    {
     "name": "stdout",
     "output_type": "stream",
     "text": [
      "explained variance score:  0.3966371787007875\n",
      "MAE:  105983.11928309638\n",
      "R2 score is:  0.37353467579361754\n"
     ]
    }
   ],
   "source": [
    "# show model results\n",
    "y_pred4 =model4.predict(X_test)\n",
    "\n",
    "print('explained variance score: ',explained_variance_score(y_test, y_pred4))\n",
    "print('MAE: ',mean_absolute_error(y_test, y_pred4))\n",
    "print('R2 score is: ',r2_score(y_test, y_pred4))"
   ]
  },
  {
   "cell_type": "code",
   "execution_count": 28,
   "metadata": {},
   "outputs": [
    {
     "name": "stdout",
     "output_type": "stream",
     "text": [
      "                                 1        2        3        4\n",
      "explained variance score:     0.67     0.92     0.84     0.40 \n",
      "     mean absolute error: 98359.41 34067.52 51457.22 105983.12 \n",
      "             R2 score is:     0.67     0.92     0.84     0.37 \n"
     ]
    }
   ],
   "source": [
    "#Summarize results from all four models\n",
    "\n",
    "print ( \"                                 1        2        3        4\")\n",
    "\n",
    "print ( \"explained variance score:     %.2f     %.2f     %.2f     %.2f \" % (\n",
    "    explained_variance_score(y_test, y_pred1),\n",
    "    explained_variance_score(y_test, y_pred2),\n",
    "    explained_variance_score(y_test, y_pred3),\n",
    "    explained_variance_score(y_test, y_pred4),\n",
    "))\n",
    "\n",
    "\n",
    "\n",
    "print ( \"     mean absolute error: %.2f %.2f %.2f %.2f \" % (    \n",
    "    mean_absolute_error(y_test, y_pred1),\n",
    "    mean_absolute_error(y_test, y_pred2),\n",
    "    mean_absolute_error(y_test, y_pred3),\n",
    "    mean_absolute_error(y_test, y_pred4),\n",
    "))\n",
    "\n",
    "\n",
    "print ( \"             R2 score is:     %.2f     %.2f     %.2f     %.2f \" % (\n",
    "    r2_score(y_test, y_pred1),\n",
    "    r2_score(y_test, y_pred2),\n",
    "    r2_score(y_test, y_pred3),\n",
    "    r2_score(y_test, y_pred4),\n",
    "))\n"
   ]
  },
  {
   "cell_type": "markdown",
   "metadata": {},
   "source": [
    "## Tuning Hyperparameters of Random Forest model"
   ]
  },
  {
   "cell_type": "code",
   "execution_count": 29,
   "metadata": {},
   "outputs": [
    {
     "name": "stdout",
     "output_type": "stream",
     "text": [
      "Parameters currently in use:\n",
      "\n",
      "{'bootstrap': True,\n",
      " 'ccp_alpha': 0.0,\n",
      " 'criterion': 'mse',\n",
      " 'max_depth': None,\n",
      " 'max_features': 'sqrt',\n",
      " 'max_leaf_nodes': None,\n",
      " 'max_samples': None,\n",
      " 'min_impurity_decrease': 0.0,\n",
      " 'min_impurity_split': None,\n",
      " 'min_samples_leaf': 1,\n",
      " 'min_samples_split': 2,\n",
      " 'min_weight_fraction_leaf': 0.0,\n",
      " 'n_estimators': 100,\n",
      " 'n_jobs': None,\n",
      " 'oob_score': False,\n",
      " 'random_state': None,\n",
      " 'verbose': 0,\n",
      " 'warm_start': False}\n"
     ]
    }
   ],
   "source": [
    "# display parameters of current model\n",
    "print('Parameters currently in use:\\n')\n",
    "pprint(rf.get_params())"
   ]
  },
  {
   "cell_type": "code",
   "execution_count": 30,
   "metadata": {},
   "outputs": [
    {
     "name": "stdout",
     "output_type": "stream",
     "text": [
      "{'bootstrap': [True, False],\n",
      " 'max_depth': [1, 10, 20, 30, 40, 50, 60, 70, 80, 90, 100, None],\n",
      " 'max_features': ['auto', 'sqrt'],\n",
      " 'min_samples_leaf': [1, 3, 10],\n",
      " 'min_samples_split': [2, 5, 10],\n",
      " 'n_estimators': [10, 100]}\n"
     ]
    }
   ],
   "source": [
    "# Create the random grid\n",
    "random_grid = {\"max_features\": ['auto', 'sqrt'],\n",
    "               \"max_depth\": [1,10,20,30,40,50,60,70,80,90,100, None],\n",
    "               \"min_samples_leaf\": [1,3,10],\n",
    "               \"min_samples_split\": [2,5,10],\n",
    "               \"bootstrap\": [True, False],\n",
    "               \"n_estimators\": [10,100]}\n",
    "pprint(random_grid)"
   ]
  },
  {
   "cell_type": "code",
   "execution_count": 31,
   "metadata": {},
   "outputs": [],
   "source": [
    "# Use the random grid to search for best hyperparameters\n",
    "# First create the base model to tune\n",
    "rf2 = RandomForestRegressor()\n",
    "# Random search of parameters, using 3 fold cross validation, \n",
    "# search across 100 different combinations, and use all available cores\n",
    "rf_random = RandomizedSearchCV(estimator = rf2, param_distributions = random_grid, n_iter = 50, cv = 3, verbose=10, random_state=42, n_jobs = -1)"
   ]
  },
  {
   "cell_type": "code",
   "execution_count": 32,
   "metadata": {},
   "outputs": [
    {
     "name": "stdout",
     "output_type": "stream",
     "text": [
      "Fitting 3 folds for each of 50 candidates, totalling 150 fits\n"
     ]
    },
    {
     "name": "stderr",
     "output_type": "stream",
     "text": [
      "[Parallel(n_jobs=-1)]: Using backend LokyBackend with 6 concurrent workers.\n",
      "[Parallel(n_jobs=-1)]: Done   1 tasks      | elapsed:    4.1s\n",
      "[Parallel(n_jobs=-1)]: Done   6 tasks      | elapsed:   11.2s\n",
      "[Parallel(n_jobs=-1)]: Done  13 tasks      | elapsed:   36.7s\n",
      "[Parallel(n_jobs=-1)]: Done  20 tasks      | elapsed:  1.5min\n",
      "[Parallel(n_jobs=-1)]: Done  29 tasks      | elapsed:  2.6min\n",
      "[Parallel(n_jobs=-1)]: Done  38 tasks      | elapsed:  2.9min\n",
      "[Parallel(n_jobs=-1)]: Done  49 tasks      | elapsed:  3.5min\n",
      "[Parallel(n_jobs=-1)]: Done  60 tasks      | elapsed:  3.7min\n",
      "[Parallel(n_jobs=-1)]: Done  73 tasks      | elapsed:  5.1min\n",
      "[Parallel(n_jobs=-1)]: Done  86 tasks      | elapsed:  6.2min\n",
      "[Parallel(n_jobs=-1)]: Done 101 tasks      | elapsed:  6.6min\n",
      "[Parallel(n_jobs=-1)]: Done 116 tasks      | elapsed:  7.7min\n",
      "[Parallel(n_jobs=-1)]: Done 133 tasks      | elapsed:  9.0min\n",
      "[Parallel(n_jobs=-1)]: Done 150 out of 150 | elapsed: 10.3min finished\n"
     ]
    },
    {
     "data": {
      "text/plain": [
       "RandomizedSearchCV(cv=3, error_score=nan,\n",
       "                   estimator=RandomForestRegressor(bootstrap=True,\n",
       "                                                   ccp_alpha=0.0,\n",
       "                                                   criterion='mse',\n",
       "                                                   max_depth=None,\n",
       "                                                   max_features='auto',\n",
       "                                                   max_leaf_nodes=None,\n",
       "                                                   max_samples=None,\n",
       "                                                   min_impurity_decrease=0.0,\n",
       "                                                   min_impurity_split=None,\n",
       "                                                   min_samples_leaf=1,\n",
       "                                                   min_samples_split=2,\n",
       "                                                   min_weight_fraction_leaf=0.0,\n",
       "                                                   n_estimators=100,\n",
       "                                                   n_jobs=None, oob_score=Fals...\n",
       "                                                   warm_start=False),\n",
       "                   iid='deprecated', n_iter=50, n_jobs=-1,\n",
       "                   param_distributions={'bootstrap': [True, False],\n",
       "                                        'max_depth': [1, 10, 20, 30, 40, 50, 60,\n",
       "                                                      70, 80, 90, 100, None],\n",
       "                                        'max_features': ['auto', 'sqrt'],\n",
       "                                        'min_samples_leaf': [1, 3, 10],\n",
       "                                        'min_samples_split': [2, 5, 10],\n",
       "                                        'n_estimators': [10, 100]},\n",
       "                   pre_dispatch='2*n_jobs', random_state=42, refit=True,\n",
       "                   return_train_score=False, scoring=None, verbose=10)"
      ]
     },
     "execution_count": 32,
     "metadata": {},
     "output_type": "execute_result"
    }
   ],
   "source": [
    "# Fit the random search model\n",
    "rf_random.fit(X_train, y_train)"
   ]
  },
  {
   "cell_type": "code",
   "execution_count": 33,
   "metadata": {},
   "outputs": [
    {
     "data": {
      "text/plain": [
       "{'n_estimators': 100,\n",
       " 'min_samples_split': 2,\n",
       " 'min_samples_leaf': 1,\n",
       " 'max_features': 'sqrt',\n",
       " 'max_depth': 100,\n",
       " 'bootstrap': False}"
      ]
     },
     "execution_count": 33,
     "metadata": {},
     "output_type": "execute_result"
    }
   ],
   "source": [
    "# display best parameters\n",
    "rf_random.best_params_"
   ]
  },
  {
   "cell_type": "code",
   "execution_count": 34,
   "metadata": {},
   "outputs": [
    {
     "name": "stdout",
     "output_type": "stream",
     "text": [
      "46.56587911299994\n"
     ]
    }
   ],
   "source": [
    "start = timer()\n",
    "# rerun model with best parameters\n",
    "rf3 = RandomForestRegressor(bootstrap=False, max_depth=50, min_samples_leaf=1, min_samples_split=2, n_estimators=100, max_features='sqrt')\n",
    "model22 = rf3.fit(X_train,y_train)\n",
    "end = timer()\n",
    "print (end-start)"
   ]
  },
  {
   "cell_type": "code",
   "execution_count": 35,
   "metadata": {},
   "outputs": [],
   "source": [
    "y_pred22 =model22.predict(X_test)"
   ]
  },
  {
   "cell_type": "code",
   "execution_count": 36,
   "metadata": {},
   "outputs": [
    {
     "name": "stdout",
     "output_type": "stream",
     "text": [
      "explained variance score:  0.9299560166603671\n",
      "MAE:  27460.279150475915\n",
      "R2 score is:  0.9299507610207416\n"
     ]
    }
   ],
   "source": [
    "# show model results\n",
    "print('explained variance score: ',explained_variance_score(y_test, y_pred22))\n",
    "print('MAE: ',mean_absolute_error(y_test, y_pred22))\n",
    "print('R2 score is: ',r2_score(y_test, y_pred22))"
   ]
  },
  {
   "cell_type": "code",
   "execution_count": 37,
   "metadata": {},
   "outputs": [],
   "source": [
    "# Create the parameter grid based on the results of random search \n",
    "param_grid = {\n",
    "    'bootstrap': [False],\n",
    "    'max_depth': [80, 90, 100, 110],\n",
    "    'max_features': [2, 3, 4],\n",
    "    'min_samples_leaf': [1, 2, 10],\n",
    "    'min_samples_split': [1, 2, 10, 12],\n",
    "    'n_estimators': [100]\n",
    "}\n",
    "# Create a based model\n",
    "rfg = RandomForestRegressor()\n",
    "# Instantiate the grid search model\n",
    "grid_search = GridSearchCV(estimator = rfg, param_grid = param_grid, \n",
    "                          cv = 3, n_jobs = -1, verbose = 10)"
   ]
  },
  {
   "cell_type": "code",
   "execution_count": 38,
   "metadata": {},
   "outputs": [
    {
     "name": "stdout",
     "output_type": "stream",
     "text": [
      "Fitting 3 folds for each of 144 candidates, totalling 432 fits\n"
     ]
    },
    {
     "name": "stderr",
     "output_type": "stream",
     "text": [
      "[Parallel(n_jobs=-1)]: Using backend LokyBackend with 6 concurrent workers.\n",
      "[Parallel(n_jobs=-1)]: Done   1 tasks      | elapsed:    0.1s\n",
      "[Parallel(n_jobs=-1)]: Batch computation too fast (0.1719s.) Setting batch_size=2.\n",
      "[Parallel(n_jobs=-1)]: Done   6 tasks      | elapsed:   23.7s\n",
      "[Parallel(n_jobs=-1)]: Batch computation too slow (32.1368s.) Setting batch_size=1.\n",
      "[Parallel(n_jobs=-1)]: Done  14 tasks      | elapsed:   47.7s\n",
      "[Parallel(n_jobs=-1)]: Done  27 tasks      | elapsed:  1.5min\n",
      "[Parallel(n_jobs=-1)]: Done  41 tasks      | elapsed:  2.2min\n",
      "[Parallel(n_jobs=-1)]: Done  50 tasks      | elapsed:  2.7min\n",
      "[Parallel(n_jobs=-1)]: Done  61 tasks      | elapsed:  3.3min\n",
      "[Parallel(n_jobs=-1)]: Done  72 tasks      | elapsed:  4.0min\n",
      "[Parallel(n_jobs=-1)]: Done  85 tasks      | elapsed:  5.1min\n",
      "[Parallel(n_jobs=-1)]: Done  98 tasks      | elapsed:  6.0min\n",
      "[Parallel(n_jobs=-1)]: Done 113 tasks      | elapsed:  7.1min\n",
      "[Parallel(n_jobs=-1)]: Done 128 tasks      | elapsed:  7.8min\n",
      "[Parallel(n_jobs=-1)]: Done 145 tasks      | elapsed:  8.4min\n",
      "[Parallel(n_jobs=-1)]: Done 162 tasks      | elapsed:  9.6min\n",
      "[Parallel(n_jobs=-1)]: Done 181 tasks      | elapsed: 11.0min\n",
      "[Parallel(n_jobs=-1)]: Done 200 tasks      | elapsed: 12.9min\n",
      "[Parallel(n_jobs=-1)]: Done 221 tasks      | elapsed: 14.1min\n",
      "[Parallel(n_jobs=-1)]: Done 242 tasks      | elapsed: 15.2min\n",
      "[Parallel(n_jobs=-1)]: Done 265 tasks      | elapsed: 16.5min\n",
      "[Parallel(n_jobs=-1)]: Done 288 tasks      | elapsed: 17.7min\n",
      "[Parallel(n_jobs=-1)]: Done 313 tasks      | elapsed: 20.1min\n",
      "[Parallel(n_jobs=-1)]: Done 338 tasks      | elapsed: 21.5min\n",
      "[Parallel(n_jobs=-1)]: Done 365 tasks      | elapsed: 23.1min\n",
      "[Parallel(n_jobs=-1)]: Done 392 tasks      | elapsed: 24.6min\n",
      "[Parallel(n_jobs=-1)]: Done 421 tasks      | elapsed: 26.8min\n",
      "[Parallel(n_jobs=-1)]: Done 432 out of 432 | elapsed: 27.7min finished\n"
     ]
    },
    {
     "data": {
      "text/plain": [
       "GridSearchCV(cv=3, error_score=nan,\n",
       "             estimator=RandomForestRegressor(bootstrap=True, ccp_alpha=0.0,\n",
       "                                             criterion='mse', max_depth=None,\n",
       "                                             max_features='auto',\n",
       "                                             max_leaf_nodes=None,\n",
       "                                             max_samples=None,\n",
       "                                             min_impurity_decrease=0.0,\n",
       "                                             min_impurity_split=None,\n",
       "                                             min_samples_leaf=1,\n",
       "                                             min_samples_split=2,\n",
       "                                             min_weight_fraction_leaf=0.0,\n",
       "                                             n_estimators=100, n_jobs=None,\n",
       "                                             oob_score=False, random_state=None,\n",
       "                                             verbose=0, warm_start=False),\n",
       "             iid='deprecated', n_jobs=-1,\n",
       "             param_grid={'bootstrap': [False], 'max_depth': [80, 90, 100, 110],\n",
       "                         'max_features': [2, 3, 4],\n",
       "                         'min_samples_leaf': [1, 2, 10],\n",
       "                         'min_samples_split': [1, 2, 10, 12],\n",
       "                         'n_estimators': [100]},\n",
       "             pre_dispatch='2*n_jobs', refit=True, return_train_score=False,\n",
       "             scoring=None, verbose=10)"
      ]
     },
     "execution_count": 38,
     "metadata": {},
     "output_type": "execute_result"
    }
   ],
   "source": [
    "# Fit the grid search to the data\n",
    "grid_search.fit(X_train, y_train)"
   ]
  },
  {
   "cell_type": "code",
   "execution_count": 39,
   "metadata": {},
   "outputs": [
    {
     "data": {
      "text/plain": [
       "{'bootstrap': False,\n",
       " 'max_depth': 100,\n",
       " 'max_features': 4,\n",
       " 'min_samples_leaf': 1,\n",
       " 'min_samples_split': 2,\n",
       " 'n_estimators': 100}"
      ]
     },
     "execution_count": 39,
     "metadata": {},
     "output_type": "execute_result"
    }
   ],
   "source": [
    "#display best params\n",
    "grid_search.best_params_"
   ]
  },
  {
   "cell_type": "code",
   "execution_count": 40,
   "metadata": {},
   "outputs": [],
   "source": [
    "best_grid = grid_search.best_estimator_"
   ]
  },
  {
   "cell_type": "code",
   "execution_count": 41,
   "metadata": {},
   "outputs": [],
   "source": [
    "y_pred23 =best_grid.predict(X_test)"
   ]
  },
  {
   "cell_type": "code",
   "execution_count": 42,
   "metadata": {},
   "outputs": [
    {
     "name": "stdout",
     "output_type": "stream",
     "text": [
      "explained variance score:  0.9298258384643732\n",
      "MAE:  26645.860100417114\n",
      "R2 score is:  0.9298163248889201\n"
     ]
    }
   ],
   "source": [
    "# show model results\n",
    "print('explained variance score: ',explained_variance_score(y_test, y_pred23))\n",
    "print('MAE: ',mean_absolute_error(y_test, y_pred23))\n",
    "print('R2 score is: ',r2_score(y_test, y_pred23))"
   ]
  },
  {
   "cell_type": "code",
   "execution_count": null,
   "metadata": {},
   "outputs": [],
   "source": []
  }
 ],
 "metadata": {
  "kernelspec": {
   "display_name": "Python 3",
   "language": "python",
   "name": "python3"
  },
  "language_info": {
   "codemirror_mode": {
    "name": "ipython",
    "version": 3
   },
   "file_extension": ".py",
   "mimetype": "text/x-python",
   "name": "python",
   "nbconvert_exporter": "python",
   "pygments_lexer": "ipython3",
   "version": "3.7.6"
  }
 },
 "nbformat": 4,
 "nbformat_minor": 4
}
