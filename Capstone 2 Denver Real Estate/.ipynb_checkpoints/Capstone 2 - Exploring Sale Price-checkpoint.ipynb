{
 "cells": [
  {
   "cell_type": "code",
   "execution_count": 1,
   "metadata": {},
   "outputs": [],
   "source": [
    "#load python packages\n",
    "import os\n",
    "import pandas as pd\n",
    "import datetime\n",
    "import seaborn as sns\n",
    "import matplotlib.pyplot as plt\n",
    "import numpy as np\n",
    "%matplotlib inline\n",
    "from scipy.stats import chi2_contingency"
   ]
  },
  {
   "cell_type": "code",
   "execution_count": 2,
   "metadata": {},
   "outputs": [
    {
     "name": "stderr",
     "output_type": "stream",
     "text": [
      "C:\\Users\\Nancy\\anaconda3\\lib\\site-packages\\IPython\\core\\interactiveshell.py:3063: DtypeWarning: Columns (32) have mixed types.Specify dtype option on import or set low_memory=False.\n",
      "  interactivity=interactivity, compiler=compiler, result=result)\n"
     ]
    },
    {
     "data": {
      "text/html": [
       "<div>\n",
       "<style scoped>\n",
       "    .dataframe tbody tr th:only-of-type {\n",
       "        vertical-align: middle;\n",
       "    }\n",
       "\n",
       "    .dataframe tbody tr th {\n",
       "        vertical-align: top;\n",
       "    }\n",
       "\n",
       "    .dataframe thead th {\n",
       "        text-align: right;\n",
       "    }\n",
       "</style>\n",
       "<table border=\"1\" class=\"dataframe\">\n",
       "  <thead>\n",
       "    <tr style=\"text-align: right;\">\n",
       "      <th></th>\n",
       "      <th>SCHEDNUM_x</th>\n",
       "      <th>RECEPTION_NUM</th>\n",
       "      <th>INSTRUMENT</th>\n",
       "      <th>SALE_YEAR</th>\n",
       "      <th>SALE_MONTHDAY</th>\n",
       "      <th>RECEPTION_DATE</th>\n",
       "      <th>SALE_PRICE</th>\n",
       "      <th>GRANTOR</th>\n",
       "      <th>GRANTEE</th>\n",
       "      <th>CLASS</th>\n",
       "      <th>...</th>\n",
       "      <th>UNITS</th>\n",
       "      <th>ASMT_APPR_LAND</th>\n",
       "      <th>TOTAL_VALUE</th>\n",
       "      <th>ASDLAND</th>\n",
       "      <th>ASSESS_VALUE</th>\n",
       "      <th>ASMT_TAXABLE</th>\n",
       "      <th>ASMT_EXEMPT_AMT</th>\n",
       "      <th>NBHD_1_CN_y</th>\n",
       "      <th>LEGL_DESCRIPTION</th>\n",
       "      <th>IMPROVE_VALUE</th>\n",
       "    </tr>\n",
       "  </thead>\n",
       "  <tbody>\n",
       "    <tr>\n",
       "      <th>0</th>\n",
       "      <td>14101001000</td>\n",
       "      <td>2008138043</td>\n",
       "      <td>WD</td>\n",
       "      <td>2008</td>\n",
       "      <td>703</td>\n",
       "      <td>20081008</td>\n",
       "      <td>10.0</td>\n",
       "      <td>ATKINSON,RUSSELL</td>\n",
       "      <td>DREAM BUILDERS LLC</td>\n",
       "      <td>R</td>\n",
       "      <td>...</td>\n",
       "      <td>1</td>\n",
       "      <td>103000</td>\n",
       "      <td>530200</td>\n",
       "      <td>7365</td>\n",
       "      <td>37910</td>\n",
       "      <td>37920</td>\n",
       "      <td>0</td>\n",
       "      <td>N GREEN VALLEY</td>\n",
       "      <td>GREEN VALLEY RANCH FLG #36 B1  L1</td>\n",
       "      <td>427200</td>\n",
       "    </tr>\n",
       "    <tr>\n",
       "      <th>1</th>\n",
       "      <td>14101001000</td>\n",
       "      <td>2009074518</td>\n",
       "      <td>WD</td>\n",
       "      <td>2009</td>\n",
       "      <td>605</td>\n",
       "      <td>20090615</td>\n",
       "      <td>299000.0</td>\n",
       "      <td>ATKINSON,RUSSELL</td>\n",
       "      <td>PADBURY,CHRISTOPHER R</td>\n",
       "      <td>R</td>\n",
       "      <td>...</td>\n",
       "      <td>1</td>\n",
       "      <td>103000</td>\n",
       "      <td>530200</td>\n",
       "      <td>7365</td>\n",
       "      <td>37910</td>\n",
       "      <td>37920</td>\n",
       "      <td>0</td>\n",
       "      <td>N GREEN VALLEY</td>\n",
       "      <td>GREEN VALLEY RANCH FLG #36 B1  L1</td>\n",
       "      <td>427200</td>\n",
       "    </tr>\n",
       "    <tr>\n",
       "      <th>2</th>\n",
       "      <td>14101001000</td>\n",
       "      <td>2015157653</td>\n",
       "      <td>WD</td>\n",
       "      <td>2015</td>\n",
       "      <td>1102</td>\n",
       "      <td>20151109</td>\n",
       "      <td>415000.0</td>\n",
       "      <td>PADBURY,CHRISTOPHER R</td>\n",
       "      <td>MACIEL,HORACIO PEREZ</td>\n",
       "      <td>R</td>\n",
       "      <td>...</td>\n",
       "      <td>1</td>\n",
       "      <td>103000</td>\n",
       "      <td>530200</td>\n",
       "      <td>7365</td>\n",
       "      <td>37910</td>\n",
       "      <td>37920</td>\n",
       "      <td>0</td>\n",
       "      <td>N GREEN VALLEY</td>\n",
       "      <td>GREEN VALLEY RANCH FLG #36 B1  L1</td>\n",
       "      <td>427200</td>\n",
       "    </tr>\n",
       "    <tr>\n",
       "      <th>3</th>\n",
       "      <td>14101001000</td>\n",
       "      <td>2009002129</td>\n",
       "      <td>WD</td>\n",
       "      <td>2008</td>\n",
       "      <td>1024</td>\n",
       "      <td>20090108</td>\n",
       "      <td>10.0</td>\n",
       "      <td>DREAM BUILDERS LLC</td>\n",
       "      <td>ATKINSON,RUSSELL</td>\n",
       "      <td>R</td>\n",
       "      <td>...</td>\n",
       "      <td>1</td>\n",
       "      <td>103000</td>\n",
       "      <td>530200</td>\n",
       "      <td>7365</td>\n",
       "      <td>37910</td>\n",
       "      <td>37920</td>\n",
       "      <td>0</td>\n",
       "      <td>N GREEN VALLEY</td>\n",
       "      <td>GREEN VALLEY RANCH FLG #36 B1  L1</td>\n",
       "      <td>427200</td>\n",
       "    </tr>\n",
       "    <tr>\n",
       "      <th>4</th>\n",
       "      <td>14101002000</td>\n",
       "      <td>2010094573</td>\n",
       "      <td>WD</td>\n",
       "      <td>2010</td>\n",
       "      <td>823</td>\n",
       "      <td>20100824</td>\n",
       "      <td>350000.0</td>\n",
       "      <td>SHEARON,MARK H &amp;</td>\n",
       "      <td>EFREM,TEWEDROS</td>\n",
       "      <td>R</td>\n",
       "      <td>...</td>\n",
       "      <td>1</td>\n",
       "      <td>90400</td>\n",
       "      <td>572600</td>\n",
       "      <td>6464</td>\n",
       "      <td>40941</td>\n",
       "      <td>40940</td>\n",
       "      <td>0</td>\n",
       "      <td>N GREEN VALLEY</td>\n",
       "      <td>GREEN VALLEY RANCH FLG #36 B1  L2</td>\n",
       "      <td>482200</td>\n",
       "    </tr>\n",
       "  </tbody>\n",
       "</table>\n",
       "<p>5 rows × 60 columns</p>\n",
       "</div>"
      ],
      "text/plain": [
       "    SCHEDNUM_x  RECEPTION_NUM INSTRUMENT  SALE_YEAR  SALE_MONTHDAY  \\\n",
       "0  14101001000     2008138043         WD       2008            703   \n",
       "1  14101001000     2009074518         WD       2009            605   \n",
       "2  14101001000     2015157653         WD       2015           1102   \n",
       "3  14101001000     2009002129         WD       2008           1024   \n",
       "4  14101002000     2010094573         WD       2010            823   \n",
       "\n",
       "   RECEPTION_DATE  SALE_PRICE                GRANTOR                GRANTEE  \\\n",
       "0        20081008        10.0       ATKINSON,RUSSELL     DREAM BUILDERS LLC   \n",
       "1        20090615    299000.0       ATKINSON,RUSSELL  PADBURY,CHRISTOPHER R   \n",
       "2        20151109    415000.0  PADBURY,CHRISTOPHER R   MACIEL,HORACIO PEREZ   \n",
       "3        20090108        10.0     DREAM BUILDERS LLC       ATKINSON,RUSSELL   \n",
       "4        20100824    350000.0       SHEARON,MARK H &         EFREM,TEWEDROS   \n",
       "\n",
       "  CLASS  ...  UNITS  ASMT_APPR_LAND TOTAL_VALUE  ASDLAND ASSESS_VALUE  \\\n",
       "0     R  ...      1          103000      530200     7365        37910   \n",
       "1     R  ...      1          103000      530200     7365        37910   \n",
       "2     R  ...      1          103000      530200     7365        37910   \n",
       "3     R  ...      1          103000      530200     7365        37910   \n",
       "4     R  ...      1           90400      572600     6464        40941   \n",
       "\n",
       "   ASMT_TAXABLE  ASMT_EXEMPT_AMT     NBHD_1_CN_y  \\\n",
       "0         37920                0  N GREEN VALLEY   \n",
       "1         37920                0  N GREEN VALLEY   \n",
       "2         37920                0  N GREEN VALLEY   \n",
       "3         37920                0  N GREEN VALLEY   \n",
       "4         40940                0  N GREEN VALLEY   \n",
       "\n",
       "                    LEGL_DESCRIPTION IMPROVE_VALUE  \n",
       "0  GREEN VALLEY RANCH FLG #36 B1  L1        427200  \n",
       "1  GREEN VALLEY RANCH FLG #36 B1  L1        427200  \n",
       "2  GREEN VALLEY RANCH FLG #36 B1  L1        427200  \n",
       "3  GREEN VALLEY RANCH FLG #36 B1  L1        427200  \n",
       "4  GREEN VALLEY RANCH FLG #36 B1  L2        482200  \n",
       "\n",
       "[5 rows x 60 columns]"
      ]
     },
     "execution_count": 2,
     "metadata": {},
     "output_type": "execute_result"
    }
   ],
   "source": [
    "# load the data saved from step 3\n",
    "df=pd.read_csv('data\\step3_output.csv')\n",
    "df.head()"
   ]
  },
  {
   "cell_type": "code",
   "execution_count": 9,
   "metadata": {},
   "outputs": [
    {
     "data": {
      "image/png": "[encoded data removed]",
      "text/plain": [
       "<Figure size 432x288 with 1 Axes>"
      ]
     },
     "metadata": {
      "needs_background": "light"
     },
     "output_type": "display_data"
    }
   ],
   "source": [
    "# Generate a scatter plot of 'SALE_PRICE' grouped by 'SALE_YEAR' with a hue of 'NBHD_1_CN_y'\n",
    "\n",
    "sns.scatterplot(y='SALE_PRICE',x='SALE_YEAR',data=df)\n",
    "\n",
    "# Display the plot\n",
    "plt.show()\n"
   ]
  },
  {
   "cell_type": "code",
   "execution_count": 11,
   "metadata": {},
   "outputs": [
    {
     "data": {
      "image/png": "[encoded data removed]",
      "text/plain": [
       "<Figure size 432x288 with 1 Axes>"
      ]
     },
     "metadata": {
      "needs_background": "light"
     },
     "output_type": "display_data"
    }
   ],
   "source": [
    "# show SALE_PRICE histogram\n",
    "# Plot the histogram\n",
    "plt.hist(df.SALE_PRICE, bins=10, histtype='step')\n",
    "\n",
    "\n",
    "\n",
    "# Show the figure\n",
    "plt.show()\n"
   ]
  },
  {
   "cell_type": "code",
   "execution_count": 18,
   "metadata": {},
   "outputs": [],
   "source": [
    "# eliminate outliers first\n",
    "h2=sorted(df.IMPROVE_VALUE)\n",
    "out_threshold2= 2.0*np.std(h2+[-a for a in h])\n",
    "h2=[i for i in h2 if i<out_threshold2 ]"
   ]
  },
  {
   "cell_type": "code",
   "execution_count": 19,
   "metadata": {},
   "outputs": [
    {
     "data": {
      "image/png": "[encoded data removed]",
      "text/plain": [
       "<Figure size 432x288 with 1 Axes>"
      ]
     },
     "metadata": {
      "needs_background": "light"
     },
     "output_type": "display_data"
    }
   ],
   "source": [
    "# Plot the histogram\n",
    "plt.hist(h2, bins=20, histtype='step')\n",
    "\n",
    "\n",
    "\n",
    "# Show the figure\n",
    "plt.show()"
   ]
  },
  {
   "cell_type": "code",
   "execution_count": null,
   "metadata": {},
   "outputs": [],
   "source": [
    "# eliminate outliers first\n",
    "h2=sorted(df.SALE_PRICE)\n",
    "out_threshold= 2.0*np.std(h+[-a for a in h])\n",
    "h=[i for i in h if i<out_threshold ]"
   ]
  },
  {
   "cell_type": "code",
   "execution_count": null,
   "metadata": {},
   "outputs": [],
   "source": [
    "# Plot the histogram\n",
    "plt.hist(h, bins=20, histtype='step')\n",
    "\n",
    "\n",
    "\n",
    "# Show the figure\n",
    "plt.show()"
   ]
  }
 ],
 "metadata": {
  "kernelspec": {
   "display_name": "Python 3",
   "language": "python",
   "name": "python3"
  },
  "language_info": {
   "codemirror_mode": {
    "name": "ipython",
    "version": 3
   },
   "file_extension": ".py",
   "mimetype": "text/x-python",
   "name": "python",
   "nbconvert_exporter": "python",
   "pygments_lexer": "ipython3",
   "version": "3.7.6"
  }
 },
 "nbformat": 4,
 "nbformat_minor": 4
}
