{
 "cells": [
  {
   "cell_type": "code",
   "execution_count": 1,
   "metadata": {},
   "outputs": [],
   "source": [
    "# imports\n",
    "import sqlite3\n",
    "from sqlite3 import Error\n",
    "import pandas as pd"
   ]
  },
  {
   "cell_type": "code",
   "execution_count": 2,
   "metadata": {},
   "outputs": [
    {
     "name": "stdout",
     "output_type": "stream",
     "text": [
      "2.6.0\n"
     ]
    }
   ],
   "source": [
    "def create_connection(db_file):\n",
    "    \"\"\" create a database connection to the SQLite database\n",
    "        specified by the db_file\n",
    "    :param db_file: database file\n",
    "    :return: Connection object or None\n",
    "    \"\"\"\n",
    "    conn = None\n",
    "    try:\n",
    "        conn = sqlite3.connect(db_file)\n",
    "        print(sqlite3.version)\n",
    "    except Error as e:\n",
    "        print(e)\n",
    " \n",
    "    return conn\n",
    " \n",
    "\n",
    "\n",
    "database = \"pythonsqlite.db\"\n",
    " \n",
    "# create a database connection\n",
    "conn = create_connection(database)"
   ]
  },
  {
   "cell_type": "markdown",
   "metadata": {},
   "source": [
    "# /* Welcome to the SQL mini project. You will carry out this project partly in\n",
    "the PHPMyAdmin interface, and partly in Jupyter via a Python connection.\n",
    "\n",
    "This is Tier 1 of the case study, which means that there'll be more guidance for you about how to \n",
    "setup your local SQLite connection in PART 2 of the case study. \n",
    "\n",
    "The questions in the case study are exactly the same as with Tier 2. \n",
    "\n",
    "PART 1: PHPMyAdmin\n",
    "You will complete questions 1-9 below in the PHPMyAdmin interface. \n",
    "Log in by pasting the following URL into your browser, and\n",
    "using the following Username and Password:\n",
    "\n",
    "URL: https://sql.springboard.com/\n",
    "Username: student\n",
    "Password: learn_sql@springboard\n",
    "\n",
    "The data you need is in the \"country_club\" database. This database\n",
    "contains 3 tables:\n",
    "    i) the \"Bookings\" table,\n",
    "    ii) the \"Facilities\" table, and\n",
    "    iii) the \"Members\" table.\n",
    "\n",
    "In this case study, you'll be asked a series of questions. You can\n",
    "solve them using the platform, but for the final deliverable,\n",
    "paste the code for each solution into this script, and upload it\n",
    "to your GitHub.\n",
    "\n",
    "Before starting with the questions, feel free to take your time,\n",
    "exploring the data, and getting acquainted with the 3 tables. */\n",
    "\n",
    "\n"
   ]
  },
  {
   "cell_type": "markdown",
   "metadata": {},
   "source": [
    "# QUESTIONS 1-9 were first run on PHPMyAdmin. When they were transferred to SQLITE, the CONCAT function was repl"
   ]
  },
  {
   "cell_type": "markdown",
   "metadata": {},
   "source": [
    "# /* Q1: \n",
    "Some of the facilities charge a fee to members, but some do not.\n",
    "Write a SQL query to produce a list of the names of the facilities that do. */"
   ]
  },
  {
   "cell_type": "code",
   "execution_count": 3,
   "metadata": {},
   "outputs": [
    {
     "name": "stdout",
     "output_type": "stream",
     "text": [
      "             name\n",
      "0  Tennis Court 1\n",
      "1  Tennis Court 2\n",
      "2  Massage Room 1\n",
      "3  Massage Room 2\n",
      "4    Squash Court\n"
     ]
    }
   ],
   "source": [
    "# query and print\n",
    "with conn:\n",
    "    cur = conn.cursor()\n",
    "    \n",
    "    query01 = \"\"\"\n",
    "        SELECT name\n",
    "          FROM Facilities\n",
    "        WHERE membercost > 0\n",
    "        \"\"\"\n",
    "    rs01=cur.execute(query01)\n",
    " \n",
    "    df01=pd.DataFrame(rs01.fetchall())\n",
    "    df01.columns = [i[0] for i in rs01.description]\n",
    "    print(df01)"
   ]
  },
  {
   "cell_type": "markdown",
   "metadata": {},
   "source": [
    "# /* Q2: \n",
    "How many facilities do not charge a fee to members? */"
   ]
  },
  {
   "cell_type": "code",
   "execution_count": 4,
   "metadata": {},
   "outputs": [
    {
     "name": "stdout",
     "output_type": "stream",
     "text": [
      "   count_no_fee\n",
      "0             4\n"
     ]
    }
   ],
   "source": [
    "# query and print\n",
    "with conn:\n",
    "    cur = conn.cursor()\n",
    "    \n",
    "    query02 = \"\"\"\n",
    "        SELECT COUNT(*) AS count_no_fee\n",
    "          FROM Facilities\n",
    "         WHERE membercost = 0\n",
    "        \"\"\"\n",
    "    rs02=cur.execute(query02)\n",
    " \n",
    "    df02=pd.DataFrame(rs02.fetchall())\n",
    "    df02.columns = [i[0] for i in rs02.description]\n",
    "    print(df02)"
   ]
  },
  {
   "cell_type": "markdown",
   "metadata": {},
   "source": [
    "# /* Q3:\n",
    "Write an SQL query to show a list of facilities that charge a fee to members,\n",
    "where the fee is less than 20% of the facility's monthly maintenance cost.\n",
    "Return the facid, facility name, member cost, and monthly maintenance of the\n",
    "facilities in question. */"
   ]
  },
  {
   "cell_type": "code",
   "execution_count": 5,
   "metadata": {},
   "outputs": [
    {
     "name": "stdout",
     "output_type": "stream",
     "text": [
      "   facid            name  membercost  monthlymaintenance\n",
      "0      0  Tennis Court 1         5.0                 200\n",
      "1      1  Tennis Court 2         5.0                 200\n",
      "2      4  Massage Room 1         9.9                3000\n",
      "3      5  Massage Room 2         9.9                3000\n",
      "4      6    Squash Court         3.5                  80\n"
     ]
    }
   ],
   "source": [
    "# query and print\n",
    "with conn:\n",
    "    cur = conn.cursor()\n",
    "    \n",
    "    query03 = \"\"\"\n",
    "        SELECT facid\n",
    "              ,name\n",
    "              ,membercost\n",
    "              ,monthlymaintenance\n",
    "          FROM Facilities\n",
    "         WHERE membercost > 0\n",
    "           AND membercost < (.2*monthlymaintenance)\n",
    "        \"\"\"\n",
    "    rs03=cur.execute(query03)\n",
    "    df03=pd.DataFrame(rs03.fetchall())\n",
    "    df03.columns = [i[0] for i in rs03.description]\n",
    "    print(df03)\n"
   ]
  },
  {
   "cell_type": "markdown",
   "metadata": {},
   "source": [
    "# /* Q4:\n",
    "Write an SQL query to retrieve the details of facilities with ID 1 and 5.\n",
    "Try writing the query without using the OR operator. */"
   ]
  },
  {
   "cell_type": "code",
   "execution_count": 6,
   "metadata": {},
   "outputs": [
    {
     "name": "stdout",
     "output_type": "stream",
     "text": [
      "   facid            name  membercost  guestcost  initialoutlay  \\\n",
      "0      1  Tennis Court 2         5.0         25           8000   \n",
      "1      5  Massage Room 2         9.9         80           4000   \n",
      "\n",
      "   monthlymaintenance  \n",
      "0                 200  \n",
      "1                3000  \n"
     ]
    }
   ],
   "source": [
    "# query and print\n",
    "with conn:\n",
    "    cur = conn.cursor()\n",
    "    \n",
    "    query04 = \"\"\"\n",
    "        SELECT *\n",
    "          FROM Facilities\n",
    "         WHERE facid in (1,5)\n",
    "        \"\"\"\n",
    "    rs04=cur.execute(query04)\n",
    "    df04=pd.DataFrame(rs04.fetchall())\n",
    "    df04.columns = [i[0] for i in rs04.description]\n",
    "    print(df04)\n"
   ]
  },
  {
   "cell_type": "markdown",
   "metadata": {},
   "source": [
    "# /* Q5:\n",
    "Produce a list of facilities, with each labelled as\n",
    "'cheap' or 'expensive', depending on if their monthly maintenance cost is\n",
    "more than $100. Return the name and monthly maintenance of the facilities\n",
    "in question. */"
   ]
  },
  {
   "cell_type": "code",
   "execution_count": 7,
   "metadata": {},
   "outputs": [
    {
     "name": "stdout",
     "output_type": "stream",
     "text": [
      "              name  monthlymaintenance   Category\n",
      "0   Tennis Court 1                 200  Expensive\n",
      "1   Tennis Court 2                 200  Expensive\n",
      "2  Badminton Court                  50      Cheap\n",
      "3     Table Tennis                  10      Cheap\n",
      "4   Massage Room 1                3000  Expensive\n",
      "5   Massage Room 2                3000  Expensive\n",
      "6     Squash Court                  80      Cheap\n",
      "7    Snooker Table                  15      Cheap\n",
      "8       Pool Table                  15      Cheap\n"
     ]
    }
   ],
   "source": [
    "# query and print\n",
    "with conn:\n",
    "    cur = conn.cursor()\n",
    "    \n",
    "    query05 = \"\"\"\n",
    "        SELECT name\n",
    "              ,monthlymaintenance\n",
    "              ,CASE WHEN monthlymaintenance > 100 THEN 'Expensive'\n",
    "                    ELSE 'Cheap' END AS Category\n",
    "          FROM Facilities\n",
    "        \"\"\"\n",
    "    rs05=cur.execute(query05)\n",
    "    df05=pd.DataFrame(rs05.fetchall())\n",
    "    df05.columns = [i[0] for i in rs05.description]\n",
    "    print(df05)\n"
   ]
  },
  {
   "cell_type": "markdown",
   "metadata": {},
   "source": [
    "# /* Q6:\n",
    "You'd like to get the first and last name of the last member(s)\n",
    "who signed up. Try not to use the LIMIT clause for your solution. */"
   ]
  },
  {
   "cell_type": "code",
   "execution_count": 8,
   "metadata": {},
   "outputs": [
    {
     "name": "stdout",
     "output_type": "stream",
     "text": [
      "  firstname surname             joindate\n",
      "0    Darren   Smith  2012-09-26 18:08:45\n"
     ]
    }
   ],
   "source": [
    "# query and print\n",
    "with conn:\n",
    "    cur = conn.cursor()\n",
    "    \n",
    "    query06 = \"\"\"\n",
    "        SELECT m.firstname\n",
    "              ,m.surname\n",
    "              ,m.joindate\n",
    "          FROM Members as m\n",
    "         WHERE joindate = (SELECT MAX(joindate) FROM Members)\n",
    "        \"\"\"\n",
    "    rs06=cur.execute(query06)\n",
    "    df06=pd.DataFrame(rs06.fetchall())\n",
    "    df06.columns = [i[0] for i in rs06.description]\n",
    "    print(df06)\n"
   ]
  },
  {
   "cell_type": "markdown",
   "metadata": {},
   "source": [
    "# /* Q7:\n",
    "Produce a list of all members who have used a tennis court.\n",
    "Include in your output the name of the court, and the name of the member\n",
    "formatted as a single column. Ensure no duplicate data, and order by\n",
    "the member name. */"
   ]
  },
  {
   "cell_type": "code",
   "execution_count": 9,
   "metadata": {},
   "outputs": [
    {
     "name": "stdout",
     "output_type": "stream",
     "text": [
      "               member            name\n",
      "0          Anne Baker  Tennis Court 1\n",
      "1          Anne Baker  Tennis Court 2\n",
      "2        Burton Tracy  Tennis Court 2\n",
      "3        Burton Tracy  Tennis Court 1\n",
      "4        Charles Owen  Tennis Court 1\n",
      "5        Charles Owen  Tennis Court 2\n",
      "6        Darren Smith  Tennis Court 2\n",
      "7       David Farrell  Tennis Court 1\n",
      "8       David Farrell  Tennis Court 2\n",
      "9         David Jones  Tennis Court 2\n",
      "10        David Jones  Tennis Court 1\n",
      "11       David Pinker  Tennis Court 1\n",
      "12      Douglas Jones  Tennis Court 1\n",
      "13      Erica Crumpet  Tennis Court 1\n",
      "14     Florence Bader  Tennis Court 2\n",
      "15     Florence Bader  Tennis Court 1\n",
      "16        GUEST GUEST  Tennis Court 2\n",
      "17        GUEST GUEST  Tennis Court 1\n",
      "18     Gerald Butters  Tennis Court 1\n",
      "19     Gerald Butters  Tennis Court 2\n",
      "20   Henrietta Rumney  Tennis Court 2\n",
      "21         Jack Smith  Tennis Court 1\n",
      "22         Jack Smith  Tennis Court 2\n",
      "23    Janice Joplette  Tennis Court 1\n",
      "24    Janice Joplette  Tennis Court 2\n",
      "25     Jemima Farrell  Tennis Court 2\n",
      "26     Jemima Farrell  Tennis Court 1\n",
      "27        Joan Coplin  Tennis Court 1\n",
      "28          John Hunt  Tennis Court 1\n",
      "29          John Hunt  Tennis Court 2\n",
      "30    Matthew Genting  Tennis Court 1\n",
      "31  Millicent Purview  Tennis Court 2\n",
      "32         Nancy Dare  Tennis Court 2\n",
      "33         Nancy Dare  Tennis Court 1\n",
      "34    Ponder Stibbons  Tennis Court 2\n",
      "35    Ponder Stibbons  Tennis Court 1\n",
      "36   Ramnaresh Sarwin  Tennis Court 2\n",
      "37   Ramnaresh Sarwin  Tennis Court 1\n",
      "38         Tim Boothe  Tennis Court 2\n",
      "39         Tim Boothe  Tennis Court 1\n",
      "40         Tim Rownam  Tennis Court 2\n",
      "41         Tim Rownam  Tennis Court 1\n",
      "42      Timothy Baker  Tennis Court 2\n",
      "43      Timothy Baker  Tennis Court 1\n",
      "44        Tracy Smith  Tennis Court 1\n",
      "45        Tracy Smith  Tennis Court 2\n"
     ]
    }
   ],
   "source": [
    "# query and print\n",
    "with conn:\n",
    "    cur = conn.cursor()\n",
    "    \n",
    "    query07 = \"\"\"\n",
    "        SELECT DISTINCT\n",
    "               (m.firstname || ' ' || m.surname) AS member\n",
    "              ,f.name\n",
    "          FROM Bookings AS b\n",
    "                 INNER JOIN\n",
    "               Facilities as f\n",
    "                   ON b.facid = f.facid\n",
    "                 INNER JOIN\n",
    "               Members as m\n",
    "                   ON b.memid = m.memid\n",
    "         WHERE f.name LIKE 'Tennis%'          \n",
    "         ORDER BY member\n",
    "         \n",
    "        \"\"\"\n",
    "   \n",
    "    rs07=cur.execute(query07)\n",
    "    df07=pd.DataFrame(rs07.fetchall())\n",
    "    df07.columns = [i[0] for i in rs07.description]\n",
    "    print(df07)\n"
   ]
  },
  {
   "cell_type": "markdown",
   "metadata": {},
   "source": [
    "# /* Q8:\n",
    "Produce a list of bookings on the day of 2012-09-14 which\n",
    "will cost the member (or guest) more than $30. Remember that guests have\n",
    "different costs to members (the listed costs are per half-hour 'slot'), and\n",
    "the guest user's ID is always 0. Include in your output the name of the\n",
    "facility, the name of the member formatted as a single column, and the cost.\n",
    "Order by descending cost, and do not use any subqueries. */"
   ]
  },
  {
   "cell_type": "code",
   "execution_count": 10,
   "metadata": {},
   "outputs": [
    {
     "name": "stdout",
     "output_type": "stream",
     "text": [
      "              name          member   cost\n",
      "0   Massage Room 2     GUEST GUEST  320.0\n",
      "1   Massage Room 1     GUEST GUEST  160.0\n",
      "2   Massage Room 1     GUEST GUEST  160.0\n",
      "3   Massage Room 1     GUEST GUEST  160.0\n",
      "4   Tennis Court 2     GUEST GUEST  150.0\n",
      "5   Tennis Court 1     GUEST GUEST   75.0\n",
      "6   Tennis Court 1     GUEST GUEST   75.0\n",
      "7   Tennis Court 2     GUEST GUEST   75.0\n",
      "8     Squash Court     GUEST GUEST   70.0\n",
      "9   Massage Room 1  Jemima Farrell   39.6\n",
      "10    Squash Court     GUEST GUEST   35.0\n",
      "11    Squash Court     GUEST GUEST   35.0\n"
     ]
    }
   ],
   "source": [
    "# query and print\n",
    "with conn:\n",
    "    cur = conn.cursor()\n",
    "    \n",
    "    query08 = \"\"\"\n",
    "        SELECT f.name\n",
    "              ,(m.firstname || ' '|| m.surname) AS member\n",
    "\n",
    "              ,case when b.memid = 0 then slots * guestcost\n",
    "                    else slots * membercost END AS cost\n",
    "          from Bookings as b\n",
    "                 inner join\n",
    "               Facilities as f\n",
    "                   on b.facid = f.facid\n",
    "                 inner join\n",
    "               Members as m\n",
    "                   on b.memid = m.memid\n",
    "         WHERE DATE(starttime) = '2012-09-14'\n",
    "           AND (case when b.memid = 0 then slots * guestcost\n",
    "                     else slots * membercost END) > 30\n",
    "         ORDER BY cost desc\n",
    "        \"\"\"\n",
    "    rs08=cur.execute(query08)\n",
    "    df08=pd.DataFrame(rs08.fetchall())\n",
    "    df08.columns = [i[0] for i in rs08.description]\n",
    "    print(df08)\n"
   ]
  },
  {
   "cell_type": "markdown",
   "metadata": {},
   "source": [
    "# /* Q9:\n",
    "This time, produce the same result as in Q8, but using a subquery. */"
   ]
  },
  {
   "cell_type": "code",
   "execution_count": 11,
   "metadata": {},
   "outputs": [
    {
     "name": "stdout",
     "output_type": "stream",
     "text": [
      "              name          member   cost\n",
      "0   Massage Room 2     GUEST GUEST  320.0\n",
      "1   Massage Room 1     GUEST GUEST  160.0\n",
      "2   Massage Room 1     GUEST GUEST  160.0\n",
      "3   Massage Room 1     GUEST GUEST  160.0\n",
      "4   Tennis Court 2     GUEST GUEST  150.0\n",
      "5   Tennis Court 1     GUEST GUEST   75.0\n",
      "6   Tennis Court 1     GUEST GUEST   75.0\n",
      "7   Tennis Court 2     GUEST GUEST   75.0\n",
      "8     Squash Court     GUEST GUEST   70.0\n",
      "9   Massage Room 1  Jemima Farrell   39.6\n",
      "10    Squash Court     GUEST GUEST   35.0\n",
      "11    Squash Court     GUEST GUEST   35.0\n"
     ]
    }
   ],
   "source": [
    "# query and print\n",
    "with conn:\n",
    "    cur = conn.cursor()\n",
    "    \n",
    "    query09 = \"\"\"\n",
    "        SELECT costs.name\n",
    "              ,(m.firstname || ' ' || m.surname) AS member\n",
    "              ,costs.cost\n",
    "          from (select b.memid\n",
    "                      ,f.name\n",
    "\t                  ,case when b.memid = 0 then slots * guestcost\n",
    "                            else slots * membercost END AS cost\n",
    "                  from Bookings as b\n",
    "                         inner join\n",
    "                       Facilities as f\n",
    "                           on b.facid = f.facid\n",
    "\t\t         WHERE DATE(starttime) = '2012-09-14'\n",
    "\t          ) as costs\n",
    "                inner join\n",
    "              Members as m\n",
    "                  on costs.memid = m.memid\n",
    "         WHERE costs.cost > 30\n",
    "         ORDER BY costs.cost desc\n",
    ";\n",
    "        \"\"\"\n",
    "    rs09=cur.execute(query09)\n",
    "    df09=pd.DataFrame(rs09.fetchall())\n",
    "    df09.columns = [i[0] for i in rs09.description]\n",
    "    print(df09)\n"
   ]
  },
  {
   "cell_type": "markdown",
   "metadata": {},
   "source": [
    "# /* PART 2: SQLite\n",
    "/* We now want you to jump over to a local instance of the database on your machine. \n",
    "\n",
    "Copy and paste the LocalSQLConnection.py script into an empty Jupyter notebook, and run it. \n",
    "\n",
    "Make sure that the SQLFiles folder containing thes files is in your working directory, and\n",
    "that you haven't changed the name of the .db file from 'sqlite\\db\\pythonsqlite'.\n",
    "\n",
    "You should see the output from the initial query 'SELECT * FROM FACILITIES'.\n",
    "\n",
    "Complete the remaining tasks in the Jupyter interface. If you struggle, feel free to go back\n",
    "to the PHPMyAdmin interface as and when you need to. \n",
    "\n",
    "You'll need to paste your query into value of the 'query1' variable and run the code block again to get an output.\n"
   ]
  },
  {
   "cell_type": "raw",
   "metadata": {},
   "source": [
    "# /* Q10:\n",
    "Produce a list of facilities with a total revenue less than 1000.\n",
    "The output of facility name and total revenue, sorted by revenue. Remember\n",
    "that there's a different cost for guests and members! */"
   ]
  },
  {
   "cell_type": "code",
   "execution_count": 12,
   "metadata": {},
   "outputs": [
    {
     "name": "stdout",
     "output_type": "stream",
     "text": [
      "            name  revenue\n",
      "0   Table Tennis      180\n",
      "1  Snooker Table      240\n",
      "2     Pool Table      270\n"
     ]
    }
   ],
   "source": [
    "# query and print\n",
    "with conn:\n",
    "    cur = conn.cursor()\n",
    "    \n",
    "    query10 = \"\"\"\n",
    "        SELECT f.name\n",
    "\t          ,sum(case when b.memid = 0 then slots * guestcost\n",
    "                        else slots * membercost END) AS revenue\n",
    "          FROM Bookings as b\n",
    "                 INNER JOIN\n",
    "               Facilities as f\n",
    "\t               on b.facid = f.facid\n",
    "         GROUP BY f.name\n",
    "        HAVING revenue < 1000\n",
    "         ORDER BY revenue\n",
    "        \"\"\"\n",
    "    rs10=cur.execute(query10)\n",
    "    df10=pd.DataFrame(rs10.fetchall())\n",
    "    df10.columns = [i[0] for i in rs10.description]\n",
    "    print(df10)\n"
   ]
  },
  {
   "cell_type": "markdown",
   "metadata": {},
   "source": [
    "# /* Q11:\n",
    "Produce a report of members and who recommended them in alphabetic surname,firstname order */"
   ]
  },
  {
   "cell_type": "code",
   "execution_count": 13,
   "metadata": {},
   "outputs": [
    {
     "name": "stdout",
     "output_type": "stream",
     "text": [
      "                      member      recommended_by\n",
      "0            Bader, Florence    Stibbons, Ponder\n",
      "1                Baker, Anne    Stibbons, Ponder\n",
      "2             Baker, Timothy     Farrell, Jemima\n",
      "3                Boothe, Tim         Rownam, Tim\n",
      "4            Butters, Gerald       Smith, Darren\n",
      "5               Coplin, Joan      Baker, Timothy\n",
      "6             Crumpet, Erica        Smith, Tracy\n",
      "7                Dare, Nancy    Joplette, Janice\n",
      "8             Farrell, David                None\n",
      "9            Farrell, Jemima                None\n",
      "10          Genting, Matthew     Butters, Gerald\n",
      "11                Hunt, John  Purview, Millicent\n",
      "12              Jones, David    Joplette, Janice\n",
      "13            Jones, Douglas        Jones, David\n",
      "14          Joplette, Janice       Smith, Darren\n",
      "15           Mackenzie, Anna       Smith, Darren\n",
      "16             Owen, Charles       Smith, Darren\n",
      "17             Pinker, David     Farrell, Jemima\n",
      "18        Purview, Millicent        Smith, Tracy\n",
      "19               Rownam, Tim                None\n",
      "20         Rumney, Henrietta    Genting, Matthew\n",
      "21         Sarwin, Ramnaresh     Bader, Florence\n",
      "22             Smith, Darren                None\n",
      "23             Smith, Darren                None\n",
      "24               Smith, Jack       Smith, Darren\n",
      "25              Smith, Tracy                None\n",
      "26          Stibbons, Ponder       Tracy, Burton\n",
      "27             Tracy, Burton                None\n",
      "28      Tupperware, Hyacinth                None\n",
      "29  Worthington-Smyth, Henry        Smith, Tracy\n"
     ]
    }
   ],
   "source": [
    "# query and print\n",
    "with conn:\n",
    "    cur = conn.cursor()\n",
    "    \n",
    "    query11 = \"\"\"\n",
    "        SELECT (m.surname || ', ' || m.firstname) AS member\n",
    "              ,CASE WHEN m.recommendedby = 0 THEN 'no recommendation'\n",
    "\t                ELSE (r.surname || ', ' || r.firstname)\n",
    "\t\t\t        END as recommended_by\n",
    "          FROM Members as m\n",
    "                 LEFT JOIN\n",
    "\t           Members as r\n",
    "\t               on m.recommendedby = r.memid\n",
    "          WHERE m.memid <> 0\n",
    "          ORDER BY member\n",
    "        \"\"\"\n",
    "    rs11=cur.execute(query11)\n",
    "    df11=pd.DataFrame(rs11.fetchall())\n",
    "    df11.columns = [i[0] for i in rs11.description]\n",
    "    print(df11)\n"
   ]
  },
  {
   "cell_type": "markdown",
   "metadata": {},
   "source": [
    "# /* Q12:\n",
    "Find the facilities with their usage by member, but not guests */"
   ]
  },
  {
   "cell_type": "code",
   "execution_count": 14,
   "metadata": {},
   "outputs": [
    {
     "name": "stdout",
     "output_type": "stream",
     "text": [
      "              name  member_bookings\n",
      "0  Badminton Court              344\n",
      "1   Massage Room 1              421\n",
      "2   Massage Room 2               27\n",
      "3       Pool Table              783\n",
      "4    Snooker Table              421\n",
      "5     Squash Court              195\n",
      "6     Table Tennis              385\n",
      "7   Tennis Court 1              308\n",
      "8   Tennis Court 2              276\n"
     ]
    }
   ],
   "source": [
    "# query and print\n",
    "with conn:\n",
    "    cur = conn.cursor()\n",
    "    \n",
    "    query12 = \"\"\"\n",
    "        SELECT f.name\n",
    "              ,count(b.bookid) AS member_bookings\n",
    "          FROM Facilities as f\n",
    "\t             INNER JOIN\n",
    "\t           Bookings as b\n",
    "\t               on b.facid = f.facid \n",
    "         WHERE b.memid <> 0\n",
    "         GROUP BY f.name\n",
    "        \"\"\"\n",
    "    rs12=cur.execute(query12)\n",
    "    df12=pd.DataFrame(rs12.fetchall())\n",
    "    df12.columns = [i[0] for i in rs12.description]\n",
    "    print(df12)\n"
   ]
  },
  {
   "cell_type": "markdown",
   "metadata": {},
   "source": [
    "# /* Q13:\n",
    "Find the facilities usage by month, but not guests */"
   ]
  },
  {
   "cell_type": "code",
   "execution_count": 15,
   "metadata": {},
   "outputs": [
    {
     "name": "stdout",
     "output_type": "stream",
     "text": [
      "               name month  member_bookings\n",
      "0   Badminton Court    07               51\n",
      "1   Badminton Court    08              132\n",
      "2   Badminton Court    09              161\n",
      "3    Massage Room 1    07               77\n",
      "4    Massage Room 1    08              153\n",
      "5    Massage Room 1    09              191\n",
      "6    Massage Room 2    07                4\n",
      "7    Massage Room 2    08                9\n",
      "8    Massage Room 2    09               14\n",
      "9        Pool Table    07              103\n",
      "10       Pool Table    08              272\n",
      "11       Pool Table    09              408\n",
      "12    Snooker Table    07               68\n",
      "13    Snooker Table    08              154\n",
      "14    Snooker Table    09              199\n",
      "15     Squash Court    07               23\n",
      "16     Squash Court    08               85\n",
      "17     Squash Court    09               87\n",
      "18     Table Tennis    07               48\n",
      "19     Table Tennis    08              143\n",
      "20     Table Tennis    09              194\n",
      "21   Tennis Court 1    07               65\n",
      "22   Tennis Court 1    08              111\n",
      "23   Tennis Court 1    09              132\n",
      "24   Tennis Court 2    07               41\n",
      "25   Tennis Court 2    08              109\n",
      "26   Tennis Court 2    09              126\n"
     ]
    }
   ],
   "source": [
    "# query and print\n",
    "with conn:\n",
    "    cur = conn.cursor()\n",
    "    \n",
    "    query13 = \"\"\"\n",
    "        SELECT f.name\n",
    "              ,strftime('%m', b.starttime) AS month\n",
    "              ,count(b.bookid) AS member_bookings\n",
    "          FROM Facilities as f\n",
    "                 INNER JOIN\n",
    "               Bookings as b\n",
    "                   on b.facid = f.facid \n",
    "         WHERE b.memid <> 0\n",
    "         GROUP BY month,f.name\n",
    "         ORDER BY f.name,month\n",
    "        \"\"\"\n",
    "    rs13=cur.execute(query13)\n",
    "    df13=pd.DataFrame(rs13.fetchall())\n",
    "    df13.columns = [i[0] for i in rs13.description]\n",
    "    print(df13)\n"
   ]
  }
 ],
 "metadata": {
  "kernelspec": {
   "display_name": "Python 3",
   "language": "python",
   "name": "python3"
  },
  "language_info": {
   "codemirror_mode": {
    "name": "ipython",
    "version": 3
   },
   "file_extension": ".py",
   "mimetype": "text/x-python",
   "name": "python",
   "nbconvert_exporter": "python",
   "pygments_lexer": "ipython3",
   "version": "3.7.6"
  }
 },
 "nbformat": 4,
 "nbformat_minor": 4
}
