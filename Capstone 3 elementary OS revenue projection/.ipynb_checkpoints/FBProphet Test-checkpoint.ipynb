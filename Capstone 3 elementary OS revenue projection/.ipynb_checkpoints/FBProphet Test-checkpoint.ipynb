{
 "cells": [
  {
   "cell_type": "markdown",
   "metadata": {
    "colab_type": "text",
    "id": "cf5CmXQCZyF1"
   },
   "source": [
    "# Capstone 3: Step 4 - Pre-processing and Training Data Development"
   ]
  },
  {
   "cell_type": "markdown",
   "metadata": {
    "colab_type": "text",
    "id": "JbZXsVevfr9M"
   },
   "source": [
    "### **The Data Science Method**  \n",
    "\n",
    "\n",
    "1.   Problem Identification \n",
    "\n",
    "2.   Data Wrangling \n",
    "  \n",
    "3.   Exploratory Data Analysis \n",
    " \n",
    "4.   **Pre-processing and Training Data Development**\n",
    "\n",
    "5.  Modeling\n",
    "  * Fit Models with Training Data Set\n",
    "  * Review Model Outcomes — Iterate over additional models as needed.\n",
    "  * Identify the Final Model\n",
    "\n",
    "6.   Documentation\n",
    "  * Review the Results\n",
    "  * Present and share your findings - storytelling\n",
    "  * Finalize Code \n",
    "  * Finalize Documentation"
   ]
  },
  {
   "cell_type": "code",
   "execution_count": 1,
   "metadata": {
    "colab": {},
    "colab_type": "code",
    "id": "ry6WPL5eZyF3"
   },
   "outputs": [
    {
     "name": "stdout",
     "output_type": "stream",
     "text": [
      "C:\\Users\\Nancy\\Documents\\GitHub\\Springboard\\Capstone 3 elementary OS revenue projection\n"
     ]
    }
   ],
   "source": [
    "#load python packages\n",
    "import os\n",
    "import pandas as pd\n",
    "import datetime\n",
    "import seaborn as sns\n",
    "import matplotlib.pyplot as plt\n",
    "import numpy as np\n",
    "%matplotlib inline\n",
    "from sklearn import preprocessing\n",
    "from sklearn.model_selection import train_test_split\n",
    "from statsmodels.tsa.stattools import kpss\n",
    "from sklearn.metrics import mean_squared_error\n",
    "from statsmodels.tsa.arima_model import ARIMA\n",
    "import warnings\n",
    "import datetime\n",
    "from statsmodels.tsa.seasonal import seasonal_decompose\n",
    "from fbprophet import Prophet\n",
    "# print the current working directory\n",
    "print(os.getcwd())"
   ]
  },
  {
   "cell_type": "code",
   "execution_count": 2,
   "metadata": {},
   "outputs": [],
   "source": [
    "pd.set_option('display.max_columns',None)"
   ]
  },
  {
   "cell_type": "markdown",
   "metadata": {
    "colab_type": "text",
    "id": "630T-ogRZyF8"
   },
   "source": [
    "## Load the data"
   ]
  },
  {
   "cell_type": "code",
   "execution_count": 39,
   "metadata": {},
   "outputs": [
    {
     "data": {
      "text/html": [
       "<div>\n",
       "<style scoped>\n",
       "    .dataframe tbody tr th:only-of-type {\n",
       "        vertical-align: middle;\n",
       "    }\n",
       "\n",
       "    .dataframe tbody tr th {\n",
       "        vertical-align: top;\n",
       "    }\n",
       "\n",
       "    .dataframe thead th {\n",
       "        text-align: right;\n",
       "    }\n",
       "</style>\n",
       "<table border=\"1\" class=\"dataframe\">\n",
       "  <thead>\n",
       "    <tr style=\"text-align: right;\">\n",
       "      <th></th>\n",
       "      <th>Amount</th>\n",
       "      <th>ds</th>\n",
       "    </tr>\n",
       "  </thead>\n",
       "  <tbody>\n",
       "    <tr>\n",
       "      <th>2000-01-03</th>\n",
       "      <td>200</td>\n",
       "      <td>2000-01-03</td>\n",
       "    </tr>\n",
       "    <tr>\n",
       "      <th>2000-01-04</th>\n",
       "      <td>224</td>\n",
       "      <td>2000-01-04</td>\n",
       "    </tr>\n",
       "    <tr>\n",
       "      <th>2000-01-05</th>\n",
       "      <td>224</td>\n",
       "      <td>2000-01-05</td>\n",
       "    </tr>\n",
       "    <tr>\n",
       "      <th>2000-01-06</th>\n",
       "      <td>232</td>\n",
       "      <td>2000-01-06</td>\n",
       "    </tr>\n",
       "    <tr>\n",
       "      <th>2000-01-07</th>\n",
       "      <td>277</td>\n",
       "      <td>2000-01-07</td>\n",
       "    </tr>\n",
       "  </tbody>\n",
       "</table>\n",
       "</div>"
      ],
      "text/plain": [
       "            Amount         ds\n",
       "2000-01-03     200 2000-01-03\n",
       "2000-01-04     224 2000-01-04\n",
       "2000-01-05     224 2000-01-05\n",
       "2000-01-06     232 2000-01-06\n",
       "2000-01-07     277 2000-01-07"
      ]
     },
     "execution_count": 39,
     "metadata": {},
     "output_type": "execute_result"
    }
   ],
   "source": [
    "# create dummy data\n",
    "\n",
    "from pandas import util\n",
    "df= util.testing.makeTimeDataFrame(nper=150)\n",
    "df['Amount']=np.random.randint(low=200, high=300, size=150)\n",
    "df['ds']=df.index\n",
    "df.drop(['A','B','C','D'],axis=1,inplace=True)\n",
    "df.head()\n"
   ]
  },
  {
   "cell_type": "code",
   "execution_count": 40,
   "metadata": {},
   "outputs": [
    {
     "data": {
      "text/html": [
       "<div>\n",
       "<style scoped>\n",
       "    .dataframe tbody tr th:only-of-type {\n",
       "        vertical-align: middle;\n",
       "    }\n",
       "\n",
       "    .dataframe tbody tr th {\n",
       "        vertical-align: top;\n",
       "    }\n",
       "\n",
       "    .dataframe thead th {\n",
       "        text-align: right;\n",
       "    }\n",
       "</style>\n",
       "<table border=\"1\" class=\"dataframe\">\n",
       "  <thead>\n",
       "    <tr style=\"text-align: right;\">\n",
       "      <th></th>\n",
       "      <th>Amount</th>\n",
       "      <th>ds</th>\n",
       "    </tr>\n",
       "  </thead>\n",
       "  <tbody>\n",
       "    <tr>\n",
       "      <th>2000-02-10</th>\n",
       "      <td>256</td>\n",
       "      <td>2000-02-10</td>\n",
       "    </tr>\n",
       "    <tr>\n",
       "      <th>2000-02-11</th>\n",
       "      <td>228</td>\n",
       "      <td>2000-02-11</td>\n",
       "    </tr>\n",
       "    <tr>\n",
       "      <th>2000-02-14</th>\n",
       "      <td>1284</td>\n",
       "      <td>2000-02-14</td>\n",
       "    </tr>\n",
       "    <tr>\n",
       "      <th>2000-02-15</th>\n",
       "      <td>1276</td>\n",
       "      <td>2000-02-15</td>\n",
       "    </tr>\n",
       "    <tr>\n",
       "      <th>2000-02-16</th>\n",
       "      <td>1278</td>\n",
       "      <td>2000-02-16</td>\n",
       "    </tr>\n",
       "    <tr>\n",
       "      <th>2000-02-17</th>\n",
       "      <td>1205</td>\n",
       "      <td>2000-02-17</td>\n",
       "    </tr>\n",
       "    <tr>\n",
       "      <th>2000-02-18</th>\n",
       "      <td>1232</td>\n",
       "      <td>2000-02-18</td>\n",
       "    </tr>\n",
       "    <tr>\n",
       "      <th>2000-02-21</th>\n",
       "      <td>261</td>\n",
       "      <td>2000-02-21</td>\n",
       "    </tr>\n",
       "    <tr>\n",
       "      <th>2000-02-22</th>\n",
       "      <td>262</td>\n",
       "      <td>2000-02-22</td>\n",
       "    </tr>\n",
       "  </tbody>\n",
       "</table>\n",
       "</div>"
      ],
      "text/plain": [
       "            Amount         ds\n",
       "2000-02-10     256 2000-02-10\n",
       "2000-02-11     228 2000-02-11\n",
       "2000-02-14    1284 2000-02-14\n",
       "2000-02-15    1276 2000-02-15\n",
       "2000-02-16    1278 2000-02-16\n",
       "2000-02-17    1205 2000-02-17\n",
       "2000-02-18    1232 2000-02-18\n",
       "2000-02-21     261 2000-02-21\n",
       "2000-02-22     262 2000-02-22"
      ]
     },
     "execution_count": 40,
     "metadata": {},
     "output_type": "execute_result"
    }
   ],
   "source": [
    "df.loc['2000-02-14','Amount'] = np.random.randint(low=1200, high=1300, size=1)\n",
    "df.loc['2000-02-15','Amount'] = np.random.randint(low=1200, high=1300, size=1)\n",
    "df.loc['2000-02-16','Amount'] = np.random.randint(low=1200, high=1300, size=1)\n",
    "df.loc['2000-02-17','Amount'] = np.random.randint(low=1200, high=1300, size=1)\n",
    "df.loc['2000-02-18','Amount'] = np.random.randint(low=1200, high=1300, size=1)\n",
    "\n",
    "df.loc['2000-02-10':'2000-02-22']"
   ]
  },
  {
   "cell_type": "markdown",
   "metadata": {},
   "source": [
    "# Capstone 3: Step 5 - Modeling"
   ]
  },
  {
   "cell_type": "code",
   "execution_count": 41,
   "metadata": {},
   "outputs": [
    {
     "name": "stdout",
     "output_type": "stream",
     "text": [
      "          ds          holiday\n",
      "0 2000-02-14  Forbes Article \n"
     ]
    }
   ],
   "source": [
    "# load holidays dataframe\n",
    "holidays=pd.DataFrame([['2000-02-14','Forbes Article ']],columns=['ds','holiday'])\n",
    "holidays['ds']=pd.to_datetime(holidays['ds'])\n",
    "print(holidays)"
   ]
  },
  {
   "cell_type": "code",
   "execution_count": 47,
   "metadata": {},
   "outputs": [],
   "source": [
    "# instantiate Prophet model\n",
    "model1=Prophet(holidays=holidays)"
   ]
  },
  {
   "cell_type": "code",
   "execution_count": 48,
   "metadata": {},
   "outputs": [],
   "source": [
    "# log transform the y variable to try to convert from non-stationary to stationary\n",
    "df['y']=np.log(df['Amount'])"
   ]
  },
  {
   "cell_type": "code",
   "execution_count": 49,
   "metadata": {},
   "outputs": [],
   "source": [
    "# Split data between train and test\n",
    "split=int(len(df) * 0.8) \n",
    "# Make train and test variables, with 'train, test'\n",
    "train, test = df[0:split], df[split:len(df)]"
   ]
  },
  {
   "cell_type": "code",
   "execution_count": 50,
   "metadata": {},
   "outputs": [
    {
     "data": {
      "image/png": "[encoded data removed]",
      "text/plain": [
       "<Figure size 1080x360 with 1 Axes>"
      ]
     },
     "metadata": {
      "needs_background": "light"
     },
     "output_type": "display_data"
    }
   ],
   "source": [
    "# plot data\n",
    "fig, ax = plt.subplots(figsize=(15, 5))\n",
    "ax.plot(train['ds'], train['Amount'], linestyle='None', marker='o', color='black', label='Train')\n",
    "ax.plot(test['ds'], test['Amount'], linestyle='None', marker='o', color='red', label='Test')\n",
    "ax.legend()\n",
    "ax.set_xlabel('Date')\n",
    "ax.set_ylabel('Revenues');"
   ]
  },
  {
   "cell_type": "markdown",
   "metadata": {},
   "source": [
    "### Fit the model on the training dataset"
   ]
  },
  {
   "cell_type": "code",
   "execution_count": 51,
   "metadata": {},
   "outputs": [
    {
     "name": "stderr",
     "output_type": "stream",
     "text": [
      "INFO:fbprophet:Disabling yearly seasonality. Run prophet with yearly_seasonality=True to override this.\n",
      "INFO:fbprophet:Disabling daily seasonality. Run prophet with daily_seasonality=True to override this.\n"
     ]
    },
    {
     "data": {
      "text/plain": [
       "<fbprophet.forecaster.Prophet at 0x1b2bbee4508>"
      ]
     },
     "execution_count": 51,
     "metadata": {},
     "output_type": "execute_result"
    }
   ],
   "source": [
    "# fit Prophet model with training data\n",
    "model1.fit(train)"
   ]
  },
  {
   "cell_type": "markdown",
   "metadata": {},
   "source": [
    "### run predict on all of the data (both train and test)"
   ]
  },
  {
   "cell_type": "code",
   "execution_count": 52,
   "metadata": {},
   "outputs": [],
   "source": [
    "forecast = model1.predict(df)"
   ]
  },
  {
   "cell_type": "code",
   "execution_count": 53,
   "metadata": {},
   "outputs": [],
   "source": [
    "pd.set_option('display.max_rows',1500)"
   ]
  },
  {
   "cell_type": "code",
   "execution_count": 54,
   "metadata": {},
   "outputs": [
    {
     "data": {
      "text/html": [
       "<div>\n",
       "<style scoped>\n",
       "    .dataframe tbody tr th:only-of-type {\n",
       "        vertical-align: middle;\n",
       "    }\n",
       "\n",
       "    .dataframe tbody tr th {\n",
       "        vertical-align: top;\n",
       "    }\n",
       "\n",
       "    .dataframe thead th {\n",
       "        text-align: right;\n",
       "    }\n",
       "</style>\n",
       "<table border=\"1\" class=\"dataframe\">\n",
       "  <thead>\n",
       "    <tr style=\"text-align: right;\">\n",
       "      <th></th>\n",
       "      <th>count</th>\n",
       "      <th>mean</th>\n",
       "      <th>std</th>\n",
       "      <th>min</th>\n",
       "      <th>25%</th>\n",
       "      <th>50%</th>\n",
       "      <th>75%</th>\n",
       "      <th>max</th>\n",
       "    </tr>\n",
       "  </thead>\n",
       "  <tbody>\n",
       "    <tr>\n",
       "      <th>trend</th>\n",
       "      <td>150.0</td>\n",
       "      <td>5.493953</td>\n",
       "      <td>0.076366</td>\n",
       "      <td>5.349744</td>\n",
       "      <td>5.427635</td>\n",
       "      <td>5.507046</td>\n",
       "      <td>5.563923</td>\n",
       "      <td>5.593423</td>\n",
       "    </tr>\n",
       "    <tr>\n",
       "      <th>yhat_lower</th>\n",
       "      <td>150.0</td>\n",
       "      <td>5.118519</td>\n",
       "      <td>0.081723</td>\n",
       "      <td>4.954109</td>\n",
       "      <td>5.056177</td>\n",
       "      <td>5.133548</td>\n",
       "      <td>5.188567</td>\n",
       "      <td>5.248601</td>\n",
       "    </tr>\n",
       "    <tr>\n",
       "      <th>yhat_upper</th>\n",
       "      <td>150.0</td>\n",
       "      <td>5.972807</td>\n",
       "      <td>0.077070</td>\n",
       "      <td>5.827728</td>\n",
       "      <td>5.913888</td>\n",
       "      <td>5.978860</td>\n",
       "      <td>6.038123</td>\n",
       "      <td>6.110130</td>\n",
       "    </tr>\n",
       "    <tr>\n",
       "      <th>trend_lower</th>\n",
       "      <td>150.0</td>\n",
       "      <td>5.493006</td>\n",
       "      <td>0.077987</td>\n",
       "      <td>5.338514</td>\n",
       "      <td>5.427635</td>\n",
       "      <td>5.507046</td>\n",
       "      <td>5.563923</td>\n",
       "      <td>5.593423</td>\n",
       "    </tr>\n",
       "    <tr>\n",
       "      <th>trend_upper</th>\n",
       "      <td>150.0</td>\n",
       "      <td>5.494888</td>\n",
       "      <td>0.074806</td>\n",
       "      <td>5.361245</td>\n",
       "      <td>5.427635</td>\n",
       "      <td>5.507046</td>\n",
       "      <td>5.563923</td>\n",
       "      <td>5.593423</td>\n",
       "    </tr>\n",
       "    <tr>\n",
       "      <th>Forbes Article</th>\n",
       "      <td>150.0</td>\n",
       "      <td>0.000000</td>\n",
       "      <td>0.000000</td>\n",
       "      <td>0.000000</td>\n",
       "      <td>0.000000</td>\n",
       "      <td>0.000000</td>\n",
       "      <td>0.000000</td>\n",
       "      <td>0.000000</td>\n",
       "    </tr>\n",
       "    <tr>\n",
       "      <th>Forbes Article _lower</th>\n",
       "      <td>150.0</td>\n",
       "      <td>0.000000</td>\n",
       "      <td>0.000000</td>\n",
       "      <td>0.000000</td>\n",
       "      <td>0.000000</td>\n",
       "      <td>0.000000</td>\n",
       "      <td>0.000000</td>\n",
       "      <td>0.000000</td>\n",
       "    </tr>\n",
       "    <tr>\n",
       "      <th>Forbes Article _upper</th>\n",
       "      <td>150.0</td>\n",
       "      <td>0.000000</td>\n",
       "      <td>0.000000</td>\n",
       "      <td>0.000000</td>\n",
       "      <td>0.000000</td>\n",
       "      <td>0.000000</td>\n",
       "      <td>0.000000</td>\n",
       "      <td>0.000000</td>\n",
       "    </tr>\n",
       "    <tr>\n",
       "      <th>additive_terms</th>\n",
       "      <td>150.0</td>\n",
       "      <td>0.050695</td>\n",
       "      <td>0.009684</td>\n",
       "      <td>0.031517</td>\n",
       "      <td>0.053714</td>\n",
       "      <td>0.055337</td>\n",
       "      <td>0.055734</td>\n",
       "      <td>0.057174</td>\n",
       "    </tr>\n",
       "    <tr>\n",
       "      <th>additive_terms_lower</th>\n",
       "      <td>150.0</td>\n",
       "      <td>0.050695</td>\n",
       "      <td>0.009684</td>\n",
       "      <td>0.031517</td>\n",
       "      <td>0.053714</td>\n",
       "      <td>0.055337</td>\n",
       "      <td>0.055734</td>\n",
       "      <td>0.057174</td>\n",
       "    </tr>\n",
       "    <tr>\n",
       "      <th>additive_terms_upper</th>\n",
       "      <td>150.0</td>\n",
       "      <td>0.050695</td>\n",
       "      <td>0.009684</td>\n",
       "      <td>0.031517</td>\n",
       "      <td>0.053714</td>\n",
       "      <td>0.055337</td>\n",
       "      <td>0.055734</td>\n",
       "      <td>0.057174</td>\n",
       "    </tr>\n",
       "    <tr>\n",
       "      <th>holidays</th>\n",
       "      <td>150.0</td>\n",
       "      <td>0.000000</td>\n",
       "      <td>0.000000</td>\n",
       "      <td>0.000000</td>\n",
       "      <td>0.000000</td>\n",
       "      <td>0.000000</td>\n",
       "      <td>0.000000</td>\n",
       "      <td>0.000000</td>\n",
       "    </tr>\n",
       "    <tr>\n",
       "      <th>holidays_lower</th>\n",
       "      <td>150.0</td>\n",
       "      <td>0.000000</td>\n",
       "      <td>0.000000</td>\n",
       "      <td>0.000000</td>\n",
       "      <td>0.000000</td>\n",
       "      <td>0.000000</td>\n",
       "      <td>0.000000</td>\n",
       "      <td>0.000000</td>\n",
       "    </tr>\n",
       "    <tr>\n",
       "      <th>holidays_upper</th>\n",
       "      <td>150.0</td>\n",
       "      <td>0.000000</td>\n",
       "      <td>0.000000</td>\n",
       "      <td>0.000000</td>\n",
       "      <td>0.000000</td>\n",
       "      <td>0.000000</td>\n",
       "      <td>0.000000</td>\n",
       "      <td>0.000000</td>\n",
       "    </tr>\n",
       "    <tr>\n",
       "      <th>weekly</th>\n",
       "      <td>150.0</td>\n",
       "      <td>0.050695</td>\n",
       "      <td>0.009684</td>\n",
       "      <td>0.031517</td>\n",
       "      <td>0.053714</td>\n",
       "      <td>0.055337</td>\n",
       "      <td>0.055734</td>\n",
       "      <td>0.057174</td>\n",
       "    </tr>\n",
       "    <tr>\n",
       "      <th>weekly_lower</th>\n",
       "      <td>150.0</td>\n",
       "      <td>0.050695</td>\n",
       "      <td>0.009684</td>\n",
       "      <td>0.031517</td>\n",
       "      <td>0.053714</td>\n",
       "      <td>0.055337</td>\n",
       "      <td>0.055734</td>\n",
       "      <td>0.057174</td>\n",
       "    </tr>\n",
       "    <tr>\n",
       "      <th>weekly_upper</th>\n",
       "      <td>150.0</td>\n",
       "      <td>0.050695</td>\n",
       "      <td>0.009684</td>\n",
       "      <td>0.031517</td>\n",
       "      <td>0.053714</td>\n",
       "      <td>0.055337</td>\n",
       "      <td>0.055734</td>\n",
       "      <td>0.057174</td>\n",
       "    </tr>\n",
       "    <tr>\n",
       "      <th>multiplicative_terms</th>\n",
       "      <td>150.0</td>\n",
       "      <td>0.000000</td>\n",
       "      <td>0.000000</td>\n",
       "      <td>0.000000</td>\n",
       "      <td>0.000000</td>\n",
       "      <td>0.000000</td>\n",
       "      <td>0.000000</td>\n",
       "      <td>0.000000</td>\n",
       "    </tr>\n",
       "    <tr>\n",
       "      <th>multiplicative_terms_lower</th>\n",
       "      <td>150.0</td>\n",
       "      <td>0.000000</td>\n",
       "      <td>0.000000</td>\n",
       "      <td>0.000000</td>\n",
       "      <td>0.000000</td>\n",
       "      <td>0.000000</td>\n",
       "      <td>0.000000</td>\n",
       "      <td>0.000000</td>\n",
       "    </tr>\n",
       "    <tr>\n",
       "      <th>multiplicative_terms_upper</th>\n",
       "      <td>150.0</td>\n",
       "      <td>0.000000</td>\n",
       "      <td>0.000000</td>\n",
       "      <td>0.000000</td>\n",
       "      <td>0.000000</td>\n",
       "      <td>0.000000</td>\n",
       "      <td>0.000000</td>\n",
       "      <td>0.000000</td>\n",
       "    </tr>\n",
       "    <tr>\n",
       "      <th>yhat</th>\n",
       "      <td>150.0</td>\n",
       "      <td>5.544648</td>\n",
       "      <td>0.076966</td>\n",
       "      <td>5.384301</td>\n",
       "      <td>5.480306</td>\n",
       "      <td>5.556411</td>\n",
       "      <td>5.613900</td>\n",
       "      <td>5.649339</td>\n",
       "    </tr>\n",
       "  </tbody>\n",
       "</table>\n",
       "</div>"
      ],
      "text/plain": [
       "                            count      mean       std       min       25%  \\\n",
       "trend                       150.0  5.493953  0.076366  5.349744  5.427635   \n",
       "yhat_lower                  150.0  5.118519  0.081723  4.954109  5.056177   \n",
       "yhat_upper                  150.0  5.972807  0.077070  5.827728  5.913888   \n",
       "trend_lower                 150.0  5.493006  0.077987  5.338514  5.427635   \n",
       "trend_upper                 150.0  5.494888  0.074806  5.361245  5.427635   \n",
       "Forbes Article              150.0  0.000000  0.000000  0.000000  0.000000   \n",
       "Forbes Article _lower       150.0  0.000000  0.000000  0.000000  0.000000   \n",
       "Forbes Article _upper       150.0  0.000000  0.000000  0.000000  0.000000   \n",
       "additive_terms              150.0  0.050695  0.009684  0.031517  0.053714   \n",
       "additive_terms_lower        150.0  0.050695  0.009684  0.031517  0.053714   \n",
       "additive_terms_upper        150.0  0.050695  0.009684  0.031517  0.053714   \n",
       "holidays                    150.0  0.000000  0.000000  0.000000  0.000000   \n",
       "holidays_lower              150.0  0.000000  0.000000  0.000000  0.000000   \n",
       "holidays_upper              150.0  0.000000  0.000000  0.000000  0.000000   \n",
       "weekly                      150.0  0.050695  0.009684  0.031517  0.053714   \n",
       "weekly_lower                150.0  0.050695  0.009684  0.031517  0.053714   \n",
       "weekly_upper                150.0  0.050695  0.009684  0.031517  0.053714   \n",
       "multiplicative_terms        150.0  0.000000  0.000000  0.000000  0.000000   \n",
       "multiplicative_terms_lower  150.0  0.000000  0.000000  0.000000  0.000000   \n",
       "multiplicative_terms_upper  150.0  0.000000  0.000000  0.000000  0.000000   \n",
       "yhat                        150.0  5.544648  0.076966  5.384301  5.480306   \n",
       "\n",
       "                                 50%       75%       max  \n",
       "trend                       5.507046  5.563923  5.593423  \n",
       "yhat_lower                  5.133548  5.188567  5.248601  \n",
       "yhat_upper                  5.978860  6.038123  6.110130  \n",
       "trend_lower                 5.507046  5.563923  5.593423  \n",
       "trend_upper                 5.507046  5.563923  5.593423  \n",
       "Forbes Article              0.000000  0.000000  0.000000  \n",
       "Forbes Article _lower       0.000000  0.000000  0.000000  \n",
       "Forbes Article _upper       0.000000  0.000000  0.000000  \n",
       "additive_terms              0.055337  0.055734  0.057174  \n",
       "additive_terms_lower        0.055337  0.055734  0.057174  \n",
       "additive_terms_upper        0.055337  0.055734  0.057174  \n",
       "holidays                    0.000000  0.000000  0.000000  \n",
       "holidays_lower              0.000000  0.000000  0.000000  \n",
       "holidays_upper              0.000000  0.000000  0.000000  \n",
       "weekly                      0.055337  0.055734  0.057174  \n",
       "weekly_lower                0.055337  0.055734  0.057174  \n",
       "weekly_upper                0.055337  0.055734  0.057174  \n",
       "multiplicative_terms        0.000000  0.000000  0.000000  \n",
       "multiplicative_terms_lower  0.000000  0.000000  0.000000  \n",
       "multiplicative_terms_upper  0.000000  0.000000  0.000000  \n",
       "yhat                        5.556411  5.613900  5.649339  "
      ]
     },
     "execution_count": 54,
     "metadata": {},
     "output_type": "execute_result"
    }
   ],
   "source": [
    "forecast.describe().T"
   ]
  },
  {
   "cell_type": "code",
   "execution_count": 14,
   "metadata": {},
   "outputs": [
    {
     "data": {
      "image/png": "[encoded data removed]",
      "text/plain": [
       "<Figure size 648x432 with 2 Axes>"
      ]
     },
     "execution_count": 14,
     "metadata": {},
     "output_type": "execute_result"
    },
    {
     "data": {
      "image/png": "[encoded data removed]",
      "text/plain": [
       "<Figure size 648x432 with 2 Axes>"
      ]
     },
     "metadata": {},
     "output_type": "display_data"
    }
   ],
   "source": [
    "# plot outcomes\n",
    "model1.plot_components(forecast)"
   ]
  },
  {
   "cell_type": "markdown",
   "metadata": {},
   "source": [
    "### Plot forecast, train and test dataset"
   ]
  },
  {
   "cell_type": "code",
   "execution_count": 15,
   "metadata": {},
   "outputs": [
    {
     "data": {
      "image/png": "[encoded data removed]",
      "text/plain": [
       "<Figure size 1080x360 with 1 Axes>"
      ]
     },
     "metadata": {
      "needs_background": "light"
     },
     "output_type": "display_data"
    }
   ],
   "source": [
    "fig, ax = plt.subplots(figsize=(15, 5))\n",
    "ax.plot(train['ds'], train['Amount'], c='black', marker='o', ms=3, linestyle='None', label='Train')\n",
    "ax.plot(test['ds'], test['Amount'], c='r', marker='o', ms=3, linestyle='None', label='Test')\n",
    "ax.plot(forecast['ds'], np.exp(forecast['yhat']), c='b', marker='o', ms=3, linestyle='None', label='Forecast', alpha=0.5)\n",
    "ax.legend()\n",
    "ax.set_xlabel('Date')\n",
    "ax.set_ylabel('Revenue');"
   ]
  },
  {
   "cell_type": "code",
   "execution_count": 16,
   "metadata": {},
   "outputs": [
    {
     "data": {
      "text/html": [
       "<div>\n",
       "<style scoped>\n",
       "    .dataframe tbody tr th:only-of-type {\n",
       "        vertical-align: middle;\n",
       "    }\n",
       "\n",
       "    .dataframe tbody tr th {\n",
       "        vertical-align: top;\n",
       "    }\n",
       "\n",
       "    .dataframe thead th {\n",
       "        text-align: right;\n",
       "    }\n",
       "</style>\n",
       "<table border=\"1\" class=\"dataframe\">\n",
       "  <thead>\n",
       "    <tr style=\"text-align: right;\">\n",
       "      <th></th>\n",
       "      <th>ds</th>\n",
       "      <th>holiday</th>\n",
       "    </tr>\n",
       "  </thead>\n",
       "  <tbody>\n",
       "    <tr>\n",
       "      <th>0</th>\n",
       "      <td>2019-12-03</td>\n",
       "      <td>Forbes Article</td>\n",
       "    </tr>\n",
       "  </tbody>\n",
       "</table>\n",
       "</div>"
      ],
      "text/plain": [
       "          ds          holiday\n",
       "0 2019-12-03  Forbes Article "
      ]
     },
     "execution_count": 16,
     "metadata": {},
     "output_type": "execute_result"
    }
   ],
   "source": [
    "holidays"
   ]
  },
  {
   "cell_type": "code",
   "execution_count": 17,
   "metadata": {},
   "outputs": [
    {
     "data": {
      "text/html": [
       "<div>\n",
       "<style scoped>\n",
       "    .dataframe tbody tr th:only-of-type {\n",
       "        vertical-align: middle;\n",
       "    }\n",
       "\n",
       "    .dataframe tbody tr th {\n",
       "        vertical-align: top;\n",
       "    }\n",
       "\n",
       "    .dataframe thead th {\n",
       "        text-align: right;\n",
       "    }\n",
       "</style>\n",
       "<table border=\"1\" class=\"dataframe\">\n",
       "  <thead>\n",
       "    <tr style=\"text-align: right;\">\n",
       "      <th></th>\n",
       "      <th>ds</th>\n",
       "      <th>trend</th>\n",
       "      <th>yhat_lower</th>\n",
       "      <th>yhat_upper</th>\n",
       "      <th>trend_lower</th>\n",
       "      <th>trend_upper</th>\n",
       "      <th>Forbes Article</th>\n",
       "      <th>Forbes Article _lower</th>\n",
       "      <th>Forbes Article _upper</th>\n",
       "      <th>additive_terms</th>\n",
       "      <th>additive_terms_lower</th>\n",
       "      <th>additive_terms_upper</th>\n",
       "      <th>holidays</th>\n",
       "      <th>holidays_lower</th>\n",
       "      <th>holidays_upper</th>\n",
       "      <th>multiplicative_terms</th>\n",
       "      <th>multiplicative_terms_lower</th>\n",
       "      <th>multiplicative_terms_upper</th>\n",
       "      <th>yhat</th>\n",
       "    </tr>\n",
       "  </thead>\n",
       "  <tbody>\n",
       "    <tr>\n",
       "      <th>57</th>\n",
       "      <td>2019-12-04</td>\n",
       "      <td>6.14204</td>\n",
       "      <td>5.455352</td>\n",
       "      <td>6.832196</td>\n",
       "      <td>6.14204</td>\n",
       "      <td>6.14204</td>\n",
       "      <td>0.0</td>\n",
       "      <td>0.0</td>\n",
       "      <td>0.0</td>\n",
       "      <td>0.0</td>\n",
       "      <td>0.0</td>\n",
       "      <td>0.0</td>\n",
       "      <td>0.0</td>\n",
       "      <td>0.0</td>\n",
       "      <td>0.0</td>\n",
       "      <td>0.0</td>\n",
       "      <td>0.0</td>\n",
       "      <td>0.0</td>\n",
       "      <td>6.14204</td>\n",
       "    </tr>\n",
       "  </tbody>\n",
       "</table>\n",
       "</div>"
      ],
      "text/plain": [
       "           ds    trend  yhat_lower  yhat_upper  trend_lower  trend_upper  \\\n",
       "57 2019-12-04  6.14204    5.455352    6.832196      6.14204      6.14204   \n",
       "\n",
       "    Forbes Article   Forbes Article _lower  Forbes Article _upper  \\\n",
       "57              0.0                    0.0                    0.0   \n",
       "\n",
       "    additive_terms  additive_terms_lower  additive_terms_upper  holidays  \\\n",
       "57             0.0                   0.0                   0.0       0.0   \n",
       "\n",
       "    holidays_lower  holidays_upper  multiplicative_terms  \\\n",
       "57             0.0             0.0                   0.0   \n",
       "\n",
       "    multiplicative_terms_lower  multiplicative_terms_upper     yhat  \n",
       "57                         0.0                         0.0  6.14204  "
      ]
     },
     "execution_count": 17,
     "metadata": {},
     "output_type": "execute_result"
    }
   ],
   "source": [
    "forecast.loc[forecast.ds=='2019-12-04']"
   ]
  },
  {
   "cell_type": "code",
   "execution_count": 18,
   "metadata": {},
   "outputs": [
    {
     "ename": "NameError",
     "evalue": "name 'dfsum' is not defined",
     "output_type": "error",
     "traceback": [
      "\u001b[1;31m---------------------------------------------------------------------------\u001b[0m",
      "\u001b[1;31mNameError\u001b[0m                                 Traceback (most recent call last)",
      "\u001b[1;32m<ipython-input-18-01a48560a466>\u001b[0m in \u001b[0;36m<module>\u001b[1;34m\u001b[0m\n\u001b[1;32m----> 1\u001b[1;33m \u001b[1;32mfor\u001b[0m \u001b[0mi\u001b[0m\u001b[1;33m,\u001b[0m \u001b[0mrow\u001b[0m \u001b[1;32min\u001b[0m \u001b[0mdfsum\u001b[0m\u001b[1;33m.\u001b[0m\u001b[0miterrows\u001b[0m\u001b[1;33m(\u001b[0m\u001b[1;33m)\u001b[0m\u001b[1;33m:\u001b[0m\u001b[1;33m\u001b[0m\u001b[1;33m\u001b[0m\u001b[0m\n\u001b[0m\u001b[0;32m      2\u001b[0m     \u001b[0mdate_idx\u001b[0m \u001b[1;33m=\u001b[0m \u001b[0mi\u001b[0m\u001b[1;33m\u001b[0m\u001b[1;33m\u001b[0m\u001b[0m\n\u001b[0;32m      3\u001b[0m     \u001b[0mall_row\u001b[0m \u001b[1;33m=\u001b[0m \u001b[0mrow\u001b[0m\u001b[1;33m[\u001b[0m\u001b[1;34m'y_orig'\u001b[0m\u001b[1;33m]\u001b[0m\u001b[1;33m\u001b[0m\u001b[1;33m\u001b[0m\u001b[0m\n\u001b[0;32m      4\u001b[0m     \u001b[0mprint\u001b[0m\u001b[1;33m(\u001b[0m\u001b[0mdate_idx\u001b[0m\u001b[1;33m,\u001b[0m \u001b[0mall_row\u001b[0m\u001b[1;33m)\u001b[0m\u001b[1;33m\u001b[0m\u001b[1;33m\u001b[0m\u001b[0m\n",
      "\u001b[1;31mNameError\u001b[0m: name 'dfsum' is not defined"
     ]
    }
   ],
   "source": [
    "for i, row in dfsum.iterrows():\n",
    "    date_idx = i\n",
    "    all_row = row['y_orig']\n",
    "    print(date_idx, all_row)"
   ]
  }
 ],
 "metadata": {
  "kernelspec": {
   "display_name": "Python 3",
   "language": "python",
   "name": "python3"
  },
  "language_info": {
   "codemirror_mode": {
    "name": "ipython",
    "version": 3
   },
   "file_extension": ".py",
   "mimetype": "text/x-python",
   "name": "python",
   "nbconvert_exporter": "python",
   "pygments_lexer": "ipython3",
   "version": "3.7.6"
  }
 },
 "nbformat": 4,
 "nbformat_minor": 2
}
